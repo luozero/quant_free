{
 "cells": [
  {
   "cell_type": "code",
   "execution_count": 1,
   "id": "c09aacca-53c4-4b23-b02a-712199abf5fa",
   "metadata": {
    "execution": {
     "iopub.execute_input": "2023-04-18T03:19:09.699285Z",
     "iopub.status.busy": "2023-04-18T03:19:09.699285Z",
     "iopub.status.idle": "2023-04-18T03:19:09.716250Z",
     "shell.execute_reply": "2023-04-18T03:19:09.715242Z",
     "shell.execute_reply.started": "2023-04-18T03:19:09.699285Z"
    },
    "tags": []
   },
   "outputs": [
    {
     "name": "stdout",
     "output_type": "stream",
     "text": [
      "Overwriting Cacher.py\n"
     ]
    }
   ],
   "source": [
    "\n",
    "# %%writefile Cacher.py\n",
    "\n",
    "import sys\n",
    "import os \n",
    "module_path = os.path.abspath(os.path.join('..')) \n",
    "if module_path not in sys.path: \n",
    "    sys.path.append(module_path)\n",
    "\n",
    "from enum import Enum\n",
    "import warnings\n",
    "import pandas as pd\n",
    "import numpy as np\n",
    "\n",
    "import tools.Sample_Tools as smpl\n",
    "\n",
    "__cache_dir__ = '/home/disk1/quantaxis/kaikai/data/'\n",
    "__file_type__ = '.feather'\n",
    "\n",
    "class CACHE_TYPE(Enum):\n",
    "    default = ''\n",
    "    STOCK = 'stock/'\n",
    "    FACTOR = 'factor/'\n",
    "    MARKET = 'market/'\n",
    "    TMP = 'tmp/'\n",
    "    \n",
    "# df = smpl.get_sample_by_zs(name='沪深300', end='2021-11-28', gap=2500,  only_main=True, filter_st=True).data\n",
    "# df.to_parquet(__cache_dir__+'test.parquet')\n",
    "\n",
    "def file_path(file_name, cache_type=CACHE_TYPE.default):\n",
    "    # print(__cache_dir__ + cache_type.value + file_name + __file_type__)\n",
    "    return __cache_dir__ + cache_type.value + file_name + __file_type__\n",
    "\n",
    "def is_cache_exist(cache_name, cache_type=CACHE_TYPE.default):\n",
    "    return os.path.exists(file_path(cache_name,cache_type))\n",
    "\n",
    "def save_cache(name, data, cache_type=CACHE_TYPE.default):\n",
    "    data.reset_index().to_feather(file_path(name,cache_type=cache_type))\n",
    "    \n",
    "def load_cache(cache_name:str, to_series:bool=False, time_flag:str='date',cache_type=CACHE_TYPE.default):\n",
    "    if not is_cache_exist(cache_name,cache_type=cache_type):\n",
    "        warnings.warn('{} cache not exist, create first'.format(cache_name)) \n",
    "        return None\n",
    "        \n",
    "    df = pd.read_feather(file_path(cache_name, cache_type=cache_type)).set_index([time_flag,'code']).sort_index(level=0)\n",
    "    if to_series:\n",
    "        df =  df.squeeze()\n",
    "    return df\n",
    "\n",
    "def load_cache_adv(cache_name:str, start:str, end:str, to_series:bool=False, time_flag:str='date',cache_type=CACHE_TYPE.default):\n",
    "    if not is_cache_exist(cache_name,cache_type=cache_type):\n",
    "        warnings.warn('{} cache not exist, create first'.format(cache_name)) \n",
    "        return None\n",
    "        \n",
    "    st = pd.Timestamp(start) \n",
    "    en = pd.Timestamp(end) \n",
    "\n",
    "    df = pd.read_feather(file_path(cache_name, cache_type=cache_type)).set_index([time_flag,'code']).sort_index(level=0)\n",
    "    dt_index = df.index.get_level_values(0)\n",
    "    date_range = dt_index.unique()\n",
    "    if not (st >= date_range.min() and en <= date_range.max()):\n",
    "        info = '\"{}\"：date range out of cache[{},{}]'.format(\n",
    "            cache_name,\n",
    "            date_range.min().strftime('%Y-%m-%d %H:%M:%S'), \n",
    "            date_range.max().strftime('%Y-%m-%d %H:%M:%S')\n",
    "        )\n",
    "        warnings.warn(info)\n",
    "        \n",
    "    df = df.loc[(dt_index >= start) & (dt_index <= end)]\n",
    "\n",
    "    if to_series:\n",
    "        df =  df.squeeze()\n",
    "    return df\n",
    "\n",
    "\n",
    "def load_caches_adv(cache_names:list, start:str=None, end:str=None, time_flag:str='date',cache_type=CACHE_TYPE.default):\n",
    "    if not start is None:\n",
    "        assert not end is None, 'start and end must not be None at the same time,or be None at the same time'\n",
    "    assert isinstance(cache_names,list), 'cache_names MUST be list'\n",
    "    \n",
    "    tmp = None\n",
    "    for name in cache_names:\n",
    "        if start is None:\n",
    "            df = load_cache(name,cache_type=cache_type)\n",
    "        else:\n",
    "            df = load_cache_adv(name,start,end,time_flag=time_flag,cache_type=cache_type)\n",
    "        tmp = pd.concat([tmp,df],axis=1) \n",
    "        \n",
    "    return tmp.sort_index()\n",
    "     \n",
    "    \n",
    "        "
   ]
  },
  {
   "cell_type": "code",
   "execution_count": 2,
   "id": "5bea2938-a841-4124-a0c8-9669c93c2524",
   "metadata": {
    "execution": {
     "iopub.execute_input": "2022-10-14T08:23:52.541406Z",
     "iopub.status.busy": "2022-10-14T08:23:52.540564Z",
     "iopub.status.idle": "2022-10-14T08:23:52.550755Z",
     "shell.execute_reply": "2022-10-14T08:23:52.550755Z",
     "shell.execute_reply.started": "2022-10-14T08:23:52.541406Z"
    },
    "tags": []
   },
   "outputs": [
    {
     "ename": "NameError",
     "evalue": "name '__cache_dir__' is not defined",
     "output_type": "error",
     "traceback": [
      "\u001b[0;31m---------------------------------------------------------------------------\u001b[0m",
      "\u001b[0;31mNameError\u001b[0m                                 Traceback (most recent call last)",
      "Cell \u001b[0;32mIn[2], line 1\u001b[0m\n\u001b[0;32m----> 1\u001b[0m \u001b[39mprint\u001b[39m(__cache_dir__  \u001b[39m+\u001b[39m  CACHE_TYPE\u001b[39m.\u001b[39mSTOCK\u001b[39m.\u001b[39mvalue \u001b[39m+\u001b[39m \u001b[39m\"\u001b[39m\u001b[39mfile_name\u001b[39m\u001b[39m\"\u001b[39m \u001b[39m+\u001b[39m __file_type__ )\n",
      "\u001b[0;31mNameError\u001b[0m: name '__cache_dir__' is not defined"
     ]
    },
    {
     "ename": "",
     "evalue": "",
     "output_type": "error",
     "traceback": [
      "\u001b[1;31mThe Kernel crashed while executing code in the the current cell or a previous cell. Please review the code in the cell(s) to identify a possible cause of the failure. Click <a href='https://aka.ms/vscodeJupyterKernelCrash'>here</a> for more info. View Jupyter <a href='command:jupyter.viewOutput'>log</a> for further details."
     ]
    }
   ],
   "source": [
    "print(__cache_dir__  +  CACHE_TYPE.STOCK.value + \"file_name\" + __file_type__ )"
   ]
  },
  {
   "cell_type": "code",
   "execution_count": null,
   "id": "e66435a6",
   "metadata": {},
   "outputs": [],
   "source": []
  },
  {
   "cell_type": "code",
   "execution_count": 10,
   "id": "fd023f9f-27e9-4f6d-8145-14ad3b803054",
   "metadata": {
    "execution": {
     "iopub.execute_input": "2022-03-03T17:43:08.282483Z",
     "iopub.status.busy": "2022-03-03T17:43:08.282483Z",
     "iopub.status.idle": "2022-03-03T17:43:09.688588Z",
     "shell.execute_reply": "2022-03-03T17:43:09.688588Z",
     "shell.execute_reply.started": "2022-03-03T17:43:08.282483Z"
    },
    "tags": []
   },
   "outputs": [
    {
     "name": "stderr",
     "output_type": "stream",
     "text": [
      "/tmp/ipykernel_125603/1697193992.py:66: UserWarning: \"alpha8_train\"：date range out of cache[2016-01-04 00:00:00,2020-12-31 00:00:00]\n",
      "  warnings.warn(info)\n",
      "/tmp/ipykernel_125603/1697193992.py:66: UserWarning: \"alpha90_train\"：date range out of cache[2016-01-04 00:00:00,2020-12-31 00:00:00]\n",
      "  warnings.warn(info)\n"
     ]
    },
    {
     "data": {
      "text/html": [
       "<div>\n",
       "<style scoped>\n",
       "    .dataframe tbody tr th:only-of-type {\n",
       "        vertical-align: middle;\n",
       "    }\n",
       "\n",
       "    .dataframe tbody tr th {\n",
       "        vertical-align: top;\n",
       "    }\n",
       "\n",
       "    .dataframe thead th {\n",
       "        text-align: right;\n",
       "    }\n",
       "</style>\n",
       "<table border=\"1\" class=\"dataframe\">\n",
       "  <thead>\n",
       "    <tr style=\"text-align: right;\">\n",
       "      <th></th>\n",
       "      <th></th>\n",
       "      <th>alpha8</th>\n",
       "      <th>alpha90</th>\n",
       "    </tr>\n",
       "    <tr>\n",
       "      <th>date</th>\n",
       "      <th>code</th>\n",
       "      <th></th>\n",
       "      <th></th>\n",
       "    </tr>\n",
       "  </thead>\n",
       "  <tbody>\n",
       "    <tr>\n",
       "      <th rowspan=\"5\" valign=\"top\">2016-01-04</th>\n",
       "      <th>000001</th>\n",
       "      <td>NaN</td>\n",
       "      <td>NaN</td>\n",
       "    </tr>\n",
       "    <tr>\n",
       "      <th>000063</th>\n",
       "      <td>NaN</td>\n",
       "      <td>NaN</td>\n",
       "    </tr>\n",
       "    <tr>\n",
       "      <th>000069</th>\n",
       "      <td>NaN</td>\n",
       "      <td>NaN</td>\n",
       "    </tr>\n",
       "    <tr>\n",
       "      <th>000100</th>\n",
       "      <td>NaN</td>\n",
       "      <td>NaN</td>\n",
       "    </tr>\n",
       "    <tr>\n",
       "      <th>000157</th>\n",
       "      <td>NaN</td>\n",
       "      <td>NaN</td>\n",
       "    </tr>\n",
       "    <tr>\n",
       "      <th>...</th>\n",
       "      <th>...</th>\n",
       "      <td>...</td>\n",
       "      <td>...</td>\n",
       "    </tr>\n",
       "    <tr>\n",
       "      <th rowspan=\"5\" valign=\"top\">2020-11-11</th>\n",
       "      <th>603806</th>\n",
       "      <td>-0.064007</td>\n",
       "      <td>-0.094402</td>\n",
       "    </tr>\n",
       "    <tr>\n",
       "      <th>603833</th>\n",
       "      <td>-0.394209</td>\n",
       "      <td>-0.243124</td>\n",
       "    </tr>\n",
       "    <tr>\n",
       "      <th>603899</th>\n",
       "      <td>-0.085619</td>\n",
       "      <td>-0.188633</td>\n",
       "    </tr>\n",
       "    <tr>\n",
       "      <th>603986</th>\n",
       "      <td>-0.284698</td>\n",
       "      <td>-0.025761</td>\n",
       "    </tr>\n",
       "    <tr>\n",
       "      <th>603993</th>\n",
       "      <td>-0.607264</td>\n",
       "      <td>-0.040388</td>\n",
       "    </tr>\n",
       "  </tbody>\n",
       "</table>\n",
       "<p>254919 rows × 2 columns</p>\n",
       "</div>"
      ],
      "text/plain": [
       "                     alpha8   alpha90\n",
       "date       code                      \n",
       "2016-01-04 000001       NaN       NaN\n",
       "           000063       NaN       NaN\n",
       "           000069       NaN       NaN\n",
       "           000100       NaN       NaN\n",
       "           000157       NaN       NaN\n",
       "...                     ...       ...\n",
       "2020-11-11 603806 -0.064007 -0.094402\n",
       "           603833 -0.394209 -0.243124\n",
       "           603899 -0.085619 -0.188633\n",
       "           603986 -0.284698 -0.025761\n",
       "           603993 -0.607264 -0.040388\n",
       "\n",
       "[254919 rows x 2 columns]"
      ]
     },
     "execution_count": 10,
     "metadata": {},
     "output_type": "execute_result"
    }
   ],
   "source": [
    "# df['open'].reset_index().to_feather(__cache_dir__+'test_s.feather')\n",
    "# pd.read_feather(__cache_dir__+'test_s.feather').set_index(['date','code']).squeeze()\n",
    "# df.squeeze()\n",
    "# load_cache_adv('test','2011-11-11','2022-11-11')\n",
    "load_caches_adv(['alpha8_train','alpha90_train'],'2011-11-11','2020-11-11', cache_type=CACHE_TYPE.FACTOR)"
   ]
  }
 ],
 "metadata": {
  "kernelspec": {
   "display_name": "Python 3 (ipykernel)",
   "language": "python",
   "name": "python3"
  },
  "language_info": {
   "codemirror_mode": {
    "name": "ipython",
    "version": 3
   },
   "file_extension": ".py",
   "mimetype": "text/x-python",
   "name": "python",
   "nbconvert_exporter": "python",
   "pygments_lexer": "ipython3",
   "version": "3.8.10"
  }
 },
 "nbformat": 4,
 "nbformat_minor": 5
}
