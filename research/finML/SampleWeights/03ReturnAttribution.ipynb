{
 "cells": [
  {
   "cell_type": "markdown",
   "id": "bfe2668a554344d7",
   "metadata": {},
   "source": [
    "### Return Attribution\n",
    "\n",
    "This section introduces a technique for weighting samples to train machine learning algorithms. Highly overlapping results will have imbalanced weights compared to non-overlapping results. At the same time, labels associated with large absolute returns are more important than labels with negligible absolute returns. In short, we need to assign weights to observations using a function that considers both uniqueness and absolute returns.\n",
    "\n",
    "When the label is a function of the return sign, the sample weight can be defined by the sum of contributing returns during the event's lifecycle [t_{i,0}, t_{i,1}].\n",
    "\n",
    "$$\\tilde{w_i} = \\begin{vmatrix} \\sum_{t = t_{i,0}}^{t_{i,1}} \\frac{r_{t-1}, t}{c_{t}}\\end{vmatrix}$$\n",
    "\n",
    "$$w_i = \\tilde{w_i} I \\left( \\sum_{j=1}^I \\tilde{w_j}\\right)$$\n",
    "\n",
    "Therefore, $\\sum_{i=1}^I w_i = I$. Since libraries generally assume the default weight of algorithmic parameters to be 1, we adjusted the magnitude of these weights so that their sum equals I.\n",
    "\n",
    "The logic behind this method is that we want to express the weight of observations as a function of absolute log returns that can uniquely affect the observations. However, this method doesn't work when there are 'neutral' cases. In such cases, higher weights should be assigned to lower returns rather than lower weights. Ultimately, 'neutral' cases are unnecessary as they mean predicting '-1' or '1' with low confidence. The code below implements this method."
   ]
  },
  {
   "cell_type": "code",
   "execution_count": 1,
   "id": "initial_id",
   "metadata": {
    "ExecuteTime": {
     "end_time": "2024-05-05T13:29:59.830428Z",
     "start_time": "2024-05-05T13:29:56.788591Z"
    },
    "collapsed": true
   },
   "outputs": [
    {
     "name": "stderr",
     "output_type": "stream",
     "text": [
      "[*********************100%***********************]  1 of 1 completed\n"
     ]
    }
   ],
   "source": [
    "import numpy as np\n",
    "import pandas as pd\n",
    "import matplotlib.pyplot as plt\n",
    "import seaborn as sns\n",
    "import yfinance as yf\n",
    "\n",
    "from quant_free.finml.labeling.labeling import *\n",
    "from quant_free.finml.features.volatility import daily_volatility\n",
    "from quant_free.finml.sample_weights.concurrency import *\n",
    "from quant_free.finml.utils.multiprocess import *\n",
    "\n",
    "start_date = '2000-01-01'\n",
    "end_date = '2024-04-10'\n",
    "ticker = 'AAPL'\n",
    "data = yf.download(\n",
    "    ticker, \n",
    "    start = start_date, \n",
    "    end = end_date\n",
    ")"
   ]
  },
  {
   "cell_type": "code",
   "execution_count": 2,
   "id": "2ebe6123fa19edfb",
   "metadata": {
    "ExecuteTime": {
     "end_time": "2024-05-05T13:29:59.839572Z",
     "start_time": "2024-05-05T13:29:59.831491Z"
    }
   },
   "outputs": [
    {
     "data": {
      "text/plain": [
       "Date\n",
       "2000-01-03   2000-01-10\n",
       "2000-01-04   2000-01-11\n",
       "2000-01-05   2000-01-12\n",
       "2000-01-06   2000-01-13\n",
       "2000-01-07   2000-01-14\n",
       "Name: Date, dtype: datetime64[ns]"
      ]
     },
     "execution_count": 2,
     "metadata": {},
     "output_type": "execute_result"
    }
   ],
   "source": [
    "vertical_barrier = add_vertical_barrier(\n",
    "    data.index, \n",
    "    data['Close'], \n",
    "    num_days = 7 # expariation limit\n",
    ")\n",
    "vertical_barrier.head()"
   ]
  },
  {
   "cell_type": "code",
   "execution_count": 3,
   "id": "8afd5f82548dae4a",
   "metadata": {
    "ExecuteTime": {
     "end_time": "2024-05-05T13:29:59.848801Z",
     "start_time": "2024-05-05T13:29:59.840660Z"
    }
   },
   "outputs": [],
   "source": [
    "volatility = daily_volatility(\n",
    "    data['Close'], \n",
    "    lookback = 60 # moving average span\n",
    ")"
   ]
  },
  {
   "cell_type": "code",
   "execution_count": 4,
   "id": "6079c91460297385",
   "metadata": {
    "ExecuteTime": {
     "end_time": "2024-05-05T13:30:04.393146Z",
     "start_time": "2024-05-05T13:29:59.850076Z"
    }
   },
   "outputs": [
    {
     "data": {
      "text/html": [
       "<div>\n",
       "<style scoped>\n",
       "    .dataframe tbody tr th:only-of-type {\n",
       "        vertical-align: middle;\n",
       "    }\n",
       "\n",
       "    .dataframe tbody tr th {\n",
       "        vertical-align: top;\n",
       "    }\n",
       "\n",
       "    .dataframe thead th {\n",
       "        text-align: right;\n",
       "    }\n",
       "</style>\n",
       "<table border=\"1\" class=\"dataframe\">\n",
       "  <thead>\n",
       "    <tr style=\"text-align: right;\">\n",
       "      <th></th>\n",
       "      <th>t1</th>\n",
       "      <th>trgt</th>\n",
       "      <th>pt</th>\n",
       "      <th>sl</th>\n",
       "    </tr>\n",
       "    <tr>\n",
       "      <th>Date</th>\n",
       "      <th></th>\n",
       "      <th></th>\n",
       "      <th></th>\n",
       "      <th></th>\n",
       "    </tr>\n",
       "  </thead>\n",
       "  <tbody>\n",
       "    <tr>\n",
       "      <th>2000-01-07</th>\n",
       "      <td>2000-01-11</td>\n",
       "      <td>0.016797</td>\n",
       "      <td>2</td>\n",
       "      <td>1</td>\n",
       "    </tr>\n",
       "    <tr>\n",
       "      <th>2000-01-10</th>\n",
       "      <td>2000-01-12</td>\n",
       "      <td>0.026415</td>\n",
       "      <td>2</td>\n",
       "      <td>1</td>\n",
       "    </tr>\n",
       "    <tr>\n",
       "      <th>2000-01-11</th>\n",
       "      <td>2000-01-12</td>\n",
       "      <td>0.024043</td>\n",
       "      <td>2</td>\n",
       "      <td>1</td>\n",
       "    </tr>\n",
       "    <tr>\n",
       "      <th>2000-01-12</th>\n",
       "      <td>2000-01-13</td>\n",
       "      <td>0.031168</td>\n",
       "      <td>2</td>\n",
       "      <td>1</td>\n",
       "    </tr>\n",
       "    <tr>\n",
       "      <th>2000-01-13</th>\n",
       "      <td>2000-01-19</td>\n",
       "      <td>0.050703</td>\n",
       "      <td>2</td>\n",
       "      <td>1</td>\n",
       "    </tr>\n",
       "  </tbody>\n",
       "</table>\n",
       "</div>"
      ],
      "text/plain": [
       "                   t1      trgt  pt  sl\n",
       "Date                                   \n",
       "2000-01-07 2000-01-11  0.016797   2   1\n",
       "2000-01-10 2000-01-12  0.026415   2   1\n",
       "2000-01-11 2000-01-12  0.024043   2   1\n",
       "2000-01-12 2000-01-13  0.031168   2   1\n",
       "2000-01-13 2000-01-19  0.050703   2   1"
      ]
     },
     "execution_count": 4,
     "metadata": {},
     "output_type": "execute_result"
    }
   ],
   "source": [
    "triple_barrier_events = get_events(\n",
    "    close = data['Close'],\n",
    "    t_events = data.index[2:],\n",
    "    pt_sl = [2, 1], # profit taking 2, stopping loss 1\n",
    "    target = volatility, # dynamic threshold\n",
    "    min_ret = 0.01, # minimum position return\n",
    "    num_threads = 1, # number of multi-thread \n",
    "    vertical_barrier_times = vertical_barrier, # add vertical barrier\n",
    "    side_prediction = None # betting side prediction (primary model)\n",
    ")\n",
    "triple_barrier_events.head()"
   ]
  },
  {
   "cell_type": "code",
   "execution_count": 5,
   "id": "d94a34f15b39c1e7",
   "metadata": {
    "ExecuteTime": {
     "end_time": "2024-05-05T13:30:04.766372Z",
     "start_time": "2024-05-05T13:30:04.394133Z"
    }
   },
   "outputs": [],
   "source": [
    "labels = meta_labeling(\n",
    "    triple_barrier_events, \n",
    "    data['Close']\n",
    ")"
   ]
  },
  {
   "cell_type": "code",
   "execution_count": 6,
   "id": "6c68efab0addcd9f",
   "metadata": {
    "ExecuteTime": {
     "end_time": "2024-05-05T13:30:04.774356Z",
     "start_time": "2024-05-05T13:30:04.769263Z"
    }
   },
   "outputs": [
    {
     "data": {
      "text/html": [
       "<div>\n",
       "<style scoped>\n",
       "    .dataframe tbody tr th:only-of-type {\n",
       "        vertical-align: middle;\n",
       "    }\n",
       "\n",
       "    .dataframe tbody tr th {\n",
       "        vertical-align: top;\n",
       "    }\n",
       "\n",
       "    .dataframe thead th {\n",
       "        text-align: right;\n",
       "    }\n",
       "</style>\n",
       "<table border=\"1\" class=\"dataframe\">\n",
       "  <thead>\n",
       "    <tr style=\"text-align: right;\">\n",
       "      <th></th>\n",
       "      <th>ret</th>\n",
       "      <th>trgt</th>\n",
       "      <th>bin</th>\n",
       "    </tr>\n",
       "    <tr>\n",
       "      <th>Date</th>\n",
       "      <th></th>\n",
       "      <th></th>\n",
       "      <th></th>\n",
       "    </tr>\n",
       "  </thead>\n",
       "  <tbody>\n",
       "    <tr>\n",
       "      <th>2000-01-07</th>\n",
       "      <td>-0.067839</td>\n",
       "      <td>0.016797</td>\n",
       "      <td>-1</td>\n",
       "    </tr>\n",
       "    <tr>\n",
       "      <th>2000-01-10</th>\n",
       "      <td>-0.108056</td>\n",
       "      <td>0.026415</td>\n",
       "      <td>-1</td>\n",
       "    </tr>\n",
       "    <tr>\n",
       "      <th>2000-01-11</th>\n",
       "      <td>-0.059973</td>\n",
       "      <td>0.024043</td>\n",
       "      <td>-1</td>\n",
       "    </tr>\n",
       "    <tr>\n",
       "      <th>2000-01-12</th>\n",
       "      <td>0.109677</td>\n",
       "      <td>0.031168</td>\n",
       "      <td>1</td>\n",
       "    </tr>\n",
       "    <tr>\n",
       "      <th>2000-01-13</th>\n",
       "      <td>0.101422</td>\n",
       "      <td>0.050703</td>\n",
       "      <td>0</td>\n",
       "    </tr>\n",
       "  </tbody>\n",
       "</table>\n",
       "</div>"
      ],
      "text/plain": [
       "                 ret      trgt  bin\n",
       "Date                               \n",
       "2000-01-07 -0.067839  0.016797   -1\n",
       "2000-01-10 -0.108056  0.026415   -1\n",
       "2000-01-11 -0.059973  0.024043   -1\n",
       "2000-01-12  0.109677  0.031168    1\n",
       "2000-01-13  0.101422  0.050703    0"
      ]
     },
     "execution_count": 6,
     "metadata": {},
     "output_type": "execute_result"
    }
   ],
   "source": [
    "labels.head()"
   ]
  },
  {
   "cell_type": "code",
   "execution_count": 7,
   "id": "60b9474ebbc90921",
   "metadata": {
    "ExecuteTime": {
     "end_time": "2024-05-05T13:30:04.782324Z",
     "start_time": "2024-05-05T13:30:04.775498Z"
    }
   },
   "outputs": [
    {
     "data": {
      "text/html": [
       "<div>\n",
       "<style scoped>\n",
       "    .dataframe tbody tr th:only-of-type {\n",
       "        vertical-align: middle;\n",
       "    }\n",
       "\n",
       "    .dataframe tbody tr th {\n",
       "        vertical-align: top;\n",
       "    }\n",
       "\n",
       "    .dataframe thead th {\n",
       "        text-align: right;\n",
       "    }\n",
       "</style>\n",
       "<table border=\"1\" class=\"dataframe\">\n",
       "  <thead>\n",
       "    <tr style=\"text-align: right;\">\n",
       "      <th></th>\n",
       "      <th>t1</th>\n",
       "      <th>trgt</th>\n",
       "      <th>pt</th>\n",
       "      <th>sl</th>\n",
       "      <th>side</th>\n",
       "    </tr>\n",
       "    <tr>\n",
       "      <th>Date</th>\n",
       "      <th></th>\n",
       "      <th></th>\n",
       "      <th></th>\n",
       "      <th></th>\n",
       "      <th></th>\n",
       "    </tr>\n",
       "  </thead>\n",
       "  <tbody>\n",
       "    <tr>\n",
       "      <th>2000-01-07</th>\n",
       "      <td>2000-01-11</td>\n",
       "      <td>0.016797</td>\n",
       "      <td>2</td>\n",
       "      <td>1</td>\n",
       "      <td>-1.0</td>\n",
       "    </tr>\n",
       "    <tr>\n",
       "      <th>2000-01-10</th>\n",
       "      <td>2000-01-12</td>\n",
       "      <td>0.026415</td>\n",
       "      <td>2</td>\n",
       "      <td>1</td>\n",
       "      <td>-1.0</td>\n",
       "    </tr>\n",
       "    <tr>\n",
       "      <th>2000-01-11</th>\n",
       "      <td>2000-01-12</td>\n",
       "      <td>0.024043</td>\n",
       "      <td>2</td>\n",
       "      <td>1</td>\n",
       "      <td>-1.0</td>\n",
       "    </tr>\n",
       "    <tr>\n",
       "      <th>2000-01-12</th>\n",
       "      <td>2000-01-13</td>\n",
       "      <td>0.031168</td>\n",
       "      <td>2</td>\n",
       "      <td>1</td>\n",
       "      <td>1.0</td>\n",
       "    </tr>\n",
       "    <tr>\n",
       "      <th>2000-01-13</th>\n",
       "      <td>2000-01-19</td>\n",
       "      <td>0.050703</td>\n",
       "      <td>2</td>\n",
       "      <td>1</td>\n",
       "      <td>0.0</td>\n",
       "    </tr>\n",
       "  </tbody>\n",
       "</table>\n",
       "</div>"
      ],
      "text/plain": [
       "                   t1      trgt  pt  sl  side\n",
       "Date                                         \n",
       "2000-01-07 2000-01-11  0.016797   2   1  -1.0\n",
       "2000-01-10 2000-01-12  0.026415   2   1  -1.0\n",
       "2000-01-11 2000-01-12  0.024043   2   1  -1.0\n",
       "2000-01-12 2000-01-13  0.031168   2   1   1.0\n",
       "2000-01-13 2000-01-19  0.050703   2   1   0.0"
      ]
     },
     "execution_count": 7,
     "metadata": {},
     "output_type": "execute_result"
    }
   ],
   "source": [
    "triple_barrier_events['side'] = labels['bin']\n",
    "triple_barrier_events.head()"
   ]
  },
  {
   "cell_type": "code",
   "execution_count": 8,
   "id": "315b94a3d4303ae3",
   "metadata": {
    "ExecuteTime": {
     "end_time": "2024-05-05T13:30:06.212908Z",
     "start_time": "2024-05-05T13:30:04.783601Z"
    }
   },
   "outputs": [],
   "source": [
    "num_threads = 1\n",
    "num_conc_events = mp_pandas_obj(\n",
    "    concurrent_events, \n",
    "    ('molecule', triple_barrier_events.index), \n",
    "    num_threads, \n",
    "    close_series_index = data['Close'].index, \n",
    "    label_endtime = triple_barrier_events['t1']\n",
    ")"
   ]
  },
  {
   "cell_type": "code",
   "execution_count": 10,
   "id": "a02df82f22f8ef0e",
   "metadata": {
    "ExecuteTime": {
     "end_time": "2024-05-05T13:30:06.218019Z",
     "start_time": "2024-05-05T13:30:06.214075Z"
    }
   },
   "outputs": [],
   "source": [
    "num_conc_events = num_conc_events.reindex(data['Close'].index).fillna(0)"
   ]
  },
  {
   "cell_type": "code",
   "execution_count": 12,
   "id": "63ea34e394c734c0",
   "metadata": {
    "ExecuteTime": {
     "end_time": "2024-05-05T13:30:06.230008Z",
     "start_time": "2024-05-05T13:30:06.219666Z"
    }
   },
   "outputs": [
    {
     "data": {
      "text/html": [
       "<div>\n",
       "<style scoped>\n",
       "    .dataframe tbody tr th:only-of-type {\n",
       "        vertical-align: middle;\n",
       "    }\n",
       "\n",
       "    .dataframe tbody tr th {\n",
       "        vertical-align: top;\n",
       "    }\n",
       "\n",
       "    .dataframe thead th {\n",
       "        text-align: right;\n",
       "    }\n",
       "</style>\n",
       "<table border=\"1\" class=\"dataframe\">\n",
       "  <thead>\n",
       "    <tr style=\"text-align: right;\">\n",
       "      <th></th>\n",
       "      <th>t1</th>\n",
       "      <th>trgt</th>\n",
       "      <th>pt</th>\n",
       "      <th>sl</th>\n",
       "      <th>side</th>\n",
       "    </tr>\n",
       "    <tr>\n",
       "      <th>Date</th>\n",
       "      <th></th>\n",
       "      <th></th>\n",
       "      <th></th>\n",
       "      <th></th>\n",
       "      <th></th>\n",
       "    </tr>\n",
       "  </thead>\n",
       "  <tbody>\n",
       "    <tr>\n",
       "      <th>2000-01-07</th>\n",
       "      <td>2000-01-11</td>\n",
       "      <td>0.016797</td>\n",
       "      <td>2</td>\n",
       "      <td>1</td>\n",
       "      <td>-1.0</td>\n",
       "    </tr>\n",
       "    <tr>\n",
       "      <th>2000-01-10</th>\n",
       "      <td>2000-01-12</td>\n",
       "      <td>0.026415</td>\n",
       "      <td>2</td>\n",
       "      <td>1</td>\n",
       "      <td>-1.0</td>\n",
       "    </tr>\n",
       "    <tr>\n",
       "      <th>2000-01-11</th>\n",
       "      <td>2000-01-12</td>\n",
       "      <td>0.024043</td>\n",
       "      <td>2</td>\n",
       "      <td>1</td>\n",
       "      <td>-1.0</td>\n",
       "    </tr>\n",
       "    <tr>\n",
       "      <th>2000-01-12</th>\n",
       "      <td>2000-01-13</td>\n",
       "      <td>0.031168</td>\n",
       "      <td>2</td>\n",
       "      <td>1</td>\n",
       "      <td>1.0</td>\n",
       "    </tr>\n",
       "    <tr>\n",
       "      <th>2000-01-13</th>\n",
       "      <td>2000-01-19</td>\n",
       "      <td>0.050703</td>\n",
       "      <td>2</td>\n",
       "      <td>1</td>\n",
       "      <td>0.0</td>\n",
       "    </tr>\n",
       "    <tr>\n",
       "      <th>...</th>\n",
       "      <td>...</td>\n",
       "      <td>...</td>\n",
       "      <td>...</td>\n",
       "      <td>...</td>\n",
       "      <td>...</td>\n",
       "    </tr>\n",
       "    <tr>\n",
       "      <th>2024-03-26</th>\n",
       "      <td>2024-04-02</td>\n",
       "      <td>0.018161</td>\n",
       "      <td>2</td>\n",
       "      <td>1</td>\n",
       "      <td>0.0</td>\n",
       "    </tr>\n",
       "    <tr>\n",
       "      <th>2024-03-27</th>\n",
       "      <td>2024-04-03</td>\n",
       "      <td>0.018151</td>\n",
       "      <td>2</td>\n",
       "      <td>1</td>\n",
       "      <td>-1.0</td>\n",
       "    </tr>\n",
       "    <tr>\n",
       "      <th>2024-03-28</th>\n",
       "      <td>2024-04-04</td>\n",
       "      <td>0.018013</td>\n",
       "      <td>2</td>\n",
       "      <td>1</td>\n",
       "      <td>0.0</td>\n",
       "    </tr>\n",
       "    <tr>\n",
       "      <th>2024-04-01</th>\n",
       "      <td>2024-04-08</td>\n",
       "      <td>0.017747</td>\n",
       "      <td>2</td>\n",
       "      <td>1</td>\n",
       "      <td>0.0</td>\n",
       "    </tr>\n",
       "    <tr>\n",
       "      <th>2024-04-02</th>\n",
       "      <td>2024-04-09</td>\n",
       "      <td>0.017601</td>\n",
       "      <td>2</td>\n",
       "      <td>1</td>\n",
       "      <td>0.0</td>\n",
       "    </tr>\n",
       "  </tbody>\n",
       "</table>\n",
       "<p>6096 rows × 5 columns</p>\n",
       "</div>"
      ],
      "text/plain": [
       "                   t1      trgt  pt  sl  side\n",
       "Date                                         \n",
       "2000-01-07 2000-01-11  0.016797   2   1  -1.0\n",
       "2000-01-10 2000-01-12  0.026415   2   1  -1.0\n",
       "2000-01-11 2000-01-12  0.024043   2   1  -1.0\n",
       "2000-01-12 2000-01-13  0.031168   2   1   1.0\n",
       "2000-01-13 2000-01-19  0.050703   2   1   0.0\n",
       "...               ...       ...  ..  ..   ...\n",
       "2024-03-26 2024-04-02  0.018161   2   1   0.0\n",
       "2024-03-27 2024-04-03  0.018151   2   1  -1.0\n",
       "2024-03-28 2024-04-04  0.018013   2   1   0.0\n",
       "2024-04-01 2024-04-08  0.017747   2   1   0.0\n",
       "2024-04-02 2024-04-09  0.017601   2   1   0.0\n",
       "\n",
       "[6096 rows x 5 columns]"
      ]
     },
     "execution_count": 12,
     "metadata": {},
     "output_type": "execute_result"
    }
   ],
   "source": [
    "triple_barrier_events[:-5]"
   ]
  },
  {
   "cell_type": "code",
   "execution_count": 13,
   "id": "6297e6d921d15222",
   "metadata": {
    "ExecuteTime": {
     "end_time": "2024-05-05T13:30:09.907425Z",
     "start_time": "2024-05-05T13:30:06.231186Z"
    }
   },
   "outputs": [],
   "source": [
    "from quant_free.finml.sample_weights.attribution import *\n",
    "\n",
    "return_weights = weights_by_return(triple_barrier_events[:-5], data['Close'][:-5], num_threads = 1)"
   ]
  },
  {
   "cell_type": "code",
   "execution_count": 14,
   "id": "95b0ec5478b53170",
   "metadata": {
    "ExecuteTime": {
     "end_time": "2024-05-05T13:30:10.490343Z",
     "start_time": "2024-05-05T13:30:09.908884Z"
    }
   },
   "outputs": [
    {
     "data": {
      "image/png": "[encoded data removed]",
      "text/plain": [
       "<Figure size 800x500 with 2 Axes>"
      ]
     },
     "metadata": {},
     "output_type": "display_data"
    }
   ],
   "source": [
    "fig, ax = plt.subplots(figsize = (8, 5))\n",
    "data['Close'].pct_change().plot(alpha = 0.75, ax = ax, color = 'lightgray')\n",
    "plt.ylim([-0.5, 0.5])\n",
    "plt.grid(False)\n",
    "\n",
    "return_weights.plot(secondary_y=True, lw = 1)\n",
    "plt.ylim([-25, 25])\n",
    "plt.legend(['return_attribution'])\n",
    "plt.grid(False)\n",
    "\n",
    "plt.title('return attribution | market : AAPL | sample weights')\n",
    "plt.show()"
   ]
  }
 ],
 "metadata": {
  "kernelspec": {
   "display_name": "Python 3",
   "language": "python",
   "name": "python3"
  },
  "language_info": {
   "codemirror_mode": {
    "name": "ipython",
    "version": 3
   },
   "file_extension": ".py",
   "mimetype": "text/x-python",
   "name": "python",
   "nbconvert_exporter": "python",
   "pygments_lexer": "ipython3",
   "version": "3.12.3"
  }
 },
 "nbformat": 4,
 "nbformat_minor": 5
}
