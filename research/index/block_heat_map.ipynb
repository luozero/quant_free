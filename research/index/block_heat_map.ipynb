{
 "cells": [
  {
   "cell_type": "code",
   "execution_count": 9,
   "metadata": {
    "execution": {
     "iopub.execute_input": "2022-10-11T02:38:08.430117Z",
     "iopub.status.busy": "2022-10-11T02:38:08.425803Z",
     "iopub.status.idle": "2022-10-11T02:38:41.726176Z",
     "shell.execute_reply": "2022-10-11T02:38:41.726176Z",
     "shell.execute_reply.started": "2022-10-11T02:38:08.425803Z"
    },
    "tags": []
   },
   "outputs": [
    {
     "name": "stdout",
     "output_type": "stream",
     "text": [
      "Available fonts: ['STIXNonUnicode', 'DejaVu Sans', 'cmss10', 'STIXNonUnicode', 'STIXGeneral', 'STIXSizeOneSym', 'DejaVu Sans', 'cmex10', 'STIXSizeFourSym', 'DejaVu Serif', 'cmmi10', 'cmb10', 'STIXNonUnicode', 'DejaVu Serif', 'STIXSizeTwoSym', 'STIXSizeThreeSym', 'STIXGeneral', 'STIXSizeTwoSym', 'cmr10', 'DejaVu Serif', 'STIXNonUnicode', 'STIXSizeThreeSym', 'DejaVu Sans Display', 'DejaVu Serif', 'STIXGeneral', 'DejaVu Sans', 'DejaVu Sans Mono', 'STIXSizeFourSym', 'cmsy10', 'cmtt10', 'DejaVu Sans', 'DejaVu Sans Mono', 'STIXGeneral', 'DejaVu Serif Display', 'DejaVu Sans Mono', 'DejaVu Sans Mono', 'STIXSizeFiveSym', 'STIXSizeOneSym', 'Norasi', 'Dyuthi', 'Impact', 'Nimbus Mono PS', 'FreeSerif', 'Khmer OS', 'STIXSizeThreeSym', 'Andale Mono', 'Arial Black', 'Kinnari', 'Rasa', 'Kinnari', 'Padauk', 'STIXSizeFiveSym', 'Comic Sans MS', 'Padauk Book', 'Keraleeyam', 'DejaVu Sans Mono', 'KacstFarsi', 'URW Bookman', 'Comic Sans MS', 'Liberation Serif', 'Tlwg Typo', 'Norasi', 'Cantarell', 'Chilanka', 'Tlwg Mono', 'Courier New', 'P052', 'Tlwg Typewriter', 'Verdana', 'Courier New', 'KacstPoster', 'STIXSizeOneSym', 'DejaVu Sans Mono', 'KacstPen', 'KacstDecorative', 'cmmi10', 'FreeSans', 'Georgia', 'Trebuchet MS', 'Arial', 'KacstOne', 'Liberation Sans', 'Nimbus Sans', 'Georgia', 'Samyak Tamil', 'Nimbus Sans Narrow', 'Georgia', 'Liberation Mono', 'Purisa', 'Nimbus Roman', 'DejaVu Sans', 'Ubuntu', 'DejaVu Sans Display', 'Ubuntu Mono', 'Lohit Tamil Classical', 'C059', 'Nimbus Roman', 'Ubuntu', 'Loma', 'Noto Sans CJK JP', 'Khmer OS System', 'Ubuntu Condensed', 'Nimbus Sans', 'Cantarell', 'Arial', 'DejaVu Serif', 'Arial', 'URW Gothic', 'Nimbus Mono PS', 'SimHei', 'Tlwg Mono', 'STIXSizeFourSym', 'Verdana', 'Padauk Book', 'Kinnari', 'Tlwg Mono', 'Tlwg Typist', 'Saab', 'KacstDigital', 'Laksaman', 'Ubuntu', 'Tlwg Typist', 'Verdana', 'URW Bookman', 'KacstArt', 'Liberation Serif', 'Nimbus Sans Narrow', 'KacstTitle', 'KacstOne', 'DejaVu Sans', 'Rachana', 'Times New Roman', 'Mukti Narrow', 'Nakula', 'Lohit Kannada', 'Tibetan Machine Uni', 'Liberation Serif', 'Norasi', 'Laksaman', 'Umpush', 'Tlwg Typo', 'cmb10', 'Trebuchet MS', 'Comic Sans MS', 'Standard Symbols PS', 'Quicksand Light', 'DejaVu Sans Mono', 'Norasi', 'Georgia', 'Norasi', 'Samanata', 'Liberation Mono', 'Yrsa', 'Laksaman', 'FreeMono', 'Arial', 'Sawasdee', 'Gargi', 'Loma', 'Rasa', 'Noto Serif CJK JP', 'Gubbi', 'FreeSans', 'FreeSans', 'Courier New', 'Purisa', 'Cantarell', 'cmss10', 'Courier New', 'Nimbus Roman', 'Arial', 'Lohit Devanagari', 'Arial', 'Times New Roman', 'Loma', 'Courier New', 'URW Gothic', 'Lohit Malayalam', 'Arial Black', 'Laksaman', 'padmaa-Bold.1.1', 'Times New Roman', 'Liberation Mono', 'DejaVu Sans Mono', 'RaghuMalayalamSans', 'Liberation Sans', 'Rekha', 'Liberation Serif', 'Jamrul', 'Liberation Sans', 'Arial', 'Arial', 'Kinnari', 'Times New Roman', 'Lohit Gujarati', 'Tlwg Typo', 'Padauk', 'FreeSans', 'Liberation Mono', 'Kalapi', 'Gayathri', 'Tlwg Typist', 'Quicksand Medium', 'Liberation Serif', 'Ubuntu', 'FreeMono', 'Waree', 'Gayathri', 'DejaVu Sans', 'Uroob', 'Mukti Narrow', 'Abyssinica SIL', 'Lohit Tamil', 'KacstLetter', 'STIXGeneral', 'STIXSizeTwoSym', 'STIXNonUnicode', 'URW Gothic', 'Ubuntu Mono', 'Verdana', 'Chandas', 'Sawasdee', 'Georgia', 'Webdings', 'Droid Sans Fallback', 'Phetsarath OT', 'Nimbus Roman', 'Georgia', 'Rasa', 'Tlwg Typo', 'P052', 'Karumbi', 'Lohit Telugu', 'Umpush', 'cmex10', 'Sarai', 'KacstTitleL', 'Tlwg Typewriter', 'Cantarell', 'STIXSizeTwoSym', 'DejaVu Sans Mono', 'Liberation Sans', 'Times New Roman', 'DejaVu Serif', 'Rachana', 'Navilu', 'padmaa', 'URW Bookman', 'Yrsa', 'cmtt10', 'Ubuntu Mono', 'Umpush', 'Liberation Serif', 'Tlwg Typewriter', 'Purisa', 'KacstScreen', 'Webdings', 'STIXSizeFourSym', 'Liberation Sans', 'Nimbus Mono PS', 'STIXNonUnicode', 'Loma', 'Verdana', 'DejaVu Serif', 'Sahadeva', 'D050000L', 'Manjari', 'Courier New', 'DejaVu Serif', 'Umpush', 'Waree', 'Umpush', 'Andale Mono', 'Lohit Gurmukhi', 'Liberation Mono', 'OpenSymbol', 'Ubuntu', 'LKLUG', 'Garuda', 'Yrsa', 'aakar', 'DejaVu Sans', 'URW Bookman', 'URW Gothic', 'Ubuntu', 'C059', 'Nimbus Sans Narrow', 'Noto Mono', 'Liberation Sans Narrow', 'Sawasdee', 'Kalimati', 'Liberation Sans Narrow', 'Verdana', 'Ubuntu', 'padmaa', 'Waree', 'Umpush', 'C059', 'Meera', 'STIXGeneral', 'Pagul', 'Trebuchet MS', 'Ubuntu Mono', 'Manjari', 'FreeMono', 'FreeSerif', 'Liberation Mono', 'Times New Roman', 'Sawasdee', 'Liberation Sans Narrow', 'Georgia', 'Lohit Odia', 'P052', 'Liberation Serif', 'KacstBook', 'DejaVu Serif Display', 'Impact', 'Gayathri', 'Pothana2000', 'Noto Sans CJK JP', 'DejaVu Sans', 'Ani', 'STIXGeneral', 'Noto Serif CJK JP', 'Georgia', 'P052', 'Nimbus Sans', 'Tlwg Mono', 'Times New Roman', 'Liberation Sans Narrow', 'Courier New', 'Lohit Assamese', 'Liberation Sans', 'FreeSerif', 'Norasi', 'STIXNonUnicode', 'DejaVu Serif', 'Rasa', 'STIXSizeThreeSym', 'DejaVu Sans', 'Purisa', 'ori1Uni', 'Trebuchet MS', 'Verdana', 'Likhan', 'Trebuchet MS', 'Z003', 'Tlwg Typewriter', 'DejaVu Serif', 'Yrsa', 'Samyak Devanagari', 'mry_KacstQurn', 'Trebuchet MS', 'Suruma', 'STIXGeneral', 'cmr10', 'Vemana2000', 'cmsy10', 'Liberation Serif', 'KacstQurn', 'Samyak Malayalam', 'Courier New', 'Liberation Mono', 'KacstNaskh', 'Yrsa', 'Ubuntu', 'Liberation Sans', 'Ubuntu', 'Kinnari', 'Tlwg Typist', 'Kinnari', 'Nimbus Sans Narrow', 'DejaVu Sans Mono', 'Trebuchet MS', 'Lohit Bengali', 'C059', 'KacstOffice', 'Nimbus Sans', 'Rasa', 'Garuda', 'Quicksand', 'Samyak Gujarati', 'FreeSerif', 'Liberation Mono', 'STIXNonUnicode', 'Garuda', 'Waree', 'Verdana', 'Mitra Mono', 'Liberation Sans', 'Comic Sans MS', 'Trebuchet MS', 'Times New Roman', 'Cantarell', 'STIXSizeOneSym', 'Nimbus Mono PS', 'Quicksand', 'FreeMono', 'Garuda', 'Manjari', 'AnjaliOldLipi']\n",
      "Noto Sans CJK JP font is available.\n"
     ]
    }
   ],
   "source": [
    "import matplotlib.pyplot as plt\n",
    "import matplotlib as mpl\n",
    "import numpy as np\n",
    "import pandas as pd\n",
    "import ipywidgets as widgets\n",
    "from IPython.display import display\n",
    "pd.set_option('display.max_rows', None)  # Display all rows\n",
    "pd.set_option('display.max_columns', None)  # Display all columns\n",
    "\n",
    "\n",
    "import seaborn as sns\n",
    "# mpl.rcParams['font.sans-serif'] = ['SimSun', 'KaiTi', 'SimHei', 'FangSong']  # 汉字字体,优先使用楷体，如果找不到楷体，则使用黑体\n",
    "mpl.rcParams['font.family'] = 'SimHei'  # Adjust to the font available in your system\n",
    "\n",
    "mpl.rcParams['font.size'] = 14  # 字体大小\n",
    "mpl.rcParams['axes.unicode_minus'] = False  # 正常显示负号\n",
    "\n",
    "plt.rc('font', family='serif', serif='SimHei')  # Change 'serif' and 'Times New Roman' to your desired font family and name\n",
    "\n",
    "\n",
    "\n",
    "import quantstats_lumi as qs\n",
    "\n",
    "\n",
    "import matplotlib.font_manager as fm\n",
    "\n",
    "# Check available fonts\n",
    "available_fonts = [f.name for f in fm.fontManager.ttflist]\n",
    "print(\"Available fonts:\", available_fonts)\n",
    "if 'Noto Sans CJK JP' in available_fonts:\n",
    "    print(\"Noto Sans CJK JP font is available.\")\n",
    "else:\n",
    "    print(\"Noto Sans CJK JP font is not available.\")\n",
    "\n",
    "\n",
    "\n",
    "# Create a plot with fallback font\n",
    "# plt.figure()\n",
    "# plt.text(0.5, 0.5, '测试', fontname='SimHei', fontsize=20)  # Use a CJK compatible font for specific text\n",
    "# plt.show()"
   ]
  },
  {
   "cell_type": "code",
   "execution_count": 10,
   "metadata": {},
   "outputs": [],
   "source": [
    "import os\n",
    "from dataset.us_equity_load import *\n",
    "from common.us_equity_common import *\n",
    "class heat_map:\n",
    "  def __init__(self, df = None, start_date = '2024-01-01', end_date = '2024-09-27'):\n",
    "\n",
    "    date = us_equity_get_trade_date_within_range(start_date = start_date, end_date = end_date, dir_option = 'xq')\n",
    "    df = df.loc[date, :]\n",
    "    self.data = (df * 100).round(2)\n",
    "    # else:\n",
    "      # print(f\"file {file} is not exist\")\n",
    "      # exit(-1)\n",
    "      \n",
    "  def draw_plot(self, data, xlabel=None, cbar=True, cmap='coolwarm', vmin=None, vmax=None):\n",
    "      width = 40*len(data.columns)\n",
    "      high = 15*len(data.index)\n",
    "      if width > 2100:width = 2100\n",
    "      if high < 520:high = 520\n",
    "\n",
    "      ylabel = data.index\n",
    "      \n",
    "      fig = plt.figure(figsize=(width/48,high/72))\n",
    "      if xlabel is None:\n",
    "          sns.heatmap(data,fmt='.1f', yticklabels=ylabel,\n",
    "                        linewidths=0.5, annot = True, cbar=cbar,cmap=cmap, vmin=vmin, vmax=vmax)\n",
    "      else:\n",
    "          sns.heatmap(data,fmt='.1f', yticklabels=ylabel, xticklabels=xlabel, \n",
    "                        linewidths=0.5, annot = True, cbar=cbar,cmap=cmap, vmin=vmin, vmax=vmax)\n",
    "      plt.xticks(rotation = -90)\n",
    "      plt.show()\n",
    "  \n",
    "  def draw(self, window=3, absolute=False, plot=True):\n",
    "      if absolute:\n",
    "          self.trend = self.data.apply(lambda x: round((x-x.shift(window))/x.shift(window),2), axis=0)\n",
    "          self.trend = self.data.apply(lambda x: round((x-x.shift(window))/x.shift(window),2), axis=0)\n",
    "          if plot: self.draw_plot(self.trend, cmap='coolwarm',vmin=-0.8, vmax=0.8)     \n",
    "      else:\n",
    "\n",
    "          self.trend = self.data \n",
    "              \n",
    "          if plot:\n",
    "              xlabel = self.trend.columns.values\n",
    "              \n",
    "              block_count = len(self.trend.columns)\n",
    "              if block_count > 50:\n",
    "                  self.draw_plot(self.trend.iloc[:,0:int(block_count/2)], xlabel[0:int(block_count/2)], cmap='RdYlGn',vmin=-1, vmax=1,)\n",
    "                  self.draw_plot(self.trend.iloc[:,int(block_count/2):block_count], xlabel[int(block_count/2):block_count], cmap='RdYlGn',vmin=-1, vmax=1)\n",
    "              else:\n",
    "                  self.draw_plot(self.trend, cmap='RdYlGn',vmin=-1, vmax=1)\n",
    "      return self.trend\n",
    "\n",
    "  def get_data(self):\n",
    "    return self.data"
   ]
  },
  {
   "cell_type": "code",
   "execution_count": null,
   "metadata": {},
   "outputs": [],
   "source": [
    "# %%time\n",
    "\n",
    "start_date = '2024-01-01'\n",
    "end_date = '2024-09-29'\n",
    "\n",
    "df= us_dir1_load_csv(dir0 = 'symbol', dir1 = 'xq', filename='xq_index_price_ratio.csv')\n",
    "\n",
    "heat = heat_map(df, start_date = start_date, end_date = end_date)\n",
    "\n",
    "heat.draw()"
   ]
  },
  {
   "cell_type": "code",
   "execution_count": null,
   "metadata": {
    "execution": {
     "iopub.execute_input": "2022-10-11T02:38:52.374456Z",
     "iopub.status.busy": "2022-10-11T02:38:52.373501Z",
     "iopub.status.idle": "2022-10-11T02:39:39.320040Z",
     "shell.execute_reply": "2022-10-11T02:39:39.320040Z",
     "shell.execute_reply.started": "2022-10-11T02:38:52.374456Z"
    },
    "tags": []
   },
   "outputs": [],
   "source": [
    "# %%time\n",
    "start_date = '2024-01-01'\n",
    "end_date = '2024-09-29'\n",
    "df= us_dir1_load_csv(dir0 = 'symbol', dir1 = 'fh', filename='fh_index_price_ratio.csv')\n",
    "\n",
    "heat = heat_map(df, start_date = start_date, end_date = end_date)\n",
    "\n",
    "heat.draw()"
   ]
  }
 ],
 "metadata": {
  "kernelspec": {
   "display_name": "Python 3 (ipykernel)",
   "language": "python",
   "name": "python3"
  },
  "language_info": {
   "codemirror_mode": {
    "name": "ipython",
    "version": 3
   },
   "file_extension": ".py",
   "mimetype": "text/x-python",
   "name": "python",
   "nbconvert_exporter": "python",
   "pygments_lexer": "ipython3",
   "version": "3.9.5"
  }
 },
 "nbformat": 4,
 "nbformat_minor": 4
}
