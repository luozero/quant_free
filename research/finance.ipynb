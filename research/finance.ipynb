{
 "cells": [
  {
   "cell_type": "markdown",
   "metadata": {},
   "source": [
    "## equity price in sector"
   ]
  },
  {
   "cell_type": "code",
   "execution_count": 2,
   "metadata": {},
   "outputs": [
    {
     "data": {
      "text/html": [
       "        <script type=\"text/javascript\">\n",
       "        window.PlotlyConfig = {MathJaxConfig: 'local'};\n",
       "        if (window.MathJax && window.MathJax.Hub && window.MathJax.Hub.Config) {window.MathJax.Hub.Config({SVG: {font: \"STIX-Web\"}});}\n",
       "        if (typeof require !== 'undefined') {\n",
       "        require.undef(\"plotly\");\n",
       "        requirejs.config({\n",
       "            paths: {\n",
       "                'plotly': ['https://cdn.plot.ly/plotly-2.32.0.min']\n",
       "            }\n",
       "        });\n",
       "        require(['plotly'], function(Plotly) {\n",
       "            window._Plotly = Plotly;\n",
       "        });\n",
       "        }\n",
       "        </script>\n",
       "        "
      ]
     },
     "metadata": {},
     "output_type": "display_data"
    },
    {
     "data": {
      "text/html": [
       "        <script type=\"text/javascript\">\n",
       "        window.PlotlyConfig = {MathJaxConfig: 'local'};\n",
       "        if (window.MathJax && window.MathJax.Hub && window.MathJax.Hub.Config) {window.MathJax.Hub.Config({SVG: {font: \"STIX-Web\"}});}\n",
       "        if (typeof require !== 'undefined') {\n",
       "        require.undef(\"plotly\");\n",
       "        requirejs.config({\n",
       "            paths: {\n",
       "                'plotly': ['https://cdn.plot.ly/plotly-2.32.0.min']\n",
       "            }\n",
       "        });\n",
       "        require(['plotly'], function(Plotly) {\n",
       "            window._Plotly = Plotly;\n",
       "        });\n",
       "        }\n",
       "        </script>\n",
       "        "
      ]
     },
     "metadata": {},
     "output_type": "display_data"
    }
   ],
   "source": [
    "# Provides ways to work with large multidimensional arrays\n",
    "import numpy as np \n",
    "# Allows for further data manipulation and analysis\n",
    "import pandas as pd \n",
    "import matplotlib.pyplot as plt # Plotting\n",
    "import matplotlib.dates as mdates # Styling dates\n",
    "%matplotlib inline\n",
    "\n",
    "# pip install numpy\n",
    "# conda install -c anaconda pandas\n",
    "# conda install -c conda-forge matplotlib\n",
    "\n",
    "import datetime as dt # For defining dates\n",
    "\n",
    "import time\n",
    "\n",
    "# In Powershell Prompt : conda install -c conda-forge multitasking\n",
    "# pip install -i https://pypi.anaconda.org/ranaroussi/simple yfinance\n",
    "\n",
    "import yfinance as yf\n",
    "\n",
    "# To show all your output File -> Preferences -> Settings Search for Notebook\n",
    "# Notebook Output Text Line Limit and set to 100\n",
    "\n",
    "# Used for file handling like deleting files\n",
    "import os\n",
    "\n",
    "# conda install -c conda-forge cufflinks-py\n",
    "# conda install -c plotly plotly\n",
    "import cufflinks as cf\n",
    "import plotly.express as px\n",
    "import plotly.graph_objects as go\n",
    "\n",
    "# Make Plotly work in your Jupyter Notebook\n",
    "from plotly.offline import download_plotlyjs, init_notebook_mode, plot, iplot\n",
    "init_notebook_mode(connected=True)\n",
    "# Use Plotly locally\n",
    "cf.go_offline()\n",
    "\n",
    "from plotly.subplots import make_subplots\n",
    "\n",
    "# New Imports\n",
    "# Used to get data from a directory\n",
    "import os\n",
    "from os import listdir\n",
    "from os.path import isfile, join\n",
    "\n",
    "import warnings\n",
    "warnings.simplefilter(\"ignore\")\n",
    "\n",
    "\n",
    "import os\n",
    "import sys\n",
    "import seaborn as sns\n",
    "# from pathlib import Path\n",
    "# _this_dir = Path(__file__).parent.parent\n",
    "from dataset.us_equity_load import *\n",
    "\n",
    "from dataset.us_equity_finance_factor import *\n",
    "from dataset.us_equity_load import *\n"
   ]
  },
  {
   "cell_type": "code",
   "execution_count": 8,
   "metadata": {},
   "outputs": [
    {
     "name": "stdout",
     "output_type": "stream",
     "text": [
      "symbol list len  100\n",
      "no finance data skip stock BRK-B\n",
      "no finance data skip stock AVGO\n",
      "no finance data skip stock SPY\n",
      "no finance data skip stock LTMAY\n",
      "no finance data skip stock PEP\n",
      "no finance data skip stock CSCO\n",
      "no finance data skip stock DIS\n",
      "no finance data skip stock QQQ\n",
      "no finance data skip stock RTNTF\n",
      "no finance data skip stock EADSY\n",
      "no finance data skip stock BUD\n",
      "              roe       roa  profit_revenue  revenue_increase_q2q_rate  \\\n",
      "symbol                                                                   \n",
      "NVDA    14.725387  8.914950       34.138727                  64.198987   \n",
      "MA      41.942252  6.842766       44.954774                   9.808996   \n",
      "UL      26.066067  7.212832       12.339599                  37.637801   \n",
      "TSM      7.744721  4.665135       41.146731                  15.039901   \n",
      "V       11.083143  4.787438       52.166456                   9.733883   \n",
      "...           ...       ...             ...                        ...   \n",
      "UBER   -10.188931 -2.719083      -12.310766                  29.033064   \n",
      "RTX      1.665897  0.724424        6.344812                   2.590454   \n",
      "GS            NaN  0.167078       21.680087                  -2.611525   \n",
      "BABA     1.148867  0.733471        5.506980                   3.696526   \n",
      "INTC     0.974307  0.575497        5.216341                  -9.329862   \n",
      "\n",
      "        cash_increase_q2q_rate  scale_sum  \n",
      "symbol                                     \n",
      "NVDA                226.429248   4.758190  \n",
      "MA                   11.068639   4.143219  \n",
      "UL                   56.064719   4.070106  \n",
      "TSM                  24.768699   4.030068  \n",
      "V                     8.870257   3.870233  \n",
      "...                        ...        ...  \n",
      "UBER               -287.878104   1.042254  \n",
      "RTX                 -22.338407   0.935749  \n",
      "GS                 -108.987623   0.898876  \n",
      "BABA               -167.334867   0.865485  \n",
      "INTC                -94.454444   0.522709  \n",
      "\n",
      "[89 rows x 6 columns]\n"
     ]
    }
   ],
   "source": [
    "symbols = [\"AMZN\", \"AAPL\", \"NFLX\", \"GOOG\"]\n",
    "symbols = [\"MSFT\", \"AAPL\", \"NVDA\", \"GOOG\",\"AMZN\",\"META\",\"BRK-B\",\"TSM\"]\n",
    "# data = us_equity_daily_data_load(symbols = symbols, option = 'close')\n",
    "\n",
    "symbols = us_equity_symbol_load()\n",
    "symbols = symbols.head(100)\n",
    "# symbols = ['AAPL', 'NVDA']\n",
    "#symbols = ['TEAM', 'IAU', 'DKILY', 'OLCLY']\n",
    "# symbols = ['WFC', 'AXP', 'BX', 'GS']\n",
    "# us_analysis_finance = us_equity_finance(symbols)\n",
    "# finance_factors = us_analysis_finance.finance_factors_calc()\n",
    "\n",
    "\n",
    "# symbols = ['AAPL', 'NVDA', 'MSFT', 'AMD', 'GOOG', 'TSLA', 'AVGO', 'NXPI', 'ADI', 'QCOM', 'TSM' 'ARM']\n",
    "# symbol_list = ['000408']\n",
    "print(\"symbol list len \", len(symbols))\n",
    "factors = ['roe', 'roa', 'profit_revenue', 'revenue_increase_q2q_rate', 'cash_increase_q2q_rate']\n",
    "start_time = '2022-01-01'\n",
    "end_time = '2024-06-01'\n",
    "us_analysis_finance = us_equity_finance(symbols, factors,  start_time, end_time)\n",
    "result = us_analysis_finance.finance_factors_rank()\n",
    "\n",
    "us_equity_research_folder(\"finance\", 'finance_factors_rank.csv', result)\n",
    "print(result)"
   ]
  }
 ],
 "metadata": {
  "kernelspec": {
   "display_name": "openbb",
   "language": "python",
   "name": "python3"
  },
  "language_info": {
   "codemirror_mode": {
    "name": "ipython",
    "version": 3
   },
   "file_extension": ".py",
   "mimetype": "text/x-python",
   "name": "python",
   "nbconvert_exporter": "python",
   "pygments_lexer": "ipython3",
   "version": "3.9.5"
  }
 },
 "nbformat": 4,
 "nbformat_minor": 2
}
