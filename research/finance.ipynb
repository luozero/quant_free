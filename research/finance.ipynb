{
 "cells": [
  {
   "cell_type": "markdown",
   "metadata": {},
   "source": [
    "## equity price in sector"
   ]
  },
  {
   "cell_type": "code",
   "execution_count": 1,
   "metadata": {},
   "outputs": [
    {
     "data": {
      "text/html": [
       "        <script type=\"text/javascript\">\n",
       "        window.PlotlyConfig = {MathJaxConfig: 'local'};\n",
       "        if (window.MathJax && window.MathJax.Hub && window.MathJax.Hub.Config) {window.MathJax.Hub.Config({SVG: {font: \"STIX-Web\"}});}\n",
       "        if (typeof require !== 'undefined') {\n",
       "        require.undef(\"plotly\");\n",
       "        requirejs.config({\n",
       "            paths: {\n",
       "                'plotly': ['https://cdn.plot.ly/plotly-2.32.0.min']\n",
       "            }\n",
       "        });\n",
       "        require(['plotly'], function(Plotly) {\n",
       "            window._Plotly = Plotly;\n",
       "        });\n",
       "        }\n",
       "        </script>\n",
       "        "
      ]
     },
     "metadata": {},
     "output_type": "display_data"
    },
    {
     "data": {
      "text/html": [
       "        <script type=\"text/javascript\">\n",
       "        window.PlotlyConfig = {MathJaxConfig: 'local'};\n",
       "        if (window.MathJax && window.MathJax.Hub && window.MathJax.Hub.Config) {window.MathJax.Hub.Config({SVG: {font: \"STIX-Web\"}});}\n",
       "        if (typeof require !== 'undefined') {\n",
       "        require.undef(\"plotly\");\n",
       "        requirejs.config({\n",
       "            paths: {\n",
       "                'plotly': ['https://cdn.plot.ly/plotly-2.32.0.min']\n",
       "            }\n",
       "        });\n",
       "        require(['plotly'], function(Plotly) {\n",
       "            window._Plotly = Plotly;\n",
       "        });\n",
       "        }\n",
       "        </script>\n",
       "        "
      ]
     },
     "metadata": {},
     "output_type": "display_data"
    }
   ],
   "source": [
    "# Provides ways to work with large multidimensional arrays\n",
    "import numpy as np \n",
    "# Allows for further data manipulation and analysis\n",
    "import pandas as pd \n",
    "import matplotlib.pyplot as plt # Plotting\n",
    "import matplotlib.dates as mdates # Styling dates\n",
    "%matplotlib inline\n",
    "\n",
    "# pip install numpy\n",
    "# conda install -c anaconda pandas\n",
    "# conda install -c conda-forge matplotlib\n",
    "\n",
    "import datetime as dt # For defining dates\n",
    "\n",
    "import time\n",
    "\n",
    "# In Powershell Prompt : conda install -c conda-forge multitasking\n",
    "# pip install -i https://pypi.anaconda.org/ranaroussi/simple yfinance\n",
    "\n",
    "import yfinance as yf\n",
    "\n",
    "# To show all your output File -> Preferences -> Settings Search for Notebook\n",
    "# Notebook Output Text Line Limit and set to 100\n",
    "\n",
    "# Used for file handling like deleting files\n",
    "import os\n",
    "\n",
    "# conda install -c conda-forge cufflinks-py\n",
    "# conda install -c plotly plotly\n",
    "import cufflinks as cf\n",
    "import plotly.express as px\n",
    "import plotly.graph_objects as go\n",
    "\n",
    "# Make Plotly work in your Jupyter Notebook\n",
    "from plotly.offline import download_plotlyjs, init_notebook_mode, plot, iplot\n",
    "init_notebook_mode(connected=True)\n",
    "# Use Plotly locally\n",
    "cf.go_offline()\n",
    "\n",
    "from plotly.subplots import make_subplots\n",
    "\n",
    "# New Imports\n",
    "# Used to get data from a directory\n",
    "import os\n",
    "from os import listdir\n",
    "from os.path import isfile, join\n",
    "\n",
    "import warnings\n",
    "warnings.simplefilter(\"ignore\")\n",
    "\n",
    "\n",
    "import os\n",
    "import sys\n",
    "import seaborn as sns\n",
    "# from pathlib import Path\n",
    "# _this_dir = Path(__file__).parent.parent\n",
    "from dataset.us_equity_load import *\n",
    "\n",
    "from dataset.us_equity_finance_factor import *\n",
    "from dataset.us_equity_load import *\n"
   ]
  },
  {
   "cell_type": "code",
   "execution_count": 2,
   "metadata": {},
   "outputs": [
    {
     "name": "stdout",
     "output_type": "stream",
     "text": [
      "symbol list len  100\n",
      "no finance data skip stock BRK-B\n",
      "no finance data skip stock AVGO\n",
      "no finance data skip stock SPY\n",
      "no finance data skip stock LTMAY\n",
      "no finance data skip stock PEP\n",
      "no finance data skip stock CSCO\n",
      "no finance data skip stock DIS\n",
      "no finance data skip stock QQQ\n",
      "no finance data skip stock RTNTF\n",
      "no finance data skip stock EADSY\n",
      "no finance data skip stock BUD\n",
      "              roe        roa  profit_revenue  revenue_increase_q2q_rate  \\\n",
      "symbol                                                                    \n",
      "MA      41.942252   6.842766       44.954774                   9.808996   \n",
      "NVDA    14.725387   8.914950       34.138727                  64.198987   \n",
      "BHP           NaN  14.673735       27.842928                  23.609122   \n",
      "V       11.083143   4.787438       52.166456                   9.733883   \n",
      "AAPL    38.973286   7.083996       25.286205                   3.402410   \n",
      "...           ...        ...             ...                        ...   \n",
      "COST          NaN   2.376693        2.668265                   5.872763   \n",
      "FMX           NaN   0.788173        4.162157                  17.928086   \n",
      "MU      -0.080734   0.024669       -9.350665                  -7.910000   \n",
      "UBER   -10.188931  -2.719083      -12.310766                  29.033064   \n",
      "HDB      4.171229   0.481086       16.437642                -132.846286   \n",
      "\n",
      "        cash_increase_q2q_rate  scale_sum  \n",
      "symbol                                     \n",
      "MA                   11.068639  63.941752  \n",
      "NVDA                226.429248  63.617124  \n",
      "BHP                  42.928691  62.642153  \n",
      "V                     8.870257  57.814815  \n",
      "AAPL                  4.696361  56.879669  \n",
      "...                        ...        ...  \n",
      "COST                 51.957131  32.976760  \n",
      "FMX                   5.587271  32.692164  \n",
      "MU                  549.580957  30.325462  \n",
      "UBER               -287.878104  26.450371  \n",
      "HDB                -142.050363  25.680619  \n",
      "\n",
      "[89 rows x 6 columns]\n"
     ]
    }
   ],
   "source": [
    "symbols = [\"AMZN\", \"AAPL\", \"NFLX\", \"GOOG\"]\n",
    "symbols = [\"MSFT\", \"AAPL\", \"NVDA\", \"GOOG\",\"AMZN\",\"META\",\"BRK-B\",\"TSM\"]\n",
    "# data = us_equity_daily_data_load(symbols = symbols, option = 'close')\n",
    "\n",
    "symbols = us_equity_symbol_load()\n",
    "symbols = symbols.head(100)\n",
    "# symbols = ['AAPL', 'NVDA']\n",
    "#symbols = ['TEAM', 'IAU', 'DKILY', 'OLCLY']\n",
    "# symbols = ['WFC', 'AXP', 'BX', 'GS']\n",
    "# us_analysis_finance = us_equity_finance(symbols)\n",
    "# finance_factors = us_analysis_finance.finance_factors_calc()\n",
    "\n",
    "\n",
    "# symbols = ['AAPL', 'NVDA', 'MSFT', 'AMD', 'GOOG', 'TSLA', 'AVGO', 'NXPI', 'ADI', 'QCOM', 'TSM' 'ARM']\n",
    "# symbol_list = ['000408']\n",
    "print(\"symbol list len \", len(symbols))\n",
    "factors = ['roe', 'roa', 'profit_revenue', 'revenue_increase_q2q_rate', 'cash_increase_q2q_rate']\n",
    "start_time = '2022-01-01'\n",
    "end_time = '2024-06-01'\n",
    "us_analysis_finance = us_equity_finance(symbols, factors,  start_time, end_time)\n",
    "result = us_analysis_finance.finance_factors_rank()\n",
    "\n",
    "us_equity_research_folder(\"finance\", 'finance_factors_rank.csv', result)\n",
    "print(result)"
   ]
  }
 ],
 "metadata": {
  "kernelspec": {
   "display_name": "openbb",
   "language": "python",
   "name": "python3"
  },
  "language_info": {
   "codemirror_mode": {
    "name": "ipython",
    "version": 3
   },
   "file_extension": ".py",
   "mimetype": "text/x-python",
   "name": "python",
   "nbconvert_exporter": "python",
   "pygments_lexer": "ipython3",
   "version": "3.9.5"
  }
 },
 "nbformat": 4,
 "nbformat_minor": 2
}
