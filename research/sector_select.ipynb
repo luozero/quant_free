{
 "cells": [
  {
   "cell_type": "markdown",
   "metadata": {},
   "source": [
    "https://intelligence.financialmodelingprep.com/developer/docs/dashboard\n",
    "\n",
    "12OWYYwK9G6kahby6pGUZDqMRHLxrg6j"
   ]
  },
  {
   "cell_type": "code",
   "execution_count": 6,
   "metadata": {},
   "outputs": [],
   "source": [
    "import pandas as pd\n",
    "pd.set_option('display.max_rows', None)  # Show all rows\n",
    "pd.set_option('display.max_columns', None)  # Show all columns\n",
    "from utils.us_equity_utils import *\n",
    "import numpy as np\n",
    "\n",
    "import os\n",
    "\n",
    "# Set HTTP and HTTPS proxy\n",
    "os.environ['http_proxy'] = 'http://localhost:4080/'\n",
    "os.environ['https_proxy'] = 'http://localhost:4080/'\n",
    "# Initialize the Equities database\n",
    "import financedatabase as fd\n",
    "equities = fd.Equities()\n"
   ]
  },
  {
   "cell_type": "markdown",
   "metadata": {},
   "source": [
    "\n",
    "help\n",
    "https://github.com/JerBouma/FinanceDatabase/blob/main/examples/FInance%20Database%20-%201.%20Getting%20Started.ipynb"
   ]
  },
  {
   "cell_type": "code",
   "execution_count": 19,
   "metadata": {},
   "outputs": [],
   "source": [
    "# Obtain all possible options for equities\n",
    "# fd_option = fd.obtain_options(\"equities\")\n",
    "\n",
    "\n",
    "fd_option = fd.obtain_options(\"equities\")\n"
   ]
  },
  {
   "cell_type": "code",
   "execution_count": null,
   "metadata": {},
   "outputs": [],
   "source": [
    "print(fd_option)\n",
    "sectors = fd_option['industry']\n",
    "\n",
    "\n",
    "# Ensure the array is treated as a string array\n",
    "sectors = sectors.astype(str)\n",
    "# Vectorized operation to replace spaces with underscores\n",
    "sectors_underscored = np.char.replace(sectors, ' ', '_')\n",
    "sector_file = 'us_equity_sector.csv'\n",
    "us_dir1_store_csv(dir0 = 'symbol', dir1 = 'fh', filename=sector_file, data = pd.DataFrame(sectors_underscored, columns=['Sector']))\n",
    "\n",
    "for item in sectors:\n",
    "  file = item.replace(' ', '_') + '.csv'\n",
    "  df = equities.search(industry=item, exclude_exchanges=True, market = [\"NASDAQ Global Select\", \"New York Stock Exchange\"])\n",
    "  us_dir1_store_csv(dir0 = 'symbol', dir1 = 'fh', filename=file, data = df[~df.index.isnull()])\n",
    "\n"
   ]
  },
  {
   "cell_type": "markdown",
   "metadata": {},
   "source": [
    "Aerospace & Defense 航天 & 国防 (Hángtiān & Guófang)\n",
    "Air Freight & Logistics 航空货运 & 物流 (Hángkōng Huòyùn & Wùliú)\n",
    "Airlines 航空公司 (Hángkōng Gōngsī)\n",
    "Auto Components 汽车零部件 (Qìchē Língbùjiàn)\n",
    "Automobiles 汽车 (Qìchē)\n",
    "Banks 银行 (Yínháng)\n",
    "Beverages 饮料 (Yǐny料)\n",
    "Biotechnology 生物技术 (Shēngwù Jìshù)\n",
    "Building Products 建筑材料 (Jiànzhù Cáiliào)\n",
    "Capital Markets 资本市场 (Zīběn Shìchǎng)\n",
    "Chemicals 化工 (Huàgōng)\n",
    "Commercial Services & Supplies 商业服务和用品 (Shāngyè Fúwù hé Yòngpǐn)\n",
    "Communications Equipment 通信设备 (Tōngxìn Shèbèi)\n",
    "Construction & Engineering 建筑和工程 (Jiànzhù hé Gōngchéng)\n",
    "Construction Materials 建筑材料 (Jiànzhù Cáiliào) (This sector appears twice)\n",
    "Consumer Finance 消费金融 (Xiāofèi Jīnróng)\n",
    "Distributors 分销商 (Fēnxiaoshāng)\n",
    "Diversified Consumer Services 多元化消费者服务 (Duōyuánhuà Xiāofèizhe Fúwù)\n",
    "Diversified Financial Services 多元化金融服务 (Duōyuánhuà Jīnróng Fúwù)\n",
    "Diversified Telecommunication Services 多元化电信服务 (Duōyuánhuà Diànxìn Fúwù)\n",
    "Electric Utilities 电力公司 (Diànlì Gōngsī)\n",
    "Electrical Equipment 电气设备 (Diànqì Shèbèi)\n",
    "Electronic Equipment, Instruments & Components 电子设备、仪器和组件 (Diànzǐ Shèbèi, Yìqì hé Zuìjiàn)\n",
    "Energy Equipment & Services 能源设备和服务 (Néngyuán Shèbèi hé Fúwù)\n",
    "Entertainment 娱乐 (Yúlè)\n",
    "Equity Real Estate Investment Trusts (REITs) 房地产投资信托基金 (Fángdìchǎn Tóuzī Xìn託 Jījīn)\n",
    "Food & Staples Retailing 食品和必需品零售 (Shípìn hé Bìxūpǐn Lǐngshòu)\n",
    "Food Products 食品 (Shípìn)\n",
    "Gas Utilities 燃气公司 (Ránqì Gōngsī)\n",
    "Health Care Equipment & Supplies 医疗保健设备和用品 (Yīliáo Bǎojian Shèbèi hé Yòngpǐn)\n",
    "Health Care Providers & Services 医疗保健提供商和服务 (Yīliáo Bǎojian Tígōngsh商 hé Fúwù)\n",
    "Health Care Technology 医疗保健技术 (Yīliáo Bǎojian Jìshù)\n",
    "Hotels, Restaurants & Leisure 酒店、餐厅和休闲 (Jiǔdiàn, Cāntīng hé Xiūxián)\n",
    "Household Durables 耐用消费品 (Nàiyòng Xiāofèi Pǐn)\n",
    "Household Products 家用产品 (Jiājòng Chǎnpǐn)\n",
    "IT Services IT 服务 (IT Fúwù)\n",
    "Independent Power and Renewable Electricity Producers 独立发电和可再生能源生产商 (Dúlì Fādiàn hé Kě tái shēng Níngyuán Shēngchǎnsh商)\n",
    "Industrial Conglomerates 工业集团 (Gōngyè Jítuán)\n",
    "Insurance 保险 (Bǎoxiǎn)\n",
    "Interactive Media & Services 交互式媒体和服务 (Jiāohù Shì Mé躰i hé Fúwù)\n",
    "Internet & Direct Marketing Retail 互联网和直接营销零售 (Hùliánwǎng hé Zhíjiē Yíngxiāo Lǐngshòu)\n",
    "Machinery 机械 (Jiēxì)\n",
    "Marine 海事 (Hǎishì)\n",
    "Media 媒体 (Mé躰i)\n",
    "Metals & Mining 金属和矿业 (Jīn shǔ hé Kuàngyè)\n",
    "**Multi-Utilities 多元化公用"
   ]
  },
  {
   "cell_type": "code",
   "execution_count": null,
   "metadata": {},
   "outputs": [],
   "source": []
  },
  {
   "cell_type": "code",
   "execution_count": 2,
   "metadata": {},
   "outputs": [
    {
     "name": "stdout",
     "output_type": "stream",
     "text": [
      "Help on method search in module financedatabase.helpers:\n",
      "\n",
      "search(**kwargs: str) -> pandas.core.frame.DataFrame method of financedatabase.Equities.Equities instance\n",
      "    Description\n",
      "    ----\n",
      "    Search in the provided dictionary for a specific query.\n",
      "    \n",
      "    Input\n",
      "    ----\n",
      "    kwargs: str\n",
      "        Should contain the column name and query you wish to do.\n",
      "        This can for example be symbol=\"TSLA\" or sector=\"Technology\".\n",
      "    case_sensitive (boolean):\n",
      "        A variable that determines whether the query needs to be case\n",
      "        sensitive or not. Default is False.\n",
      "    \n",
      "    Output\n",
      "    ----\n",
      "    new_df pd.DataFrame\n",
      "        Returns a dataframe with a selection based on the input.\n",
      "\n"
     ]
    }
   ],
   "source": [
    "help(equities.search)\n",
    "# help(equities.select)"
   ]
  },
  {
   "cell_type": "code",
   "execution_count": null,
   "metadata": {},
   "outputs": [],
   "source": [
    "# df = equities.search(industry=\"Semiconductors & Semiconductor Equipment\", country=\"United States\", exclude_exchanges=True)\n",
    "# df = equities.select(industry=\"Semiconductors & Semiconductor Equipment\", exclude_exchanges=True)\n",
    "df = equities.search(industry=\"Electronic Equipment, Instruments & Components\", exclude_exchanges=True, market = [\"NASDAQ Global Select\", \"New York Stock Exchange\"])\n",
    "us_dir0_store_csv(dir0 = 'symbol', filename='Electronic_Equipment_Instruments_Components.csv', data = df[~df.index.isnull()])\n",
    "\n",
    "# df = equities.search(industry=\"Automobiles\", exclude_exchanges=True, market = [\"NASDAQ Global Select\", \"New York Stock Exchange\"])\n",
    "# us_dir0_store_csv(dir0 = 'symbol', filename='Automobiles.csv', data = df[~df.index.isnull()])\n",
    "\n",
    "# df = equities.search(industry=\"Entertainment\", exclude_exchanges=True, market = [\"NASDAQ Global Select\", \"New York Stock Exchange\"])\n",
    "# us_dir0_store_csv(dir0 = 'symbol', filename='Entertainment.csv', data = df[~df.index.isnull()])\n",
    "\n",
    "# df = equities.search(industry=\"IT Services\", exclude_exchanges=True, market = [\"NASDAQ Global Select\", \"New York Stock Exchange\"])\n",
    "# us_dir0_store_csv(dir0 = 'symbol', filename='IT_Services.csv', data = df[~df.index.isnull()])\n",
    "\n",
    "# df = equities.search(industry=\"Semiconductors & Semiconductor Equipment\", exclude_exchanges=True, market = [\"NASDAQ Global Select\", \"New York Stock Exchange\"])\n",
    "# us_dir0_store_csv(dir0 = 'symbol', filename='Semiconductors_Equipment.csv', data = df[~df.index.isnull()])\n",
    "\n",
    "# df = equities.search(industry=\"Internet & Direct Marketing Retail\", exclude_exchanges=True, market = [\"NASDAQ Global Select\", \"New York Stock Exchange\"])\n",
    "# us_dir0_store_csv(dir0 = 'symbol', filename='Internet_Retail.csv', data = df[~df.index.isnull()])\n",
    "# df = equities.select(industry=\"Technology Hardware, Storage & Peripherals\", country=\"United States\")\n",
    "# df = equities.select(industry=\"Electronic Equipment, Instruments & Components\", country=\"United States\")\n",
    "# df = equities.search(country=\"United States\", market_cap=\"Large Cap\")\n",
    "display(df[~df.index.isnull()])"
   ]
  }
 ],
 "metadata": {
  "kernelspec": {
   "display_name": "openbb",
   "language": "python",
   "name": "python3"
  },
  "language_info": {
   "codemirror_mode": {
    "name": "ipython",
    "version": 3
   },
   "file_extension": ".py",
   "mimetype": "text/x-python",
   "name": "python",
   "nbconvert_exporter": "python",
   "pygments_lexer": "ipython3",
   "version": "3.9.5"
  }
 },
 "nbformat": 4,
 "nbformat_minor": 2
}
