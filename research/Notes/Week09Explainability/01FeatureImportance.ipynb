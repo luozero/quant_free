{
 "cells": [
  {
   "cell_type": "markdown",
   "id": "eafe82c749f9ec4b",
   "metadata": {},
   "source": [
    "### Feature Importance with substitution effects\n",
    "\n",
    "Here is the translated text with appropriate LaTeX formatting for the formulas:\n",
    "\n",
    "---\n",
    "\n",
    "It is useful to classify **methods for estimating feature importance** based on whether they are affected by the **substitution effect**. In this context, a substitution effect occurs when the estimated feature importance decreases due to the presence of other **correlated features**. The **substitution effect** in machine learning is similar to **multicollinearity** in statistics or econometrics.\n",
    "\n",
    "One way to address the **linear substitution effect** is to apply **PCA (Principal Component Analysis)** to the original features. After transforming them into **orthogonal components**, feature importance can then be analyzed based on these transformed features."
   ]
  },
  {
   "cell_type": "markdown",
   "id": "8016b3292cd69786",
   "metadata": {},
   "source": [
    "#### $p-\\mathrm{value}$\n",
    "\n",
    "Here’s the revised translation with LaTeX properly formatted formulas enclosed in `$$`:\n",
    "\n",
    "---\n",
    "\n",
    "The **classical regression analysis framework** makes several assumptions about the fitted model, such as correct model specification, uncorrelated regressors, or white noise residuals. Based on the assumption that these hold true, researchers have aimed to determine the importance of explanatory variables through **hypothesis testing**. A common method for expressing the importance and explanatory power of variables is the **p-value**, a concept proposed in the 1700s.\n",
    "\n",
    "$$ \n",
    "p\\text{-value} = \\frac{\\hat{p} - p_0}{\\sqrt{\\frac{p_0(1 - p_0)}{n}}} \n",
    "$$\n",
    "\n",
    "The p-value quantifies the probability of obtaining a result as extreme as, or more extreme than, what we estimated under the assumption that the **true coefficient of the corresponding variable is 0**. It indicates how well the data conforms to the specified statistical model. However, the p-value does not measure the probability that the null or alternative hypothesis is true, nor the randomness of the data. Furthermore, **misuse of the p-value** is widespread and has caused reliability issues in financial research over recent decades.\n",
    "\n",
    "The biggest drawback of the p-value is that its validity **relies heavily on strong assumptions**. If any of these assumptions are violated, **false positives or false negatives** are more likely to occur. For this reason, in 2019, the **American Statistical Association** advised against the use of the p-value as a measure of statistical significance (Wasserstein et al. 2019).\n",
    "\n",
    "A second drawback of the p-value is that it **cannot be robustly estimated for variables with high multicollinearity**. When multicollinearity exists, traditional regression methods cannot distinguish between redundant information, leading to a **substitution effect** that inflates the p-value beyond its true value.\n",
    "\n",
    "A third drawback is that the p-value evaluates **irrelevant probabilities**. Given a null hypothesis $H_0$ and an estimated coefficient $\\hat{\\beta}$, the p-value estimates the probability of obtaining a result as extreme as $\\hat{\\beta}$, assuming $H_0$ is true. \n",
    "\n",
    "$$ \n",
    "H_0 \\quad \\text{and} \\quad \\hat{\\beta} \n",
    "$$\n",
    "\n",
    "However, researchers are often more interested in the **reverse probability**: the probability that $H_0$ is true given the observed $\\hat{\\beta}$. This probability can be calculated using **Bayes' theorem**, but it requires assumptions about the **prior distribution**.\n",
    "\n",
    "A fourth flaw of the p-value is that it **evaluates the significance of the sample**. The entire sample is used to solve two tasks: **estimating the coefficients and determining significance**. As a result, the p-value may be low for variables without any explanatory power outside the sample. Repeated **in-sample testing on the same dataset** increases the likelihood of false discoveries, which is **statistical malpractice**.\n",
    "\n",
    "In summary, the p-value demands too many assumptions, making it unsuitable for models with many variables, and it is not an appropriate measure for estimating significance. The example below illustrates how the p-value can dilute information."
   ]
  },
  {
   "cell_type": "markdown",
   "id": "f25651916a2f0454",
   "metadata": {},
   "source": [
    "Here’s the translated version with clear formatting:\n",
    "\n",
    "---\n",
    "\n",
    "The following function generates **informative, redundant, and noise features**. Each feature has the following characteristics:\n",
    "\n",
    "1. **Informative**: A feature that provides unique and independent information that is critical for predicting the label.\n",
    "2. **Redundant**: A feature that contributes important information for predicting the label but exhibits **multicollinearity** with other features.\n",
    "3. **Noise**: A feature that has **minimal or no impact** on label prediction."
   ]
  },
  {
   "cell_type": "code",
   "execution_count": 6,
   "id": "initial_id",
   "metadata": {
    "ExecuteTime": {
     "end_time": "2024-05-24T13:58:46.069423Z",
     "start_time": "2024-05-24T13:58:46.066543Z"
    },
    "collapsed": true
   },
   "outputs": [],
   "source": [
    "import pandas as pd\n",
    "import numpy as np\n",
    "from quant_free.FinancialMachineLearning.generator.classification_data import get_test_data"
   ]
  },
  {
   "cell_type": "markdown",
   "id": "83765f3832281958",
   "metadata": {},
   "source": [
    "Here’s the translation:  \n",
    "\n",
    "---\n",
    "\n",
    "The total number of features is set to **20**. Among them:  \n",
    "- **5 informative features**  \n",
    "- **5 redundant features**  \n",
    "- **10 noise features** (automatically determined)  \n",
    "\n",
    "The number of **observations** is **1000**. These features will be generated accordingly."
   ]
  },
  {
   "cell_type": "code",
   "execution_count": 7,
   "id": "b2599415f2565fc0",
   "metadata": {
    "ExecuteTime": {
     "end_time": "2024-05-24T13:58:46.210424Z",
     "start_time": "2024-05-24T13:58:46.070245Z"
    }
   },
   "outputs": [],
   "source": [
    "trnsX, cont = get_test_data(\n",
    "    n_features = 20, \n",
    "    n_informative = 5, \n",
    "    n_redundant = 5, \n",
    "    n_samples = 1000\n",
    ")"
   ]
  },
  {
   "cell_type": "markdown",
   "id": "cdeec8bd",
   "metadata": {},
   "source": [
    "## Here’s the logistic regression model with the requested format:\n",
    "\n",
    "The formula for the logit model is:\n",
    "\n",
    "$$\n",
    "\\text{logit}(p) = \\log\\left(\\frac{p}{1 - p}\\right) = \\beta_0 + \\beta_1 X_1 + \\beta_2 X_2 + \\ldots + \\beta_k X_k\n",
    "$$\n",
    "\n",
    "Where:\n",
    "- $p$ is the probability of the outcome (e.g., the probability that the dependent variable equals 1).\n",
    "- $\\beta_0$ is the intercept (constant term).\n",
    "- $\\beta_1, \\beta_2, \\ldots, \\beta_k$ are the coefficients for each predictor variable $X_1, X_2, \\ldots, X_k$.\n",
    "\n",
    "To find the probability $p$ from the logit, you can use the inverse logit function:\n",
    "\n",
    "$$\n",
    "p = \\frac{1}{1 + e^{-(\\beta_0 + \\beta_1 X_1 + \\beta_2 X_2 + \\ldots + \\beta_k X_k)}}\n",
    "$$\n",
    "\n",
    "This represents the logistic function, which maps any real-valued number into the $(0, 1)$ interval, making it suitable for probability estimation."
   ]
  },
  {
   "cell_type": "markdown",
   "id": "becf30b3",
   "metadata": {},
   "source": [
    "## calculate the p-value in the context of a logistic regression model, you typically follow these steps:\n",
    "\n",
    "1. **Fit the Logistic Regression Model**: Use your data to fit the model, which estimates the coefficients ($\\beta$) for each predictor variable.\n",
    "\n",
    "2. **Calculate the Test Statistic**: For each coefficient, you calculate the test statistic, which is usually the ratio of the estimated coefficient to its standard error:\n",
    "\n",
    "   $$\n",
    "   z = \\frac{\\hat{\\beta}}{SE(\\hat{\\beta})}\n",
    "   $$\n",
    "\n",
    "   Where:\n",
    "   - $\\hat{\\beta}$ is the estimated coefficient.\n",
    "   - $SE(\\hat{\\beta})$ is the standard error of the estimated coefficient.\n",
    "\n",
    "3. **Determine the p-value**: The p-value is derived from the test statistic. In the case of logistic regression, the test statistic follows a standard normal distribution (Z-distribution) under the null hypothesis (that the coefficient is equal to zero).\n",
    "\n",
    "   You can calculate the p-value as follows:\n",
    "\n",
    "   - For a two-tailed test:\n",
    "\n",
    "   $$\n",
    "   p\\text{-value} = 2 \\cdot (1 - \\Phi(|z|))\n",
    "   $$\n",
    "\n",
    "   Where $\\Phi$ is the cumulative distribution function (CDF) of the standard normal distribution.\n",
    "\n",
    "4. **Interpret the p-value**: A low p-value (typically < 0.05) indicates that you can reject the null hypothesis, suggesting that the predictor variable is significantly associated with the response variable.\n",
    "\n",
    "In Python, using the `statsmodels` library, you can easily obtain p-values after fitting a logistic regression model. For example:\n",
    "\n",
    "```python\n",
    "import statsmodels.api as sm\n",
    "\n",
    "# Fit the model\n",
    "model = sm.Logit(y, X).fit()\n",
    "\n",
    "# Display the summary, which includes p-values\n",
    "print(model.summary())\n",
    "```\n",
    "\n",
    "The output will include the p-values for each predictor variable in the model."
   ]
  },
  {
   "cell_type": "code",
   "execution_count": 8,
   "id": "3f7b406fdf202f7",
   "metadata": {
    "ExecuteTime": {
     "end_time": "2024-05-24T13:58:46.504262Z",
     "start_time": "2024-05-24T13:58:46.210949Z"
    }
   },
   "outputs": [
    {
     "name": "stdout",
     "output_type": "stream",
     "text": [
      "Warning: Maximum number of iterations has been exceeded.\n",
      "         Current function value: 0.438438\n",
      "         Iterations: 35\n"
     ]
    }
   ],
   "source": [
    "import statsmodels.api as sm\n",
    "import warnings\n",
    "warnings.filterwarnings('ignore')\n",
    "\n",
    "ols = sm.Logit(cont['bin'], trnsX).fit()"
   ]
  },
  {
   "cell_type": "code",
   "execution_count": 19,
   "id": "7cf1c46c037fb824",
   "metadata": {
    "ExecuteTime": {
     "end_time": "2024-05-24T13:58:46.689998Z",
     "start_time": "2024-05-24T13:58:46.512048Z"
    }
   },
   "outputs": [
    {
     "data": {
      "image/png": "[encoded data removed]",
      "text/plain": [
       "<Figure size 1000x400 with 1 Axes>"
      ]
     },
     "metadata": {},
     "output_type": "display_data"
    }
   ],
   "source": [
    "import matplotlib.pyplot as plt\n",
    "\n",
    "plt.figure(figsize = (10, 4))\n",
    "plt.barh(\n",
    "    ols.pvalues.sort_values(ascending = True).index, \n",
    "    ols.pvalues.sort_values(ascending = True), \n",
    "    color = 'b', alpha = 0.25, height = 0.5\n",
    ")\n",
    "plt.axvline(0.05, ls = ':', color = 'r')\n",
    "plt.grid(False)\n",
    "plt.title('p-values')\n",
    "plt.show()"
   ]
  },
  {
   "cell_type": "markdown",
   "id": "834711d51ef8c4bb",
   "metadata": {},
   "source": [
    "Here’s the translation:  \n",
    "\n",
    "---\n",
    "\n",
    "Unfortunately, financial datasets often exhibit **high multicollinearity** due to common risk factors shared across various aspects of the investment environment, such as **market, sector, rating, value, momentum, quality of earnings, and time horizon**.  \n",
    "\n",
    "In such situations, financial researchers should refrain from **relying solely on p-values**. It is essential for them to be familiar with **additional methods** to determine which variables contain relevant information regarding specific phenomena.\n",
    "\n",
    "#### Mean Decrease Importance\n",
    "\n",
    "Here is the revised version with LaTeX formulas properly formatted using **$** symbols:\n",
    "\n",
    "---\n",
    "\n",
    "Let’s assume we have **N training samples**, each consisting of **F features** and one label per observation. Classification or regression algorithms based on **tree models** split the label at each node \\(t\\) into two samples. For a given feature \\(X_f\\), the labels in node \\(t\\) with values less than or equal to a chosen threshold \\(\\tau\\) are placed in the **left sample**, while the rest are placed in the **right sample**. This process is called a **split**, and most ensemble models like **Random Forest**, **XGBoost**, and **CatBoost** follow this splitting mechanism.\n",
    "\n",
    "The impurity of a label’s distribution for each sample can be evaluated using **entropy**, **Gini impurity**, or other criteria. Intuitively, the sample is considered the purest when it contains only one type of label, while impurity is at its highest when labels are distributed uniformly. The **information gain** from a split is measured by the reduction in impurity:\n",
    "\n",
    "\\[\n",
    "$\\Delta g(t, f) = i(t) - \\frac{N_t^{(0)}}{N_t}i(t^{(0)}) - \\frac{N_t^{(1)}}{N_t}i(t^{(1)})$\n",
    "\\]\n",
    "\n",
    "Where:  \n",
    "- $i(t)$ is the impurity of the labels at node $t$,  \n",
    "- $i(t^{(0)})$ is the impurity of the left sample,  \n",
    "- $i(t^{(1)})$ is the impurity of the right sample.\n",
    "\n",
    "At each node $t$, the classification model evaluates $\\Delta g(t, f)$ for the various features $\\{X_f\\}_{1, \\dots, F}$ and determines the **optimal threshold** that maximizes $\\Delta g(t, f)$. The feature associated with the highest $\\Delta g(t, f)$ is selected for splitting. The algorithm continues to split samples until no further information gain occurs or some **early stopping condition** (such as a minimum impurity threshold) is satisfied.\n",
    "\n",
    "---\n",
    "\n",
    "### **Feature Importance and Mean Decrease Impurity (MDI)**\n",
    "\n",
    "Feature importance can be calculated for all selected nodes using **Weighted Information Gain**. **MDI (Mean Decrease Impurity)** indicates how much each feature contributes to reducing impurity, and the sum of all feature importances is 1. If there are $F$ features with equal information, the expected importance of each feature would be $\\frac{1}{F}$.\n",
    "\n",
    "---\n",
    "\n",
    "### **Considerations when using MDI**:\n",
    "\n",
    "1. **Masking Effect**:  \n",
    "   If the tree-based classifier systematically prefers certain features over others, some features may be **masked**. To overcome this, set `max_features = 1` when using `RandomForestClassifier` in `sklearn`. This ensures that only **one random feature** is considered at each level:\n",
    "   - This gives each feature a chance to reduce impurity.\n",
    "   - Features with 0 importance should not be included in the average calculation, as they were not selected purely by chance. These values should be replaced with `numpy.nan` or similar.\n",
    "\n",
    "2. **In-Sample Process**:  \n",
    "   The procedure is inherently **in-sample**, meaning that even features without predictive power may still have some importance.\n",
    "\n",
    "3. **Non-Generality**:  \n",
    "   MDI cannot be generalized to **non-tree-based classifiers**.\n",
    "\n",
    "4. **Sum to One**:  \n",
    "   By design, MDI ensures that the sum of all feature importances equals 1, and each feature’s importance lies between 0 and 1.\n",
    "\n",
    "5. **Substitution Effect**:  \n",
    "   MDI does not address **substitution effects** when correlated features are present. It dilutes the importance of interchangeable features because of their redundancy. As a result, the importance of two identical features is halved, as either one could be chosen with equal probability.\n",
    "\n",
    "6. **Bias toward High Cardinality**:  \n",
    "   Strobl et al. (2007) demonstrated experimentally that MDI can be biased towards certain predictors. White & Liu (1994) argued that for a single decision tree, this bias favored predictors with many categories, as impurity functions tended to work unfairly in their favor.\n",
    "\n",
    "---\n",
    "\n",
    "### **MDI Estimation in sklearn’s Ensemble Models**:\n",
    "\n",
    "`sklearn` provides a built-in method for estimating MDI feature importance in ensemble models like Random Forest, as shown below:\n",
    "\n",
    "```python\n",
    "importances = forest.feature_importances_\n",
    "std = np.std([tree.feature_importances_ for tree in forest.estimators_], axis=0)\n",
    "```\n",
    "\n",
    "The **importance estimates** correspond to the **beta coefficients** in econometric models, while **standard deviation** serves a similar role to estimating a **t-distribution** for variables. Thus, feature importance can function as a parameter.\n",
    "\n",
    "---\n",
    "\n",
    "### **Time Series Models and Feature Importance**:\n",
    "\n",
    "Since we are dealing with **time series models**, we should use feature importance that accounts for **temporal redundancy**."
   ]
  },
  {
   "cell_type": "code",
   "execution_count": 20,
   "id": "46ff206af6eeba8f",
   "metadata": {
    "ExecuteTime": {
     "end_time": "2024-05-24T13:58:48.147610Z",
     "start_time": "2024-05-24T13:58:46.703787Z"
    }
   },
   "outputs": [],
   "source": [
    "from sklearn.ensemble import RandomForestClassifier\n",
    "\n",
    "from sklearn.metrics import accuracy_score\n",
    "from quant_free.FinancialMachineLearning.feature_importance import *\n",
    "\n",
    "forest = RandomForestClassifier(\n",
    "    criterion = 'entropy',\n",
    "    class_weight = 'balanced_subsample',\n",
    "    min_weight_fraction_leaf = 0.0,\n",
    "    random_state = 42,\n",
    "    n_estimators = 1000,\n",
    "    max_features = 1,\n",
    "    oob_score = True,\n",
    "    n_jobs = 1\n",
    ")\n",
    "\n",
    "fit = forest.fit(X = trnsX, y = cont['bin'])\n",
    "oob_score = fit.oob_score_"
   ]
  },
  {
   "cell_type": "code",
   "execution_count": 21,
   "id": "91f8d989d2801423",
   "metadata": {
    "ExecuteTime": {
     "end_time": "2024-05-24T13:58:48.151937Z",
     "start_time": "2024-05-24T13:58:48.148306Z"
    }
   },
   "outputs": [],
   "source": [
    "from quant_free.FinancialMachineLearning.cross_validation.cross_validation import PurgedKFold, cross_val_score\n",
    "cv_gen = PurgedKFold(\n",
    "    n_splits = 5, \n",
    "    samples_info_sets = cont['t1']\n",
    ")"
   ]
  },
  {
   "cell_type": "code",
   "execution_count": 18,
   "id": "7aabdcbb5da01031",
   "metadata": {
    "ExecuteTime": {
     "end_time": "2024-05-24T13:58:53.693839Z",
     "start_time": "2024-05-24T13:58:48.152619Z"
    }
   },
   "outputs": [
    {
     "ename": "KeyboardInterrupt",
     "evalue": "",
     "output_type": "error",
     "traceback": [
      "\u001b[0;31m---------------------------------------------------------------------------\u001b[0m",
      "\u001b[0;31mKeyboardInterrupt\u001b[0m                         Traceback (most recent call last)",
      "Cell \u001b[0;32mIn[18], line 1\u001b[0m\n\u001b[0;32m----> 1\u001b[0m oos_score \u001b[38;5;241m=\u001b[39m \u001b[43mcross_val_score\u001b[49m(\n\u001b[1;32m      2\u001b[0m     forest, \u001b[38;5;66;03m# base classifier\u001b[39;00m\n\u001b[1;32m      3\u001b[0m     trnsX, \u001b[38;5;66;03m# train features\u001b[39;00m\n\u001b[1;32m      4\u001b[0m     cont[\u001b[38;5;124m'\u001b[39m\u001b[38;5;124mbin\u001b[39m\u001b[38;5;124m'\u001b[39m], \u001b[38;5;66;03m# train labels\u001b[39;00m\n\u001b[1;32m      5\u001b[0m     cv_gen \u001b[38;5;241m=\u001b[39m cv_gen, \u001b[38;5;66;03m# purged k fold cross validation class\u001b[39;00m\n\u001b[1;32m      6\u001b[0m     scoring \u001b[38;5;241m=\u001b[39m accuracy_score \u001b[38;5;66;03m# optimizing to accuracy score\u001b[39;00m\n\u001b[1;32m      7\u001b[0m )\u001b[38;5;241m.\u001b[39mmean()\n",
      "Cell \u001b[0;32mIn[18], line 1\u001b[0m\n\u001b[0;32m----> 1\u001b[0m oos_score \u001b[38;5;241m=\u001b[39m \u001b[43mcross_val_score\u001b[49m(\n\u001b[1;32m      2\u001b[0m     forest, \u001b[38;5;66;03m# base classifier\u001b[39;00m\n\u001b[1;32m      3\u001b[0m     trnsX, \u001b[38;5;66;03m# train features\u001b[39;00m\n\u001b[1;32m      4\u001b[0m     cont[\u001b[38;5;124m'\u001b[39m\u001b[38;5;124mbin\u001b[39m\u001b[38;5;124m'\u001b[39m], \u001b[38;5;66;03m# train labels\u001b[39;00m\n\u001b[1;32m      5\u001b[0m     cv_gen \u001b[38;5;241m=\u001b[39m cv_gen, \u001b[38;5;66;03m# purged k fold cross validation class\u001b[39;00m\n\u001b[1;32m      6\u001b[0m     scoring \u001b[38;5;241m=\u001b[39m accuracy_score \u001b[38;5;66;03m# optimizing to accuracy score\u001b[39;00m\n\u001b[1;32m      7\u001b[0m )\u001b[38;5;241m.\u001b[39mmean()\n",
      "File \u001b[0;32m_pydevd_bundle/pydevd_cython.pyx:1457\u001b[0m, in \u001b[0;36m_pydevd_bundle.pydevd_cython.SafeCallWrapper.__call__\u001b[0;34m()\u001b[0m\n",
      "File \u001b[0;32m_pydevd_bundle/pydevd_cython.pyx:701\u001b[0m, in \u001b[0;36m_pydevd_bundle.pydevd_cython.PyDBFrame.trace_dispatch\u001b[0;34m()\u001b[0m\n",
      "File \u001b[0;32m_pydevd_bundle/pydevd_cython.pyx:1152\u001b[0m, in \u001b[0;36m_pydevd_bundle.pydevd_cython.PyDBFrame.trace_dispatch\u001b[0;34m()\u001b[0m\n",
      "File \u001b[0;32m_pydevd_bundle/pydevd_cython.pyx:1135\u001b[0m, in \u001b[0;36m_pydevd_bundle.pydevd_cython.PyDBFrame.trace_dispatch\u001b[0;34m()\u001b[0m\n",
      "File \u001b[0;32m_pydevd_bundle/pydevd_cython.pyx:312\u001b[0m, in \u001b[0;36m_pydevd_bundle.pydevd_cython.PyDBFrame.do_wait_suspend\u001b[0;34m()\u001b[0m\n",
      "File \u001b[0;32m/opt/openbb/lib/python3.9/site-packages/debugpy/_vendored/pydevd/pydevd.py:2070\u001b[0m, in \u001b[0;36mPyDB.do_wait_suspend\u001b[0;34m(self, thread, frame, event, arg, exception_type)\u001b[0m\n\u001b[1;32m   2067\u001b[0m             from_this_thread\u001b[38;5;241m.\u001b[39mappend(frame_custom_thread_id)\n\u001b[1;32m   2069\u001b[0m     \u001b[38;5;28;01mwith\u001b[39;00m \u001b[38;5;28mself\u001b[39m\u001b[38;5;241m.\u001b[39m_threads_suspended_single_notification\u001b[38;5;241m.\u001b[39mnotify_thread_suspended(thread_id, thread, stop_reason):\n\u001b[0;32m-> 2070\u001b[0m         keep_suspended \u001b[38;5;241m=\u001b[39m \u001b[38;5;28;43mself\u001b[39;49m\u001b[38;5;241;43m.\u001b[39;49m\u001b[43m_do_wait_suspend\u001b[49m\u001b[43m(\u001b[49m\u001b[43mthread\u001b[49m\u001b[43m,\u001b[49m\u001b[43m \u001b[49m\u001b[43mframe\u001b[49m\u001b[43m,\u001b[49m\u001b[43m \u001b[49m\u001b[43mevent\u001b[49m\u001b[43m,\u001b[49m\u001b[43m \u001b[49m\u001b[43marg\u001b[49m\u001b[43m,\u001b[49m\u001b[43m \u001b[49m\u001b[43msuspend_type\u001b[49m\u001b[43m,\u001b[49m\u001b[43m \u001b[49m\u001b[43mfrom_this_thread\u001b[49m\u001b[43m,\u001b[49m\u001b[43m \u001b[49m\u001b[43mframes_tracker\u001b[49m\u001b[43m)\u001b[49m\n\u001b[1;32m   2072\u001b[0m frames_list \u001b[38;5;241m=\u001b[39m \u001b[38;5;28;01mNone\u001b[39;00m\n\u001b[1;32m   2074\u001b[0m \u001b[38;5;28;01mif\u001b[39;00m keep_suspended:\n\u001b[1;32m   2075\u001b[0m     \u001b[38;5;66;03m# This means that we should pause again after a set next statement.\u001b[39;00m\n",
      "File \u001b[0;32m/opt/openbb/lib/python3.9/site-packages/debugpy/_vendored/pydevd/pydevd.py:2106\u001b[0m, in \u001b[0;36mPyDB._do_wait_suspend\u001b[0;34m(self, thread, frame, event, arg, suspend_type, from_this_thread, frames_tracker)\u001b[0m\n\u001b[1;32m   2103\u001b[0m         \u001b[38;5;28mself\u001b[39m\u001b[38;5;241m.\u001b[39m_call_input_hook()\n\u001b[1;32m   2105\u001b[0m     \u001b[38;5;28mself\u001b[39m\u001b[38;5;241m.\u001b[39mprocess_internal_commands()\n\u001b[0;32m-> 2106\u001b[0m     \u001b[43mtime\u001b[49m\u001b[38;5;241;43m.\u001b[39;49m\u001b[43msleep\u001b[49m\u001b[43m(\u001b[49m\u001b[38;5;241;43m0.01\u001b[39;49m\u001b[43m)\u001b[49m\n\u001b[1;32m   2108\u001b[0m \u001b[38;5;28mself\u001b[39m\u001b[38;5;241m.\u001b[39mcancel_async_evaluation(get_current_thread_id(thread), \u001b[38;5;28mstr\u001b[39m(\u001b[38;5;28mid\u001b[39m(frame)))\n\u001b[1;32m   2110\u001b[0m \u001b[38;5;66;03m# process any stepping instructions\u001b[39;00m\n",
      "\u001b[0;31mKeyboardInterrupt\u001b[0m: "
     ]
    }
   ],
   "source": [
    "oos_score = cross_val_score(\n",
    "    forest, # base classifier\n",
    "    trnsX, # train features\n",
    "    cont['bin'], # train labels\n",
    "    cv_gen = cv_gen, # purged k fold cross validation class\n",
    "    scoring = accuracy_score # optimizing to accuracy score\n",
    ").mean()"
   ]
  },
  {
   "cell_type": "code",
   "execution_count": 13,
   "id": "dfa583016fd3885e",
   "metadata": {
    "ExecuteTime": {
     "end_time": "2024-05-24T13:58:53.711512Z",
     "start_time": "2024-05-24T13:58:53.694717Z"
    }
   },
   "outputs": [],
   "source": [
    "from quant_free.FinancialMachineLearning.feature_importance.importance import *\n",
    "mdi = mean_decrease_impurity(fit, trnsX.columns)"
   ]
  },
  {
   "cell_type": "code",
   "execution_count": 14,
   "id": "dc407ab67e8b81c6",
   "metadata": {
    "ExecuteTime": {
     "end_time": "2024-05-24T13:58:53.717175Z",
     "start_time": "2024-05-24T13:58:53.712124Z"
    }
   },
   "outputs": [
    {
     "data": {
      "text/html": [
       "<div>\n",
       "<style scoped>\n",
       "    .dataframe tbody tr th:only-of-type {\n",
       "        vertical-align: middle;\n",
       "    }\n",
       "\n",
       "    .dataframe tbody tr th {\n",
       "        vertical-align: top;\n",
       "    }\n",
       "\n",
       "    .dataframe thead th {\n",
       "        text-align: right;\n",
       "    }\n",
       "</style>\n",
       "<table border=\"1\" class=\"dataframe\">\n",
       "  <thead>\n",
       "    <tr style=\"text-align: right;\">\n",
       "      <th></th>\n",
       "      <th>mean</th>\n",
       "      <th>std</th>\n",
       "    </tr>\n",
       "  </thead>\n",
       "  <tbody>\n",
       "    <tr>\n",
       "      <th>I_0</th>\n",
       "      <td>0.109971</td>\n",
       "      <td>0.003659</td>\n",
       "    </tr>\n",
       "    <tr>\n",
       "      <th>I_1</th>\n",
       "      <td>0.042910</td>\n",
       "      <td>0.000926</td>\n",
       "    </tr>\n",
       "    <tr>\n",
       "      <th>I_2</th>\n",
       "      <td>0.044977</td>\n",
       "      <td>0.001045</td>\n",
       "    </tr>\n",
       "    <tr>\n",
       "      <th>I_3</th>\n",
       "      <td>0.078038</td>\n",
       "      <td>0.002625</td>\n",
       "    </tr>\n",
       "    <tr>\n",
       "      <th>I_4</th>\n",
       "      <td>0.055409</td>\n",
       "      <td>0.001246</td>\n",
       "    </tr>\n",
       "  </tbody>\n",
       "</table>\n",
       "</div>"
      ],
      "text/plain": [
       "         mean       std\n",
       "I_0  0.109971  0.003659\n",
       "I_1  0.042910  0.000926\n",
       "I_2  0.044977  0.001045\n",
       "I_3  0.078038  0.002625\n",
       "I_4  0.055409  0.001246"
      ]
     },
     "execution_count": 14,
     "metadata": {},
     "output_type": "execute_result"
    }
   ],
   "source": [
    "mdi.head()"
   ]
  },
  {
   "cell_type": "code",
   "execution_count": 17,
   "id": "453cbafd3cf814d8",
   "metadata": {
    "ExecuteTime": {
     "end_time": "2024-05-24T13:58:53.865303Z",
     "start_time": "2024-05-24T13:58:53.719380Z"
    }
   },
   "outputs": [
    {
     "data": {
      "image/png": "[encoded data removed]",
      "text/plain": [
       "<Figure size 1000x400 with 1 Axes>"
      ]
     },
     "metadata": {},
     "output_type": "display_data"
    }
   ],
   "source": [
    "plot_feature_importance(\n",
    "    mdi,\n",
    "    oob_score = oob_score,\n",
    "    oos_score = oos_score,\n",
    "    save_fig = True,\n",
    "    output_path = './research/Notes/Week09Explainability/images/MDI_feature_importance.png'\n",
    ")\n",
    "plt.grid(False)\n",
    "plt.show()"
   ]
  },
  {
   "cell_type": "markdown",
   "id": "a008ab219ccce7b3",
   "metadata": {},
   "source": [
    "Here’s the translation:\n",
    "\n",
    "---\n",
    "\n",
    "When comparing the results of the p-value, it can be observed that all **noise features** are ranked lower. It is evident that features with relevant **information** and **redundant features** have high importance in model training.\n",
    "\n",
    "**MDI feature importance** has the following advantages:\n",
    "\n",
    "1. MDI does not require strong **distributional assumptions** about the variables for calculation. In other words, the distribution of the variables can take any form.\n",
    "2. While the **beta** of a statistical model is estimated based on a single sample, MDI feature importance in an ensemble model is derived through **bootstrapping**. Therefore, the variance of the estimates can be reduced by increasing the number of ensemble estimators.\n",
    "3. The goal of a classifier with a **tree-based model** is not to estimate the coefficients of a given algebraic equation, thus it is independent of estimating the probability of a specific null hypothesis. As a result, it identifies and scores features that are practically helpful in the estimator.\n",
    "\n",
    "However, since MDI is calculated strictly within the sample, there is a possibility of **overfitting**. The **MDA feature importance** introduced later addresses this drawback."
   ]
  },
  {
   "cell_type": "markdown",
   "id": "ba04d26a07756695",
   "metadata": {},
   "source": [
    "#### Mean Decrease Accuracy\n",
    "\n",
    "Here’s the translation:\n",
    "\n",
    "---\n",
    "\n",
    "Both **p-value** and **MDI** highlight the point that variables appearing significant within the sample may not necessarily be relevant for the prediction purpose. To address this issue, **MDA (Mean Decrease Accuracy) feature importance** has been proposed.\n",
    "\n",
    "MDA operates as follows:\n",
    "\n",
    "1. Fit the model and calculate cross-validated performance.\n",
    "2. Use the same fitted model to calculate cross-validated performance, with the only difference being that the observations related to one of the features are shuffled. This provides one modified cross-validation performance score per feature.\n",
    "3. By comparing the cross-validated performance before and after shuffling, the MDA score associated with the specific feature can be derived. **If the feature is important, then under independence, the shuffling should lead to a significant decrease in performance.**\n",
    "\n",
    "An important attribute of MDA is that, like MDI, it is an average of multiple estimates rather than a single estimate. Generally, MDA feature importance is often referred to as **permutation importance**, and it can be implemented as follows:\n",
    "\n",
    "```python\n",
    "from sklearn.inspection import permutation_importance\n",
    "r = permutation_importance(\n",
    "    model, X_val, y_val,\n",
    "    n_repeats=30,\n",
    "    random_state=0\n",
    ")\n",
    "```\n",
    "\n",
    "Since we are dealing with time series data where the order of events is crucial, we will use the MDA feature importance from the example below rather than using permutation importance directly.\n",
    "\n",
    "One important point is that if features are not independent, MDA may underestimate the importance of correlated features. In extreme cases, when considering two features that are both very important but similar, shuffling one feature may offset the effect due to the presence of the other feature, leading to the conclusion that both features are unimportant. Let’s examine the example below to confirm this."
   ]
  },
  {
   "cell_type": "code",
   "execution_count": 11,
   "id": "7bdc487ccd5da410",
   "metadata": {
    "ExecuteTime": {
     "end_time": "2024-05-24T13:58:55.665769Z",
     "start_time": "2024-05-24T13:58:53.866961Z"
    }
   },
   "outputs": [],
   "source": [
    "forest = RandomForestClassifier(\n",
    "    criterion = 'entropy',\n",
    "    class_weight = 'balanced_subsample',\n",
    "    min_weight_fraction_leaf = 0.0,\n",
    "    random_state = 42,\n",
    "    n_estimators = 1000,\n",
    "    max_features = 3,\n",
    "    oob_score = True,\n",
    "    n_jobs = 1\n",
    ")\n",
    "\n",
    "fit = forest.fit(X = trnsX, y = cont['bin'])\n",
    "oob_score = fit.oob_score_"
   ]
  },
  {
   "cell_type": "code",
   "execution_count": 12,
   "id": "19f0d17a754d0a92",
   "metadata": {
    "ExecuteTime": {
     "end_time": "2024-05-24T13:59:06.284343Z",
     "start_time": "2024-05-24T13:58:55.666324Z"
    }
   },
   "outputs": [
    {
     "name": "stderr",
     "output_type": "stream",
     "text": [
      "5it [00:10,  2.12s/it]\n"
     ]
    }
   ],
   "source": [
    "mda = mean_decrease_accuracy(\n",
    "    fit, # base classification model\n",
    "    trnsX, # train features\n",
    "    cont['bin'], # train labels\n",
    "    cv_gen, # purged k fold cross validation class\n",
    "    scoring = accuracy_score\n",
    ")"
   ]
  },
  {
   "cell_type": "code",
   "execution_count": 13,
   "id": "47d57aacbfb0ddb7",
   "metadata": {
    "ExecuteTime": {
     "end_time": "2024-05-24T13:59:06.289253Z",
     "start_time": "2024-05-24T13:59:06.285480Z"
    }
   },
   "outputs": [
    {
     "data": {
      "text/html": [
       "<div>\n",
       "<style scoped>\n",
       "    .dataframe tbody tr th:only-of-type {\n",
       "        vertical-align: middle;\n",
       "    }\n",
       "\n",
       "    .dataframe tbody tr th {\n",
       "        vertical-align: top;\n",
       "    }\n",
       "\n",
       "    .dataframe thead th {\n",
       "        text-align: right;\n",
       "    }\n",
       "</style>\n",
       "<table border=\"1\" class=\"dataframe\">\n",
       "  <thead>\n",
       "    <tr style=\"text-align: right;\">\n",
       "      <th></th>\n",
       "      <th>mean</th>\n",
       "      <th>std</th>\n",
       "    </tr>\n",
       "  </thead>\n",
       "  <tbody>\n",
       "    <tr>\n",
       "      <th>I_0</th>\n",
       "      <td>0.132141</td>\n",
       "      <td>0.228427</td>\n",
       "    </tr>\n",
       "    <tr>\n",
       "      <th>I_1</th>\n",
       "      <td>0.104274</td>\n",
       "      <td>0.027225</td>\n",
       "    </tr>\n",
       "    <tr>\n",
       "      <th>I_2</th>\n",
       "      <td>0.111496</td>\n",
       "      <td>0.051622</td>\n",
       "    </tr>\n",
       "    <tr>\n",
       "      <th>I_3</th>\n",
       "      <td>0.142856</td>\n",
       "      <td>0.065140</td>\n",
       "    </tr>\n",
       "    <tr>\n",
       "      <th>I_4</th>\n",
       "      <td>0.133888</td>\n",
       "      <td>0.048109</td>\n",
       "    </tr>\n",
       "  </tbody>\n",
       "</table>\n",
       "</div>"
      ],
      "text/plain": [
       "         mean       std\n",
       "I_0  0.132141  0.228427\n",
       "I_1  0.104274  0.027225\n",
       "I_2  0.111496  0.051622\n",
       "I_3  0.142856  0.065140\n",
       "I_4  0.133888  0.048109"
      ]
     },
     "execution_count": 13,
     "metadata": {},
     "output_type": "execute_result"
    }
   ],
   "source": [
    "mda.head()"
   ]
  },
  {
   "cell_type": "code",
   "execution_count": 14,
   "id": "a0cfd9449628d98a",
   "metadata": {
    "ExecuteTime": {
     "end_time": "2024-05-24T13:59:06.512206Z",
     "start_time": "2024-05-24T13:59:06.290003Z"
    }
   },
   "outputs": [
    {
     "data": {
      "image/png": "[encoded data removed]",
      "text/plain": [
       "<Figure size 1000x400 with 1 Axes>"
      ]
     },
     "metadata": {},
     "output_type": "display_data"
    }
   ],
   "source": [
    "plot_feature_importance(\n",
    "    mda,\n",
    "    oob_score = oob_score,\n",
    "    oos_score = oos_score,\n",
    "    save_fig = True,\n",
    "    output_path = './images/MDA_feature_importance.png'\n",
    ")\n",
    "plt.grid(False)\n",
    "plt.show()"
   ]
  },
  {
   "cell_type": "markdown",
   "id": "6d4405bf87223f04",
   "metadata": {},
   "source": [
    "### Feature Importance without substitution effects\n",
    "\n",
    "Here’s the translation:\n",
    "\n",
    "---\n",
    "\n",
    "The substitution effect can lead to the dismissal of overlapping important features. While this generally does not pose a problem for predictions, it can result in erroneous conclusions during the processes of model interpretation, improvement, and simplification. For this reason, the following **Single Feature Importance** techniques can serve as complementary methods to MDI and MDA."
   ]
  },
  {
   "cell_type": "markdown",
   "id": "97b26586075f09b7",
   "metadata": {},
   "source": [
    "#### Single Feature Importance\n",
    "\n",
    "Here's the translation:\n",
    "\n",
    "---\n",
    "\n",
    "**Single Feature Importance** (SFI) is a cross-sectional predictive importance method. This approach calculates out-of-sample performance independently for each feature. Several considerations include:\n",
    "\n",
    "1. This method can be applied not only to tree-based ensemble models but also to all classifiers.\n",
    "2. SFI is not limited to accuracy as a performance metric.\n",
    "3. Unlike MDI or MDA, the substitution effect does not occur. The reason is that only one feature is considered at a time.\n",
    "4. Similar to MDA, it is possible to conclude that not all features are important, as performance is evaluated through out-of-sample cross-validation.\n",
    "\n",
    "A major limitation of SFI is that a classifier with two features may perform better than two separate classifiers with a single feature each. For example, feature B may only be useful when combined with feature A, or it may not be accurate on its own but could effectively explain splits derived from feature A. In other words, the combined effect or hierarchical importance disappears in SFI.\n",
    "\n",
    "One alternative is to compute out-of-sample performance from subsets of features, but it becomes challenging as the number of features to consider increases. Below is a code snippet showing one implementation of the SFI technique."
   ]
  },
  {
   "cell_type": "code",
   "execution_count": 15,
   "id": "a1e07a2502fc64f6",
   "metadata": {
    "ExecuteTime": {
     "end_time": "2024-05-24T14:01:17.424549Z",
     "start_time": "2024-05-24T13:59:06.515487Z"
    }
   },
   "outputs": [
    {
     "name": "stderr",
     "output_type": "stream",
     "text": [
      "100%|██████████| 20/20 [02:10<00:00,  6.55s/it]\n"
     ]
    }
   ],
   "source": [
    "sfi = single_feature_importance(\n",
    "    fit, # base classification model\n",
    "    trnsX, # train features\n",
    "    cont['bin'], # train labels\n",
    "    cv_gen, # purged k fold cross validation class\n",
    "    scoring = accuracy_score\n",
    ")"
   ]
  },
  {
   "cell_type": "code",
   "execution_count": 16,
   "id": "1059cacbdf3ac009",
   "metadata": {
    "ExecuteTime": {
     "end_time": "2024-05-24T14:01:17.561884Z",
     "start_time": "2024-05-24T14:01:17.425287Z"
    }
   },
   "outputs": [
    {
     "data": {
      "image/png": "[encoded data removed]",
      "text/plain": [
       "<Figure size 1000x400 with 1 Axes>"
      ]
     },
     "metadata": {},
     "output_type": "display_data"
    }
   ],
   "source": [
    "plot_feature_importance(\n",
    "    sfi,\n",
    "    oob_score = oob_score,\n",
    "    oos_score = oos_score,\n",
    "    save_fig = True,\n",
    "    output_path = './images/SFI_feature_importance.png'\n",
    ")\n",
    "plt.grid(False)\n",
    "plt.show()"
   ]
  },
  {
   "cell_type": "markdown",
   "id": "5bc70064ef3f0b9b",
   "metadata": {},
   "source": [
    "#### Orthogonal Importance\n",
    "\n",
    "Here's the translation:\n",
    "\n",
    "---\n",
    "\n",
    "The substitution effect dilutes feature importance specified by MDI and significantly underestimates feature importance measured by MDA. A partial solution is to orthogonalize the features before applying MDI or MDA. Orthogonalization procedures, such as PCA, may not eliminate all substitution effects, but they can at least mitigate the influence of linear substitution effects."
   ]
  },
  {
   "cell_type": "code",
   "execution_count": 37,
   "id": "77e883c448ecb877",
   "metadata": {
    "ExecuteTime": {
     "end_time": "2024-05-24T14:12:43.994535Z",
     "start_time": "2024-05-24T14:12:43.953090Z"
    }
   },
   "outputs": [],
   "source": [
    "from quant_free.FinancialMachineLearning.feature_importance.orthogonal import get_orthogonal_features, get_pca_rank_weighted_kendall_tau\n",
    "\n",
    "ortho_features = get_orthogonal_features(trnsX, variance_thresh = 0.95)\n",
    "ortho_features = pd.DataFrame(ortho_features, index = trnsX.index)"
   ]
  },
  {
   "cell_type": "code",
   "execution_count": 28,
   "id": "e85008968c0db057",
   "metadata": {
    "ExecuteTime": {
     "end_time": "2024-05-24T14:06:45.973673Z",
     "start_time": "2024-05-24T14:06:45.800007Z"
    }
   },
   "outputs": [
    {
     "data": {
      "image/png": "[encoded data removed]",
      "text/plain": [
       "<Figure size 600x600 with 4 Axes>"
      ]
     },
     "metadata": {},
     "output_type": "display_data"
    }
   ],
   "source": [
    "import seaborn as sns\n",
    "sns.clustermap(pd.DataFrame(ortho_features).corr(), figsize = (6, 6))\n",
    "plt.show()"
   ]
  },
  {
   "cell_type": "code",
   "execution_count": 32,
   "id": "1ce8b2b836c2286c",
   "metadata": {
    "ExecuteTime": {
     "end_time": "2024-05-24T14:10:45.383395Z",
     "start_time": "2024-05-24T14:10:43.984574Z"
    }
   },
   "outputs": [],
   "source": [
    "forest = RandomForestClassifier(\n",
    "    criterion = 'entropy',\n",
    "    class_weight = 'balanced_subsample',\n",
    "    min_weight_fraction_leaf = 0.0,\n",
    "    random_state = 42,\n",
    "    n_estimators = 1000,\n",
    "    max_features = 1,\n",
    "    oob_score = True,\n",
    "    n_jobs = 1\n",
    ")\n",
    "\n",
    "fit = forest.fit(X = ortho_features, y = cont['bin'])"
   ]
  },
  {
   "cell_type": "code",
   "execution_count": 38,
   "id": "a0db94cd61284983",
   "metadata": {
    "ExecuteTime": {
     "end_time": "2024-05-24T14:12:48.435721Z",
     "start_time": "2024-05-24T14:12:48.433020Z"
    }
   },
   "outputs": [],
   "source": [
    "cv_gen = PurgedKFold(\n",
    "    n_splits = 5, \n",
    "    samples_info_sets = cont['t1']\n",
    ")"
   ]
  },
  {
   "cell_type": "code",
   "execution_count": 39,
   "id": "d42540ed9cfa091e",
   "metadata": {
    "ExecuteTime": {
     "end_time": "2024-05-24T14:12:54.681104Z",
     "start_time": "2024-05-24T14:12:48.755566Z"
    }
   },
   "outputs": [],
   "source": [
    "oos_score = cross_val_score(\n",
    "    forest, # base classifier\n",
    "    ortho_features, # train features\n",
    "    cont['bin'], # train labels\n",
    "    cv_gen = cv_gen, # purged k fold cross validation class\n",
    "    scoring = accuracy_score # optimizing to accuracy score\n",
    ").mean()"
   ]
  },
  {
   "cell_type": "code",
   "execution_count": 42,
   "id": "daa38137c2f5015b",
   "metadata": {
    "ExecuteTime": {
     "end_time": "2024-05-24T14:14:02.472020Z",
     "start_time": "2024-05-24T14:14:02.460863Z"
    }
   },
   "outputs": [],
   "source": [
    "ortho_mdi = mean_decrease_impurity(\n",
    "    fit, # base classification model\n",
    "    ortho_features.columns,\n",
    ")"
   ]
  },
  {
   "cell_type": "code",
   "execution_count": 47,
   "id": "196b4d175f2e2909",
   "metadata": {
    "ExecuteTime": {
     "end_time": "2024-05-24T14:15:15.287389Z",
     "start_time": "2024-05-24T14:15:15.281457Z"
    }
   },
   "outputs": [
    {
     "data": {
      "text/html": [
       "<div>\n",
       "<style scoped>\n",
       "    .dataframe tbody tr th:only-of-type {\n",
       "        vertical-align: middle;\n",
       "    }\n",
       "\n",
       "    .dataframe tbody tr th {\n",
       "        vertical-align: top;\n",
       "    }\n",
       "\n",
       "    .dataframe thead th {\n",
       "        text-align: right;\n",
       "    }\n",
       "</style>\n",
       "<table border=\"1\" class=\"dataframe\">\n",
       "  <thead>\n",
       "    <tr style=\"text-align: right;\">\n",
       "      <th></th>\n",
       "      <th>mean</th>\n",
       "      <th>std</th>\n",
       "    </tr>\n",
       "  </thead>\n",
       "  <tbody>\n",
       "    <tr>\n",
       "      <th>0</th>\n",
       "      <td>0.123077</td>\n",
       "      <td>0.001958</td>\n",
       "    </tr>\n",
       "    <tr>\n",
       "      <th>1</th>\n",
       "      <td>0.232417</td>\n",
       "      <td>0.003438</td>\n",
       "    </tr>\n",
       "    <tr>\n",
       "      <th>2</th>\n",
       "      <td>0.091112</td>\n",
       "      <td>0.001231</td>\n",
       "    </tr>\n",
       "    <tr>\n",
       "      <th>3</th>\n",
       "      <td>0.051225</td>\n",
       "      <td>0.000672</td>\n",
       "    </tr>\n",
       "    <tr>\n",
       "      <th>4</th>\n",
       "      <td>0.049399</td>\n",
       "      <td>0.000647</td>\n",
       "    </tr>\n",
       "  </tbody>\n",
       "</table>\n",
       "</div>"
      ],
      "text/plain": [
       "       mean       std\n",
       "0  0.123077  0.001958\n",
       "1  0.232417  0.003438\n",
       "2  0.091112  0.001231\n",
       "3  0.051225  0.000672\n",
       "4  0.049399  0.000647"
      ]
     },
     "execution_count": 47,
     "metadata": {},
     "output_type": "execute_result"
    }
   ],
   "source": [
    "ortho_mdi.head()"
   ]
  },
  {
   "cell_type": "code",
   "execution_count": 48,
   "id": "43b94f00b0124d66",
   "metadata": {
    "ExecuteTime": {
     "end_time": "2024-05-24T14:15:28.692547Z",
     "start_time": "2024-05-24T14:15:28.576267Z"
    }
   },
   "outputs": [
    {
     "data": {
      "image/png": "[encoded data removed]",
      "text/plain": [
       "<Figure size 1000x280 with 1 Axes>"
      ]
     },
     "metadata": {},
     "output_type": "display_data"
    }
   ],
   "source": [
    "plot_feature_importance(\n",
    "    ortho_mdi,\n",
    "    oob_score = oob_score,\n",
    "    oos_score = oos_score,\n",
    "    save_fig = True,\n",
    "    output_path = './images/Ortho_MDI_feature_importance.png'\n",
    ")\n",
    "plt.grid(False)\n",
    "plt.show()"
   ]
  },
  {
   "cell_type": "code",
   "execution_count": 49,
   "id": "996e956c98236c62",
   "metadata": {
    "ExecuteTime": {
     "end_time": "2024-05-24T14:15:59.071713Z",
     "start_time": "2024-05-24T14:15:59.063933Z"
    }
   },
   "outputs": [],
   "source": [
    "from quant_free.FinancialMachineLearning.feature_importance.orthogonal import feature_pca_analysis\n",
    "\n",
    "pca_mdi = feature_pca_analysis(\n",
    "    ortho_features, \n",
    "    feature_importance = ortho_mdi,\n",
    "    variance_thresh = 0.95\n",
    ")"
   ]
  },
  {
   "cell_type": "code",
   "execution_count": 50,
   "id": "4d3fd42205de88f8",
   "metadata": {
    "ExecuteTime": {
     "end_time": "2024-05-24T14:16:06.236075Z",
     "start_time": "2024-05-24T14:16:06.233645Z"
    }
   },
   "outputs": [
    {
     "data": {
      "text/plain": [
       "{'Pearson': PearsonRResult(statistic=0.05265772290001818, pvalue=0.46355755972757967),\n",
       " 'Spearman': SignificanceResult(statistic=0.1380204078609633, pvalue=0.053709865837689594),\n",
       " 'Kendall': SignificanceResult(statistic=0.09772182062086067, pvalue=0.04880014677509788),\n",
       " 'Weighted_Kendall_Rank': SignificanceResult(statistic=0.30025828278416544, pvalue=nan)}"
      ]
     },
     "execution_count": 50,
     "metadata": {},
     "output_type": "execute_result"
    }
   ],
   "source": [
    "pca_mdi"
   ]
  },
  {
   "cell_type": "code",
   "execution_count": 51,
   "id": "786964be297f489d",
   "metadata": {
    "ExecuteTime": {
     "end_time": "2024-05-24T14:16:47.762447Z",
     "start_time": "2024-05-24T14:16:45.759507Z"
    }
   },
   "outputs": [],
   "source": [
    "forest = RandomForestClassifier(\n",
    "    criterion = 'entropy',\n",
    "    class_weight = 'balanced_subsample',\n",
    "    min_weight_fraction_leaf = 0.0,\n",
    "    random_state = 42,\n",
    "    n_estimators = 1000,\n",
    "    max_features = 3,\n",
    "    oob_score = True,\n",
    "    n_jobs = 1\n",
    ")\n",
    "\n",
    "fit = forest.fit(X = ortho_features, y = cont['bin'])"
   ]
  },
  {
   "cell_type": "code",
   "execution_count": 52,
   "id": "74b9cdb608e2b849",
   "metadata": {
    "ExecuteTime": {
     "end_time": "2024-05-24T14:17:18.282104Z",
     "start_time": "2024-05-24T14:17:10.015322Z"
    }
   },
   "outputs": [],
   "source": [
    "oos_score = cross_val_score(\n",
    "    forest, # base classifier\n",
    "    ortho_features, # train features\n",
    "    cont['bin'], # train labels\n",
    "    cv_gen = cv_gen, # purged k fold cross validation class\n",
    "    scoring = accuracy_score # optimizing to accuracy score\n",
    ").mean()"
   ]
  },
  {
   "cell_type": "code",
   "execution_count": 53,
   "id": "5c8cb916f81fb7d6",
   "metadata": {
    "ExecuteTime": {
     "end_time": "2024-05-24T14:17:29.475256Z",
     "start_time": "2024-05-24T14:17:29.462487Z"
    }
   },
   "outputs": [],
   "source": [
    "ortho_mda = mean_decrease_impurity(\n",
    "    fit, # base classification model\n",
    "    ortho_features.columns,\n",
    ")"
   ]
  },
  {
   "cell_type": "code",
   "execution_count": 54,
   "id": "e97a4b714bb6c918",
   "metadata": {
    "ExecuteTime": {
     "end_time": "2024-05-24T14:17:53.458912Z",
     "start_time": "2024-05-24T14:17:53.454897Z"
    }
   },
   "outputs": [
    {
     "data": {
      "text/html": [
       "<div>\n",
       "<style scoped>\n",
       "    .dataframe tbody tr th:only-of-type {\n",
       "        vertical-align: middle;\n",
       "    }\n",
       "\n",
       "    .dataframe tbody tr th {\n",
       "        vertical-align: top;\n",
       "    }\n",
       "\n",
       "    .dataframe thead th {\n",
       "        text-align: right;\n",
       "    }\n",
       "</style>\n",
       "<table border=\"1\" class=\"dataframe\">\n",
       "  <thead>\n",
       "    <tr style=\"text-align: right;\">\n",
       "      <th></th>\n",
       "      <th>mean</th>\n",
       "      <th>std</th>\n",
       "    </tr>\n",
       "  </thead>\n",
       "  <tbody>\n",
       "    <tr>\n",
       "      <th>0</th>\n",
       "      <td>0.163280</td>\n",
       "      <td>0.001933</td>\n",
       "    </tr>\n",
       "    <tr>\n",
       "      <th>1</th>\n",
       "      <td>0.342852</td>\n",
       "      <td>0.002619</td>\n",
       "    </tr>\n",
       "    <tr>\n",
       "      <th>2</th>\n",
       "      <td>0.118603</td>\n",
       "      <td>0.001204</td>\n",
       "    </tr>\n",
       "    <tr>\n",
       "      <th>3</th>\n",
       "      <td>0.034821</td>\n",
       "      <td>0.000585</td>\n",
       "    </tr>\n",
       "    <tr>\n",
       "      <th>4</th>\n",
       "      <td>0.029213</td>\n",
       "      <td>0.000544</td>\n",
       "    </tr>\n",
       "  </tbody>\n",
       "</table>\n",
       "</div>"
      ],
      "text/plain": [
       "       mean       std\n",
       "0  0.163280  0.001933\n",
       "1  0.342852  0.002619\n",
       "2  0.118603  0.001204\n",
       "3  0.034821  0.000585\n",
       "4  0.029213  0.000544"
      ]
     },
     "execution_count": 54,
     "metadata": {},
     "output_type": "execute_result"
    }
   ],
   "source": [
    "ortho_mda.head()"
   ]
  },
  {
   "cell_type": "code",
   "execution_count": 55,
   "id": "bf82c341c659214c",
   "metadata": {
    "ExecuteTime": {
     "end_time": "2024-05-24T14:18:01.376611Z",
     "start_time": "2024-05-24T14:18:01.257389Z"
    }
   },
   "outputs": [
    {
     "data": {
      "image/png": "[encoded data removed]",
      "text/plain": [
       "<Figure size 1000x280 with 1 Axes>"
      ]
     },
     "metadata": {},
     "output_type": "display_data"
    }
   ],
   "source": [
    "plot_feature_importance(\n",
    "    ortho_mda,\n",
    "    oob_score = oob_score,\n",
    "    oos_score = oos_score,\n",
    "    save_fig = True,\n",
    "    output_path = './images/Ortho_MDA_feature_importance.png'\n",
    ")\n",
    "plt.grid(False)\n",
    "plt.show()"
   ]
  },
  {
   "cell_type": "code",
   "execution_count": 56,
   "id": "4e4430acfb0af581",
   "metadata": {
    "ExecuteTime": {
     "end_time": "2024-05-24T14:18:23.003954Z",
     "start_time": "2024-05-24T14:18:21.619824Z"
    }
   },
   "outputs": [],
   "source": [
    "forest = RandomForestClassifier(\n",
    "    criterion = 'entropy',\n",
    "    class_weight = 'balanced_subsample',\n",
    "    min_weight_fraction_leaf = 0.0,\n",
    "    random_state = 42,\n",
    "    n_estimators = 1000,\n",
    "    max_features = 1,\n",
    "    oob_score = True,\n",
    "    n_jobs = 1\n",
    ")\n",
    "\n",
    "fit = forest.fit(X = ortho_features, y = cont['bin'])"
   ]
  },
  {
   "cell_type": "code",
   "execution_count": 58,
   "id": "9f2c612482f762a6",
   "metadata": {
    "ExecuteTime": {
     "end_time": "2024-05-24T14:22:26.537418Z",
     "start_time": "2024-05-24T14:20:54.742398Z"
    }
   },
   "outputs": [
    {
     "name": "stderr",
     "output_type": "stream",
     "text": [
      "100%|██████████| 14/14 [01:31<00:00,  6.56s/it]\n"
     ]
    }
   ],
   "source": [
    "ortho_sfi = single_feature_importance(\n",
    "    fit, # base classification model\n",
    "    ortho_features, # train features\n",
    "    cont['bin'], # train labels\n",
    "    cv_gen, # purged k fold cross validation class\n",
    "    scoring = accuracy_score\n",
    ")"
   ]
  },
  {
   "cell_type": "code",
   "execution_count": 59,
   "id": "1504aea24267f3c3",
   "metadata": {
    "ExecuteTime": {
     "end_time": "2024-05-24T14:25:51.040045Z",
     "start_time": "2024-05-24T14:25:51.036448Z"
    }
   },
   "outputs": [
    {
     "data": {
      "text/html": [
       "<div>\n",
       "<style scoped>\n",
       "    .dataframe tbody tr th:only-of-type {\n",
       "        vertical-align: middle;\n",
       "    }\n",
       "\n",
       "    .dataframe tbody tr th {\n",
       "        vertical-align: top;\n",
       "    }\n",
       "\n",
       "    .dataframe thead th {\n",
       "        text-align: right;\n",
       "    }\n",
       "</style>\n",
       "<table border=\"1\" class=\"dataframe\">\n",
       "  <thead>\n",
       "    <tr style=\"text-align: right;\">\n",
       "      <th></th>\n",
       "      <th>mean</th>\n",
       "      <th>std</th>\n",
       "    </tr>\n",
       "  </thead>\n",
       "  <tbody>\n",
       "    <tr>\n",
       "      <th>0</th>\n",
       "      <td>0.466</td>\n",
       "      <td>0.033178</td>\n",
       "    </tr>\n",
       "    <tr>\n",
       "      <th>1</th>\n",
       "      <td>0.627</td>\n",
       "      <td>0.046143</td>\n",
       "    </tr>\n",
       "    <tr>\n",
       "      <th>2</th>\n",
       "      <td>0.483</td>\n",
       "      <td>0.071114</td>\n",
       "    </tr>\n",
       "    <tr>\n",
       "      <th>3</th>\n",
       "      <td>0.443</td>\n",
       "      <td>0.023858</td>\n",
       "    </tr>\n",
       "    <tr>\n",
       "      <th>4</th>\n",
       "      <td>0.437</td>\n",
       "      <td>0.031324</td>\n",
       "    </tr>\n",
       "  </tbody>\n",
       "</table>\n",
       "</div>"
      ],
      "text/plain": [
       "    mean       std\n",
       "0  0.466  0.033178\n",
       "1  0.627  0.046143\n",
       "2  0.483  0.071114\n",
       "3  0.443  0.023858\n",
       "4  0.437  0.031324"
      ]
     },
     "execution_count": 59,
     "metadata": {},
     "output_type": "execute_result"
    }
   ],
   "source": [
    "ortho_sfi.head()"
   ]
  },
  {
   "cell_type": "code",
   "execution_count": 60,
   "id": "dcc4e3deba1dcb57",
   "metadata": {
    "ExecuteTime": {
     "end_time": "2024-05-24T14:26:02.006619Z",
     "start_time": "2024-05-24T14:26:01.884425Z"
    }
   },
   "outputs": [
    {
     "data": {
      "image/png": "[encoded data removed]",
      "text/plain": [
       "<Figure size 1000x280 with 1 Axes>"
      ]
     },
     "metadata": {},
     "output_type": "display_data"
    }
   ],
   "source": [
    "plot_feature_importance(\n",
    "    ortho_sfi,\n",
    "    oob_score = oob_score,\n",
    "    oos_score = oos_score,\n",
    "    save_fig = True,\n",
    "    output_path = './images/Ortho_SFI_feature_importance.png'\n",
    ")\n",
    "plt.grid(False)\n",
    "plt.show()"
   ]
  }
 ],
 "metadata": {
  "kernelspec": {
   "display_name": "openbb",
   "language": "python",
   "name": "python3"
  },
  "language_info": {
   "codemirror_mode": {
    "name": "ipython",
    "version": 3
   },
   "file_extension": ".py",
   "mimetype": "text/x-python",
   "name": "python",
   "nbconvert_exporter": "python",
   "pygments_lexer": "ipython3",
   "version": "3.9.5"
  }
 },
 "nbformat": 4,
 "nbformat_minor": 5
}
