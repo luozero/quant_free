{
 "cells": [
  {
   "metadata": {},
   "cell_type": "markdown",
   "source": "### Causal Modeling with Fama French Models",
   "id": "e956d23543a25a81"
  },
  {
   "metadata": {
    "ExecuteTime": {
     "end_time": "2024-08-23T16:25:21.589817Z",
     "start_time": "2024-08-23T16:25:20.215609Z"
    }
   },
   "cell_type": "code",
   "source": [
    "import numpy as np\n",
    "import pandas as pd\n",
    "import matplotlib.pyplot as plt\n",
    "import pandas_datareader as pdr\n",
    "import yfinance as yf\n",
    "import warnings\n",
    "warnings.filterwarnings('ignore')\n",
    "\n",
    "factors = pdr.get_data_famafrench(\n",
    "    'F-F_Research_Data_Factors_weekly', \n",
    "    start = '2000-01-01'\n",
    ")[0] * 0.01"
   ],
   "id": "589cebb95f1fe38e",
   "outputs": [],
   "execution_count": 33
  },
  {
   "metadata": {
    "ExecuteTime": {
     "end_time": "2024-08-23T16:25:21.594691Z",
     "start_time": "2024-08-23T16:25:21.590626Z"
    }
   },
   "cell_type": "code",
   "source": "factors",
   "id": "1bba78707f2000b",
   "outputs": [
    {
     "data": {
      "text/plain": [
       "            Mkt-RF     SMB     HML       RF\n",
       "Date                                       \n",
       "2000-01-07 -0.0249 -0.0026  0.0089  0.00103\n",
       "2000-01-14  0.0207  0.0196 -0.0150  0.00103\n",
       "2000-01-21  0.0002  0.0694 -0.0281  0.00103\n",
       "2000-01-28 -0.0571  0.0017  0.0175  0.00103\n",
       "2000-02-04  0.0446  0.0126 -0.0294  0.00108\n",
       "...            ...     ...     ...      ...\n",
       "2024-05-31 -0.0069  0.0065  0.0024  0.00110\n",
       "2024-06-07  0.0091 -0.0218 -0.0201  0.00102\n",
       "2024-06-14  0.0131 -0.0132 -0.0250  0.00102\n",
       "2024-06-21  0.0052 -0.0072  0.0063  0.00102\n",
       "2024-06-28  0.0000  0.0124  0.0062  0.00102\n",
       "\n",
       "[1278 rows x 4 columns]"
      ],
      "text/html": [
       "<div>\n",
       "<style scoped>\n",
       "    .dataframe tbody tr th:only-of-type {\n",
       "        vertical-align: middle;\n",
       "    }\n",
       "\n",
       "    .dataframe tbody tr th {\n",
       "        vertical-align: top;\n",
       "    }\n",
       "\n",
       "    .dataframe thead th {\n",
       "        text-align: right;\n",
       "    }\n",
       "</style>\n",
       "<table border=\"1\" class=\"dataframe\">\n",
       "  <thead>\n",
       "    <tr style=\"text-align: right;\">\n",
       "      <th></th>\n",
       "      <th>Mkt-RF</th>\n",
       "      <th>SMB</th>\n",
       "      <th>HML</th>\n",
       "      <th>RF</th>\n",
       "    </tr>\n",
       "    <tr>\n",
       "      <th>Date</th>\n",
       "      <th></th>\n",
       "      <th></th>\n",
       "      <th></th>\n",
       "      <th></th>\n",
       "    </tr>\n",
       "  </thead>\n",
       "  <tbody>\n",
       "    <tr>\n",
       "      <th>2000-01-07</th>\n",
       "      <td>-0.0249</td>\n",
       "      <td>-0.0026</td>\n",
       "      <td>0.0089</td>\n",
       "      <td>0.00103</td>\n",
       "    </tr>\n",
       "    <tr>\n",
       "      <th>2000-01-14</th>\n",
       "      <td>0.0207</td>\n",
       "      <td>0.0196</td>\n",
       "      <td>-0.0150</td>\n",
       "      <td>0.00103</td>\n",
       "    </tr>\n",
       "    <tr>\n",
       "      <th>2000-01-21</th>\n",
       "      <td>0.0002</td>\n",
       "      <td>0.0694</td>\n",
       "      <td>-0.0281</td>\n",
       "      <td>0.00103</td>\n",
       "    </tr>\n",
       "    <tr>\n",
       "      <th>2000-01-28</th>\n",
       "      <td>-0.0571</td>\n",
       "      <td>0.0017</td>\n",
       "      <td>0.0175</td>\n",
       "      <td>0.00103</td>\n",
       "    </tr>\n",
       "    <tr>\n",
       "      <th>2000-02-04</th>\n",
       "      <td>0.0446</td>\n",
       "      <td>0.0126</td>\n",
       "      <td>-0.0294</td>\n",
       "      <td>0.00108</td>\n",
       "    </tr>\n",
       "    <tr>\n",
       "      <th>...</th>\n",
       "      <td>...</td>\n",
       "      <td>...</td>\n",
       "      <td>...</td>\n",
       "      <td>...</td>\n",
       "    </tr>\n",
       "    <tr>\n",
       "      <th>2024-05-31</th>\n",
       "      <td>-0.0069</td>\n",
       "      <td>0.0065</td>\n",
       "      <td>0.0024</td>\n",
       "      <td>0.00110</td>\n",
       "    </tr>\n",
       "    <tr>\n",
       "      <th>2024-06-07</th>\n",
       "      <td>0.0091</td>\n",
       "      <td>-0.0218</td>\n",
       "      <td>-0.0201</td>\n",
       "      <td>0.00102</td>\n",
       "    </tr>\n",
       "    <tr>\n",
       "      <th>2024-06-14</th>\n",
       "      <td>0.0131</td>\n",
       "      <td>-0.0132</td>\n",
       "      <td>-0.0250</td>\n",
       "      <td>0.00102</td>\n",
       "    </tr>\n",
       "    <tr>\n",
       "      <th>2024-06-21</th>\n",
       "      <td>0.0052</td>\n",
       "      <td>-0.0072</td>\n",
       "      <td>0.0063</td>\n",
       "      <td>0.00102</td>\n",
       "    </tr>\n",
       "    <tr>\n",
       "      <th>2024-06-28</th>\n",
       "      <td>0.0000</td>\n",
       "      <td>0.0124</td>\n",
       "      <td>0.0062</td>\n",
       "      <td>0.00102</td>\n",
       "    </tr>\n",
       "  </tbody>\n",
       "</table>\n",
       "<p>1278 rows × 4 columns</p>\n",
       "</div>"
      ]
     },
     "execution_count": 34,
     "metadata": {},
     "output_type": "execute_result"
    }
   ],
   "execution_count": 34
  },
  {
   "metadata": {
    "ExecuteTime": {
     "end_time": "2024-08-23T16:33:10.477387Z",
     "start_time": "2024-08-23T16:33:10.432104Z"
    }
   },
   "cell_type": "code",
   "source": [
    "asset = yf.download(\n",
    "    'AAPL',\n",
    "    start = '1999-12-31',\n",
    "    end = '2024-07-01',\n",
    "    progress = False,\n",
    "    interval = '1d'\n",
    ")"
   ],
   "id": "a158e0f16d000f96",
   "outputs": [],
   "execution_count": 53
  },
  {
   "metadata": {
    "ExecuteTime": {
     "end_time": "2024-08-23T16:33:10.932300Z",
     "start_time": "2024-08-23T16:33:10.921281Z"
    }
   },
   "cell_type": "code",
   "source": "asset_ret = asset['Close'].resample('W-FRI').last().pct_change().dropna()",
   "id": "431c00a3be0fc20d",
   "outputs": [],
   "execution_count": 54
  },
  {
   "metadata": {
    "ExecuteTime": {
     "end_time": "2024-08-23T16:33:11.316728Z",
     "start_time": "2024-08-23T16:33:11.314875Z"
    }
   },
   "cell_type": "code",
   "source": "factors.index = asset_ret.index",
   "id": "95a83f17c509455b",
   "outputs": [],
   "execution_count": 55
  },
  {
   "metadata": {
    "ExecuteTime": {
     "end_time": "2024-08-23T16:33:14.991283Z",
     "start_time": "2024-08-23T16:33:14.987795Z"
    }
   },
   "cell_type": "code",
   "source": "excess_ret = asset_ret - factors['RF']",
   "id": "9e45d7e7fdcb652d",
   "outputs": [],
   "execution_count": 56
  },
  {
   "metadata": {
    "ExecuteTime": {
     "end_time": "2024-08-23T16:33:15.621346Z",
     "start_time": "2024-08-23T16:33:15.616175Z"
    }
   },
   "cell_type": "code",
   "source": "excess_ret",
   "id": "8caabf009d9b7b6f",
   "outputs": [
    {
     "data": {
      "text/plain": [
       "Date\n",
       "2000-01-07   -0.033249\n",
       "2000-01-14    0.008392\n",
       "2000-01-21    0.107247\n",
       "2000-01-28   -0.088060\n",
       "2000-02-04    0.061651\n",
       "                ...   \n",
       "2024-05-31    0.010849\n",
       "2024-06-07    0.023115\n",
       "2024-06-14    0.078212\n",
       "2024-06-21   -0.024551\n",
       "2024-06-28    0.014065\n",
       "Freq: W-FRI, Length: 1278, dtype: float64"
      ]
     },
     "execution_count": 57,
     "metadata": {},
     "output_type": "execute_result"
    }
   ],
   "execution_count": 57
  },
  {
   "metadata": {},
   "cell_type": "markdown",
   "source": "Model 1 : until 2008",
   "id": "791a8bb0b44148e"
  },
  {
   "metadata": {
    "ExecuteTime": {
     "end_time": "2024-08-23T16:33:17.805941Z",
     "start_time": "2024-08-23T16:33:17.795885Z"
    }
   },
   "cell_type": "code",
   "source": [
    "import statsmodels.api as sm\n",
    "\n",
    "controls = factors[['Mkt-RF','HML']]\n",
    "treatment = factors['SMB']\n",
    "y = excess_ret\n",
    "\n",
    "treatment_model = sm.OLS(\n",
    "    treatment, sm.add_constant(controls)\n",
    ").fit()\n",
    "\n",
    "print(treatment_model.summary())"
   ],
   "id": "80403edc4072ba11",
   "outputs": [
    {
     "name": "stdout",
     "output_type": "stream",
     "text": [
      "                            OLS Regression Results                            \n",
      "==============================================================================\n",
      "Dep. Variable:                    SMB   R-squared:                       0.079\n",
      "Model:                            OLS   Adj. R-squared:                  0.077\n",
      "Method:                 Least Squares   F-statistic:                     54.41\n",
      "Date:                Sat, 24 Aug 2024   Prob (F-statistic):           2.11e-23\n",
      "Time:                        01:33:17   Log-Likelihood:                 3690.1\n",
      "No. Observations:                1278   AIC:                            -7374.\n",
      "Df Residuals:                    1275   BIC:                            -7359.\n",
      "Df Model:                           2                                         \n",
      "Covariance Type:            nonrobust                                         \n",
      "==============================================================================\n",
      "                 coef    std err          t      P>|t|      [0.025      0.975]\n",
      "------------------------------------------------------------------------------\n",
      "const          0.0001      0.000      0.360      0.719      -0.001       0.001\n",
      "Mkt-RF         0.1324      0.015      8.945      0.000       0.103       0.161\n",
      "HML           -0.1255      0.021     -5.866      0.000      -0.168      -0.084\n",
      "==============================================================================\n",
      "Omnibus:                      124.594   Durbin-Watson:                   1.998\n",
      "Prob(Omnibus):                  0.000   Jarque-Bera (JB):              833.491\n",
      "Skew:                          -0.108   Prob(JB):                    1.02e-181\n",
      "Kurtosis:                       6.950   Cond. No.                         56.8\n",
      "==============================================================================\n",
      "\n",
      "Notes:\n",
      "[1] Standard Errors assume that the covariance matrix of the errors is correctly specified.\n"
     ]
    }
   ],
   "execution_count": 58
  },
  {
   "metadata": {
    "ExecuteTime": {
     "end_time": "2024-08-23T16:33:18.802685Z",
     "start_time": "2024-08-23T16:33:18.792645Z"
    }
   },
   "cell_type": "code",
   "source": [
    "explain_model = sm.OLS(\n",
    "    y, sm.add_constant(controls)\n",
    ").fit()\n",
    "\n",
    "print(explain_model.summary())"
   ],
   "id": "c014f6f430c89a7",
   "outputs": [
    {
     "name": "stdout",
     "output_type": "stream",
     "text": [
      "                            OLS Regression Results                            \n",
      "==============================================================================\n",
      "Dep. Variable:                      y   R-squared:                       0.320\n",
      "Model:                            OLS   Adj. R-squared:                  0.319\n",
      "Method:                 Least Squares   F-statistic:                     300.0\n",
      "Date:                Sat, 24 Aug 2024   Prob (F-statistic):          1.63e-107\n",
      "Time:                        01:33:18   Log-Likelihood:                 2235.0\n",
      "No. Observations:                1278   AIC:                            -4464.\n",
      "Df Residuals:                    1275   BIC:                            -4449.\n",
      "Df Model:                           2                                         \n",
      "Covariance Type:            nonrobust                                         \n",
      "==============================================================================\n",
      "                 coef    std err          t      P>|t|      [0.025      0.975]\n",
      "------------------------------------------------------------------------------\n",
      "const          0.0040      0.001      3.371      0.001       0.002       0.006\n",
      "Mkt-RF         1.0979      0.046     23.756      0.000       1.007       1.189\n",
      "HML           -0.4887      0.067     -7.313      0.000      -0.620      -0.358\n",
      "==============================================================================\n",
      "Omnibus:                      450.222   Durbin-Watson:                   1.957\n",
      "Prob(Omnibus):                  0.000   Jarque-Bera (JB):            16345.038\n",
      "Skew:                          -0.944   Prob(JB):                         0.00\n",
      "Kurtosis:                      20.418   Cond. No.                         56.8\n",
      "==============================================================================\n",
      "\n",
      "Notes:\n",
      "[1] Standard Errors assume that the covariance matrix of the errors is correctly specified.\n"
     ]
    }
   ],
   "execution_count": 59
  },
  {
   "metadata": {
    "ExecuteTime": {
     "end_time": "2024-08-23T16:35:29.688620Z",
     "start_time": "2024-08-23T16:35:29.677261Z"
    }
   },
   "cell_type": "code",
   "source": [
    "t_tilde = treatment_model.resid\n",
    "y_tilde = explain_model.resid\n",
    "\n",
    "t_tilde.name = 't_tilde'\n",
    "y_tilde.name = 'y_tilde'\n",
    "\n",
    "model = sm.OLS(\n",
    "    y, sm.add_constant(t_tilde)\n",
    ").fit()\n",
    "\n",
    "print(model.summary())"
   ],
   "id": "1e30930f352b0312",
   "outputs": [
    {
     "name": "stdout",
     "output_type": "stream",
     "text": [
      "                            OLS Regression Results                            \n",
      "==============================================================================\n",
      "Dep. Variable:                      y   R-squared:                       0.000\n",
      "Model:                            OLS   Adj. R-squared:                 -0.001\n",
      "Method:                 Least Squares   F-statistic:                    0.1298\n",
      "Date:                Sat, 24 Aug 2024   Prob (F-statistic):              0.719\n",
      "Time:                        01:35:29   Log-Likelihood:                 1988.6\n",
      "No. Observations:                1278   AIC:                            -3973.\n",
      "Df Residuals:                    1276   BIC:                            -3963.\n",
      "Df Model:                           1                                         \n",
      "Covariance Type:            nonrobust                                         \n",
      "==============================================================================\n",
      "                 coef    std err          t      P>|t|      [0.025      0.975]\n",
      "------------------------------------------------------------------------------\n",
      "const          0.0053      0.001      3.686      0.000       0.002       0.008\n",
      "t_tilde        0.0382      0.106      0.360      0.719      -0.170       0.246\n",
      "==============================================================================\n",
      "Omnibus:                      342.268   Durbin-Watson:                   1.919\n",
      "Prob(Omnibus):                  0.000   Jarque-Bera (JB):             4895.453\n",
      "Skew:                          -0.832   Prob(JB):                         0.00\n",
      "Kurtosis:                      12.443   Cond. No.                         74.2\n",
      "==============================================================================\n",
      "\n",
      "Notes:\n",
      "[1] Standard Errors assume that the covariance matrix of the errors is correctly specified.\n"
     ]
    }
   ],
   "execution_count": 63
  },
  {
   "metadata": {},
   "cell_type": "code",
   "outputs": [],
   "execution_count": null,
   "source": "",
   "id": "4ae086726a942fc5"
  }
 ],
 "metadata": {
  "kernelspec": {
   "display_name": "Python 3",
   "language": "python",
   "name": "python3"
  },
  "language_info": {
   "codemirror_mode": {
    "name": "ipython",
    "version": 2
   },
   "file_extension": ".py",
   "mimetype": "text/x-python",
   "name": "python",
   "nbconvert_exporter": "python",
   "pygments_lexer": "ipython2",
   "version": "2.7.6"
  }
 },
 "nbformat": 4,
 "nbformat_minor": 5
}
