{
 "cells": [
  {
   "cell_type": "markdown",
   "id": "5986b41090b520eb",
   "metadata": {},
   "source": [
    "### The Cross Validation Method\n",
    "\n",
    "Investors often wonder how their investment strategies would perform under unprecedented stress scenarios, such as the 2008 financial crisis, the dot-com bubble, tightening episodes, or the 2015-2016 fluctuations in the Chinese stock market. One way to address this question is to divide the observations into two sets: one designated as the test period and the other as the training set. For instance, if a classifier is trained on data from January 1, 2009, to January 1, 2017, the testing would be performed on the data from January 1, 2008, to December 31, 2008. The performance obtained in 2008 is historically inaccurate because the classifier was trained only on data after 2008. However, historical accuracy is not the goal of this test. The objective is to evaluate a strategy that has no prior knowledge of the 2008 data in a stress scenario like that of 2008.\n",
    "\n",
    "The aim of backtesting using cross-validation is not to derive historically accurate performance, but rather to infer future performance from multiple out-of-sample scenarios. During each period of the backtest, performance is simulated using a classifier that is aware of all data except for that specific period. This approach helps in assessing how well a strategy might perform when faced with similar conditions in the future, providing a more robust understanding of its potential resilience."
   ]
  },
  {
   "cell_type": "code",
   "execution_count": 1,
   "id": "33c1f7b59a961d32",
   "metadata": {
    "ExecuteTime": {
     "end_time": "2024-08-13T12:30:11.430021Z",
     "start_time": "2024-08-13T12:30:10.812611Z"
    }
   },
   "outputs": [],
   "source": [
    "import numpy as np\n",
    "import pandas as pd\n",
    "from quant_free.finml.labeling.labeling import *\n",
    "\n",
    "triple_barrier_event = pd.read_parquet('./research/Data/AAPL_triple_barrier_events.parquet')\n",
    "avg_uniqueness = pd.read_parquet('./research/Data/AAPL_avg_unique.parquet')\n",
    "feature_matrix = pd.read_parquet('./research/Data/AAPL_feature_matrix.parquet')\n",
    "\n",
    "labels = meta_labeling(\n",
    "    triple_barrier_event, \n",
    "    feature_matrix['Close']\n",
    ")\n",
    "\n",
    "triple_barrier_event['side'] = labels['bin']\n",
    "meta_labels = meta_labeling(\n",
    "    triple_barrier_event, # with side labels\n",
    "    feature_matrix['Close']\n",
    ")"
   ]
  },
  {
   "cell_type": "markdown",
   "id": "71081ff3a5b3157a",
   "metadata": {},
   "source": [
    "### Pros\n",
    "\n",
    "1. The tests do not yield results for a specific scenario. In fact, Cross Validation tests $k$ alternative scenarios, of which only one corresponds to the historical sequence.\n",
    "2. All decisions are made from the same-sized set. This allows for comparisons of results across different periods based on the amount of information used to make those decisions.\n",
    "3. Every observation belongs to one and only one test set. There is no subset for preparation, enabling simulations that utilize the longest sample available.\n",
    "\n",
    "### Cons\n",
    "\n",
    "1. Like Walk Forward, a single backtest path is simulated. Only one prediction is generated per observation.\n",
    "2. Cross Validation does not have a clear historical interpretation. The output is not a simulation of how the strategy would have performed in the past, but rather a simulation of how it might perform in the future under various stress scenarios.\n",
    "3. Since the training set is not placed before the test set, information leakage is possible. Extreme caution is required to prevent information from the test set from leaking into the training set. For more on how to prevent information leakage in the context of Cross Validation using Purging and Embargo, refer to Chapter 7."
   ]
  },
  {
   "cell_type": "code",
   "execution_count": 2,
   "id": "a35ea69dac25f519",
   "metadata": {
    "ExecuteTime": {
     "end_time": "2024-08-13T12:30:11.709623Z",
     "start_time": "2024-08-13T12:30:11.698038Z"
    }
   },
   "outputs": [],
   "source": [
    "feature_matrix['side'] = triple_barrier_event['side'].copy()\n",
    "feature_matrix['label'] = meta_labels['bin'].copy()\n",
    "feature_matrix.drop(['Open','High','Low','Close','Adj Close','Volume'], axis = 1, inplace = True)\n",
    "feature_matrix.dropna(inplace = True)\n",
    "matrix = feature_matrix[feature_matrix['side'] != 0]\n",
    "\n",
    "X = matrix.drop(['side','label'], axis = 1)\n",
    "y = matrix['label']\n",
    "\n",
    "X_train, X_test = X.loc[:'2019'], X.loc['2020':]\n",
    "y_train, y_test = y.loc[:'2019'], y.loc['2020':]"
   ]
  },
  {
   "cell_type": "code",
   "execution_count": 3,
   "id": "83c4d7426d03005a",
   "metadata": {
    "ExecuteTime": {
     "end_time": "2024-08-13T12:30:12.915292Z",
     "start_time": "2024-08-13T12:30:12.901310Z"
    }
   },
   "outputs": [],
   "source": [
    "from sklearn.ensemble import RandomForestClassifier\n",
    "from quant_free.finml.sample_weights.bootstrapping import *\n",
    "\n",
    "class SequentialRandomForestClassifier(RandomForestClassifier):\n",
    "    def _generate_sample_indices(self, random_state, n_samples):\n",
    "        \"\"\"Generate bootstrap sample indices with sequential bootstrap method.\"\"\"\n",
    "        random_instance = random_state  # get the RandomState instance\n",
    "        \n",
    "        ind_mat = get_indicator_matrix(\n",
    "            triple_barrier_event.index.to_series(),\n",
    "            triple_barrier_event['t1']\n",
    "        )\n",
    "        \n",
    "        sample_indices = seq_bootstrap(ind_mat, n_samples)\n",
    "        \n",
    "        return sample_indices"
   ]
  },
  {
   "cell_type": "code",
   "execution_count": 4,
   "id": "a5d9eef3ff80a740",
   "metadata": {
    "ExecuteTime": {
     "end_time": "2024-08-13T12:30:17.985069Z",
     "start_time": "2024-08-13T12:30:17.227693Z"
    }
   },
   "outputs": [],
   "source": [
    "forest = SequentialRandomForestClassifier(\n",
    "    criterion = 'entropy',\n",
    "    class_weight = 'balanced_subsample',\n",
    "    random_state = 42,\n",
    "    n_estimators = 100,\n",
    "    max_features = 3, # early stopping\n",
    "    min_weight_fraction_leaf = 0.05, # early stopping\n",
    "    oob_score = True\n",
    ")\n",
    "\n",
    "forest_fit = forest.fit(\n",
    "    X = X_train, \n",
    "    y = y_train, \n",
    "    sample_weight = avg_uniqueness.loc[X_train.index].to_numpy().reshape(1, -1)[0]\n",
    ")"
   ]
  },
  {
   "cell_type": "code",
   "execution_count": 5,
   "id": "af3db5d99589d53f",
   "metadata": {
    "ExecuteTime": {
     "end_time": "2024-08-13T12:29:16.873510Z",
     "start_time": "2024-08-13T12:29:15.308923Z"
    }
   },
   "outputs": [],
   "source": [
    "from quant_free.finml.cross_validation.cross_validation import get_train_times, get_embargo_times\n",
    "\n",
    "train_times, test_times = triple_barrier_event.loc[:'2019'], triple_barrier_event.loc['2019':]"
   ]
  },
  {
   "cell_type": "code",
   "execution_count": 6,
   "id": "6f4d6e345bcf683e",
   "metadata": {
    "ExecuteTime": {
     "end_time": "2024-08-13T12:29:31.514936Z",
     "start_time": "2024-08-13T12:29:30.276556Z"
    }
   },
   "outputs": [],
   "source": [
    "train_times = get_train_times(train_times['t1'], test_times['t1'])"
   ]
  },
  {
   "cell_type": "code",
   "execution_count": 7,
   "id": "b5b4db3f8d2d9328",
   "metadata": {
    "ExecuteTime": {
     "end_time": "2024-08-13T12:29:34.247373Z",
     "start_time": "2024-08-13T12:29:34.234574Z"
    }
   },
   "outputs": [
    {
     "data": {
      "text/plain": [
       "Date\n",
       "2000-01-07   2000-01-11\n",
       "2000-01-10   2000-01-12\n",
       "2000-01-11   2000-01-12\n",
       "2000-01-12   2000-01-13\n",
       "2000-01-13   2000-01-19\n",
       "Name: t1, dtype: datetime64[ns]"
      ]
     },
     "execution_count": 7,
     "metadata": {},
     "output_type": "execute_result"
    }
   ],
   "source": [
    "train_times.head()"
   ]
  },
  {
   "cell_type": "code",
   "execution_count": 8,
   "id": "2dc7fa0927b1ea71",
   "metadata": {
    "ExecuteTime": {
     "end_time": "2024-08-13T12:29:44.517412Z",
     "start_time": "2024-08-13T12:29:44.505732Z"
    }
   },
   "outputs": [],
   "source": [
    "from quant_free.finml.cross_validation.cross_validation import PurgedKFold\n",
    "\n",
    "purged_k_fold = PurgedKFold(\n",
    "    n_splits = 10,\n",
    "    samples_info_sets = triple_barrier_event['t1'].loc[X_train.index],\n",
    "    pct_embargo = 0.01\n",
    ")"
   ]
  },
  {
   "cell_type": "code",
   "execution_count": 12,
   "id": "d032346c396bfdb8",
   "metadata": {
    "ExecuteTime": {
     "end_time": "2024-08-13T12:29:54.825940Z",
     "start_time": "2024-08-13T12:29:49.269070Z"
    }
   },
   "outputs": [],
   "source": [
    "from quant_free.finml.cross_validation.cross_validation import cross_val_score\n",
    "from sklearn.metrics import log_loss\n",
    "\n",
    "cross_validation_score = cross_val_score(\n",
    "    classifier = forest,\n",
    "    X = X_train,\n",
    "    y = y_train,\n",
    "    sample_weight = avg_uniqueness.loc[X_train.index].to_numpy().reshape(1, -1)[0],\n",
    "    cv_gen = purged_k_fold,\n",
    "    scoring = log_loss\n",
    ")"
   ]
  },
  {
   "cell_type": "code",
   "execution_count": 14,
   "id": "ba3c13d431c2411f",
   "metadata": {
    "ExecuteTime": {
     "end_time": "2024-08-13T12:34:50.535246Z",
     "start_time": "2024-08-13T12:34:50.402220Z"
    }
   },
   "outputs": [
    {
     "data": {
      "image/png": "[encoded data removed]",
      "text/plain": [
       "<Figure size 800x400 with 1 Axes>"
      ]
     },
     "metadata": {},
     "output_type": "display_data"
    }
   ],
   "source": [
    "import matplotlib.pyplot as plt\n",
    "\n",
    "fig, ax = plt.subplots(figsize = (8, 4))\n",
    "ax.bar(\n",
    "    range(10),\n",
    "    -cross_validation_score,\n",
    "    width = 0.75,\n",
    "    alpha = 0.7,\n",
    "    edgecolor = 'none'\n",
    ")\n",
    "for spine in ax.spines.values():\n",
    "    spine.set_visible(False)\n",
    "ax.grid(False)\n",
    "ax.yaxis.grid(True, ls = ':', alpha = 0.5)\n",
    "plt.axhline(\n",
    "    y = np.mean(-cross_validation_score),\n",
    "    ls = '-.',\n",
    "    color = 'lightgray',\n",
    "    alpha = 0.8,\n",
    "    label = f'mean = {np.mean(-cross_validation_score) * 100 : .2f}%'\n",
    ")\n",
    "plt.legend()\n",
    "plt.title('Purged Cross Validation Scores | Random Forest | Ticker : AAPL')\n",
    "plt.show()"
   ]
  }
 ],
 "metadata": {
  "kernelspec": {
   "display_name": "openbb",
   "language": "python",
   "name": "python3"
  },
  "language_info": {
   "codemirror_mode": {
    "name": "ipython",
    "version": 3
   },
   "file_extension": ".py",
   "mimetype": "text/x-python",
   "name": "python",
   "nbconvert_exporter": "python",
   "pygments_lexer": "ipython3",
   "version": "3.9.5"
  }
 },
 "nbformat": 4,
 "nbformat_minor": 5
}
