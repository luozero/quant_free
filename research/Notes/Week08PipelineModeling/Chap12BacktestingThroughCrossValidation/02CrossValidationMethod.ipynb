{
 "cells": [
  {
   "metadata": {},
   "cell_type": "markdown",
   "source": [
    "### The Cross Validation Method\n",
    "\n",
    "투자가들은 종종 2008년의 금융 위기나 닷컴 버블, 긴축 발작, 2015~2016년 중국 주식 시장 요동 등과 같은 전례 없는 스트레스 시나리오에 처한다면 투자 전략의 성과가 어떻게 되는지를 묻고는 한다. 이에 대한 대답 중 하나는 관측값을 두 가지 집합으로 나눠 하나는 테스트하려는 기간으로 설정하고, 다른 하나는 훈련셋으로 설정하는 것이다. 분류기가 2009년 1월 1일에서 2017년 1월 1일까지 학습 했다면 테스트는 2008년 1월 1일에서 2008년 12월 31일에 대해 수행한다. 2008년에 얻어진 성과는 역사적으로 정확하지 않다. 이유는 분류기가 2008년 이후의 데이터에 대해서만 학습됐기 때문이다. 그러나 역사적 정확도는 이 테스트의 목적이 아니다. 목표는 2008년도 내용을 모르는 전략을 2008년과 같은 스트레스 시나리오에 테스트해 보는 것이다.\n",
    "\n",
    "Cross Validation을 활용한 백테스트의 목표는 역사적으로 정확한 성과를 도출하려는 것이 아니라 다수의 샘플 외 시나리오로부터 미래의 성과를 추론하는 것이다. 백테스트의 각 기간 동안, 그 기간 이외의 모든 것을 알고 있는 분류기로 성과를 시뮬레이션한다."
   ],
   "id": "5986b41090b520eb"
  },
  {
   "metadata": {
    "ExecuteTime": {
     "end_time": "2024-08-13T12:30:11.430021Z",
     "start_time": "2024-08-13T12:30:10.812611Z"
    }
   },
   "cell_type": "code",
   "source": [
    "import numpy as np\n",
    "import pandas as pd\n",
    "from FinancialMachineLearning.labeling.labeling import *\n",
    "\n",
    "triple_barrier_event = pd.read_parquet('../../../Data/AAPL_triple_barrier_events.parquet')\n",
    "avg_uniqueness = pd.read_parquet('../../../Data/AAPL_avg_unique.parquet')\n",
    "feature_matrix = pd.read_parquet('../../../Data/AAPL_feature_matrix.parquet')\n",
    "\n",
    "labels = meta_labeling(\n",
    "    triple_barrier_event, \n",
    "    feature_matrix['Close']\n",
    ")\n",
    "\n",
    "triple_barrier_event['side'] = labels['bin']\n",
    "meta_labels = meta_labeling(\n",
    "    triple_barrier_event, # with side labels\n",
    "    feature_matrix['Close']\n",
    ")"
   ],
   "id": "33c1f7b59a961d32",
   "outputs": [],
   "execution_count": 11
  },
  {
   "metadata": {},
   "cell_type": "markdown",
   "source": [
    "#### Pros\n",
    "\n",
    "1. 테스트는 특정 시나리오의 결과가 아니다. 사실 Cross Validation은 $k$개의 대체 시나리오를 테스트하는데 그중 하나만 역사적 시퀀스에 해당한다. \n",
    "2. 모든 결정은 동일한 크기의 집합에서 이뤄진다. 이러한 결정을 내릴 때 활용한 정보의 양 관점에서 여러 기간에 걸쳐 결과를 서로 비교할 수 있게 해준다.\n",
    "3. 모든 관측은 하나의 그리고 오직 하나의 테스트셋에 속한다. 준비를 위한 부분 집합은 없으므로 가장 긴 샘플 외 시뮬레이션을 얻을 수 있다.\n",
    "\n",
    "#### Cons\n",
    "\n",
    "1. Walk Forward처런 단일 백테스트 경로가 시뮬레이션된다. 관측별로 오직 하나의 예측만 생성한다.\n",
    "2. Cross Validation은 명확한 역사적 해석을 지니고 있지 않다. 출력은 전략이 과거에 어떻게 성과를 냈을까에 대한 시뮬레이션이 아니고, 다양한 스트레스 시나리오 하에서 미래에 어떻게 성과를 낼까에 대한 시뮬레이션이다.\n",
    "3. 훈련셋이 테스트셋의 앞에 놓이는 것이 아니므로 정보 누출이 가능하다. 테스트셋 정보가 훈련셋으로 유출되는 것을 방지하기 위한 극도의 주의가 필요하다. Purging과 Embargo를 활용해 Cross Validation 맥락에서 정보 누출을 어떻게 방지하는지 Chapter 7을 참고하자."
   ],
   "id": "71081ff3a5b3157a"
  },
  {
   "metadata": {
    "ExecuteTime": {
     "end_time": "2024-08-13T12:30:11.709623Z",
     "start_time": "2024-08-13T12:30:11.698038Z"
    }
   },
   "cell_type": "code",
   "source": [
    "feature_matrix['side'] = triple_barrier_event['side'].copy()\n",
    "feature_matrix['label'] = meta_labels['bin'].copy()\n",
    "feature_matrix.drop(['Open','High','Low','Close','Adj Close','Volume'], axis = 1, inplace = True)\n",
    "feature_matrix.dropna(inplace = True)\n",
    "matrix = feature_matrix[feature_matrix['side'] != 0]\n",
    "\n",
    "X = matrix.drop(['side','label'], axis = 1)\n",
    "y = matrix['label']\n",
    "\n",
    "X_train, X_test = X.loc[:'2019'], X.loc['2020':]\n",
    "y_train, y_test = y.loc[:'2019'], y.loc['2020':]"
   ],
   "id": "a35ea69dac25f519",
   "outputs": [],
   "execution_count": 12
  },
  {
   "metadata": {
    "ExecuteTime": {
     "end_time": "2024-08-13T12:30:12.915292Z",
     "start_time": "2024-08-13T12:30:12.901310Z"
    }
   },
   "cell_type": "code",
   "source": [
    "from sklearn.ensemble import RandomForestClassifier\n",
    "from FinancialMachineLearning.sample_weights.bootstrapping import *\n",
    "\n",
    "class SequentialRandomForestClassifier(RandomForestClassifier):\n",
    "    def _generate_sample_indices(self, random_state, n_samples):\n",
    "        \"\"\"Generate bootstrap sample indices with sequential bootstrap method.\"\"\"\n",
    "        random_instance = random_state  # get the RandomState instance\n",
    "        \n",
    "        ind_mat = get_indicator_matrix(\n",
    "            triple_barrier_event.index.to_series(),\n",
    "            triple_barrier_event['t1']\n",
    "        )\n",
    "        \n",
    "        sample_indices = seq_bootstrap(ind_mat, n_samples)\n",
    "        \n",
    "        return sample_indices"
   ],
   "id": "83c4d7426d03005a",
   "outputs": [],
   "execution_count": 13
  },
  {
   "metadata": {
    "ExecuteTime": {
     "end_time": "2024-08-13T12:30:17.985069Z",
     "start_time": "2024-08-13T12:30:17.227693Z"
    }
   },
   "cell_type": "code",
   "source": [
    "forest = SequentialRandomForestClassifier(\n",
    "    criterion = 'entropy',\n",
    "    class_weight = 'balanced_subsample',\n",
    "    random_state = 42,\n",
    "    n_estimators = 100,\n",
    "    max_features = 3, # early stopping\n",
    "    min_weight_fraction_leaf = 0.05, # early stopping\n",
    "    oob_score = True\n",
    ")\n",
    "\n",
    "forest_fit = forest.fit(\n",
    "    X = X_train, \n",
    "    y = y_train, \n",
    "    sample_weight = avg_uniqueness.loc[X_train.index].to_numpy().reshape(1, -1)[0]\n",
    ")"
   ],
   "id": "a5d9eef3ff80a740",
   "outputs": [],
   "execution_count": 14
  },
  {
   "metadata": {
    "ExecuteTime": {
     "end_time": "2024-08-13T12:29:16.873510Z",
     "start_time": "2024-08-13T12:29:15.308923Z"
    }
   },
   "cell_type": "code",
   "source": [
    "from FinancialMachineLearning.cross_validation.cross_validation import get_train_times, get_embargo_times\n",
    "\n",
    "train_times, test_times = triple_barrier_event.loc[:'2019'], triple_barrier_event.loc['2019':]"
   ],
   "id": "af3db5d99589d53f",
   "outputs": [],
   "execution_count": 5
  },
  {
   "metadata": {
    "ExecuteTime": {
     "end_time": "2024-08-13T12:29:31.514936Z",
     "start_time": "2024-08-13T12:29:30.276556Z"
    }
   },
   "cell_type": "code",
   "source": "train_times = get_train_times(train_times['t1'], test_times['t1'])",
   "id": "6f4d6e345bcf683e",
   "outputs": [],
   "execution_count": 6
  },
  {
   "metadata": {
    "ExecuteTime": {
     "end_time": "2024-08-13T12:29:34.247373Z",
     "start_time": "2024-08-13T12:29:34.234574Z"
    }
   },
   "cell_type": "code",
   "source": "train_times.head()",
   "id": "b5b4db3f8d2d9328",
   "outputs": [
    {
     "data": {
      "text/plain": [
       "Date\n",
       "2000-01-07   2000-01-11\n",
       "2000-01-10   2000-01-12\n",
       "2000-01-11   2000-01-12\n",
       "2000-01-12   2000-01-13\n",
       "2000-01-13   2000-01-19\n",
       "Name: t1, dtype: datetime64[ns]"
      ]
     },
     "execution_count": 7,
     "metadata": {},
     "output_type": "execute_result"
    }
   ],
   "execution_count": 7
  },
  {
   "metadata": {
    "ExecuteTime": {
     "end_time": "2024-08-13T12:29:44.517412Z",
     "start_time": "2024-08-13T12:29:44.505732Z"
    }
   },
   "cell_type": "code",
   "source": [
    "from FinancialMachineLearning.cross_validation.cross_validation import PurgedKFold\n",
    "\n",
    "purged_k_fold = PurgedKFold(\n",
    "    n_splits = 10,\n",
    "    samples_info_sets = triple_barrier_event['t1'].loc[X_train.index],\n",
    "    pct_embargo = 0.01\n",
    ")"
   ],
   "id": "2dc7fa0927b1ea71",
   "outputs": [],
   "execution_count": 8
  },
  {
   "metadata": {
    "ExecuteTime": {
     "end_time": "2024-08-13T12:29:54.825940Z",
     "start_time": "2024-08-13T12:29:49.269070Z"
    }
   },
   "cell_type": "code",
   "source": [
    "from FinancialMachineLearning.cross_validation.cross_validation import cross_val_score\n",
    "from sklearn.metrics import log_loss\n",
    "\n",
    "cross_validation_score = cross_val_score(\n",
    "    classifier = forest,\n",
    "    X = X_train,\n",
    "    y = y_train,\n",
    "    sample_weight = avg_uniqueness.loc[X_train.index].to_numpy().reshape(1, -1)[0],\n",
    "    cv_gen = purged_k_fold,\n",
    "    scoring = log_loss\n",
    ")"
   ],
   "id": "d032346c396bfdb8",
   "outputs": [],
   "execution_count": 9
  },
  {
   "metadata": {
    "ExecuteTime": {
     "end_time": "2024-08-13T12:34:50.535246Z",
     "start_time": "2024-08-13T12:34:50.402220Z"
    }
   },
   "cell_type": "code",
   "source": [
    "import matplotlib.pyplot as plt\n",
    "\n",
    "fig, ax = plt.subplots(figsize = (8, 4))\n",
    "ax.bar(\n",
    "    range(10),\n",
    "    -cross_validation_score,\n",
    "    width = 0.75,\n",
    "    alpha = 0.7,\n",
    "    edgecolor = 'none'\n",
    ")\n",
    "for spine in ax.spines.values():\n",
    "    spine.set_visible(False)\n",
    "ax.grid(False)\n",
    "ax.yaxis.grid(True, ls = ':', alpha = 0.5)\n",
    "plt.axhline(\n",
    "    y = np.mean(-cross_validation_score),\n",
    "    ls = '-.',\n",
    "    color = 'lightgray',\n",
    "    alpha = 0.8,\n",
    "    label = f'mean = {np.mean(-cross_validation_score) * 100 : .2f}%'\n",
    ")\n",
    "plt.legend()\n",
    "plt.title('Purged Cross Validation Scores | Random Forest | Ticker : AAPL')\n",
    "plt.show()"
   ],
   "id": "ba3c13d431c2411f",
   "outputs": [
    {
     "data": {
      "text/plain": [
       "<Figure size 800x400 with 1 Axes>"
      ],
      "image/png": "[encoded data removed]"
     },
     "metadata": {},
     "output_type": "display_data"
    }
   ],
   "execution_count": 30
  }
 ],
 "metadata": {
  "kernelspec": {
   "display_name": "Python 3",
   "language": "python",
   "name": "python3"
  },
  "language_info": {
   "codemirror_mode": {
    "name": "ipython",
    "version": 2
   },
   "file_extension": ".py",
   "mimetype": "text/x-python",
   "name": "python",
   "nbconvert_exporter": "python",
   "pygments_lexer": "ipython2",
   "version": "2.7.6"
  }
 },
 "nbformat": 4,
 "nbformat_minor": 5
}
