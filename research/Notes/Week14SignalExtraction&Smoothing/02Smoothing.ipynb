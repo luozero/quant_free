{
 "cells": [
  {
   "metadata": {},
   "cell_type": "markdown",
   "source": "## Smoothing",
   "id": "764a59b4b8f35fbf"
  },
  {
   "cell_type": "code",
   "execution_count": null,
   "id": "initial_id",
   "metadata": {
    "collapsed": true
   },
   "outputs": [],
   "source": [
    ""
   ]
  },
  {
   "metadata": {},
   "cell_type": "markdown",
   "source": "### 1. LOESS Smoothing",
   "id": "1343c6978fa30095"
  },
  {
   "metadata": {},
   "cell_type": "code",
   "outputs": [],
   "execution_count": null,
   "source": "",
   "id": "d70ea51565d1da5c"
  },
  {
   "metadata": {},
   "cell_type": "markdown",
   "source": "### 2. Kalman Smoothing",
   "id": "83bcc43b932d075e"
  },
  {
   "metadata": {},
   "cell_type": "code",
   "outputs": [],
   "execution_count": null,
   "source": "",
   "id": "9d56b2177b509d32"
  },
  {
   "metadata": {},
   "cell_type": "markdown",
   "source": "### 3. Fourier Smoothing",
   "id": "63b13f1fcfd7bd0e"
  },
  {
   "metadata": {},
   "cell_type": "code",
   "outputs": [],
   "execution_count": null,
   "source": "",
   "id": "49f32d6923281027"
  }
 ],
 "metadata": {
  "kernelspec": {
   "display_name": "Python 3",
   "language": "python",
   "name": "python3"
  },
  "language_info": {
   "codemirror_mode": {
    "name": "ipython",
    "version": 2
   },
   "file_extension": ".py",
   "mimetype": "text/x-python",
   "name": "python",
   "nbconvert_exporter": "python",
   "pygments_lexer": "ipython2",
   "version": "2.7.6"
  }
 },
 "nbformat": 4,
 "nbformat_minor": 5
}
