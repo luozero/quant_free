{
 "cells": [
  {
   "metadata": {},
   "cell_type": "markdown",
   "source": "## Filtering",
   "id": "2b934510bf49a0e4"
  },
  {
   "cell_type": "code",
   "id": "initial_id",
   "metadata": {
    "collapsed": true
   },
   "source": "",
   "outputs": [],
   "execution_count": null
  },
  {
   "metadata": {},
   "cell_type": "markdown",
   "source": "### 1. Moving Average",
   "id": "9e796169654df1b"
  },
  {
   "metadata": {},
   "cell_type": "code",
   "source": "",
   "id": "dad01c4002cfdfcb",
   "outputs": [],
   "execution_count": null
  },
  {
   "metadata": {},
   "cell_type": "markdown",
   "source": "### 2. HP Filtering",
   "id": "587a064793239b6c"
  },
  {
   "metadata": {},
   "cell_type": "code",
   "source": "",
   "id": "48125dcd14734697",
   "outputs": [],
   "execution_count": null
  },
  {
   "metadata": {},
   "cell_type": "markdown",
   "source": "### 3. Kalman Filtering",
   "id": "466f9e21b261956a"
  },
  {
   "metadata": {},
   "cell_type": "code",
   "source": "",
   "id": "91dea5ef296eb4c5",
   "outputs": [],
   "execution_count": null
  }
 ],
 "metadata": {
  "kernelspec": {
   "display_name": "Python 3",
   "language": "python",
   "name": "python3"
  },
  "language_info": {
   "codemirror_mode": {
    "name": "ipython",
    "version": 2
   },
   "file_extension": ".py",
   "mimetype": "text/x-python",
   "name": "python",
   "nbconvert_exporter": "python",
   "pygments_lexer": "ipython2",
   "version": "2.7.6"
  }
 },
 "nbformat": 4,
 "nbformat_minor": 5
}
