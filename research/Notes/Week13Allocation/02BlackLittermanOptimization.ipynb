{
 "cells": [
  {
   "metadata": {},
   "cell_type": "markdown",
   "source": [
    "### Black Litterman Optimization\n",
    "\n",
    "이 절에서는 Black Litterman Model의 두 가지 버전에 대한 번개 같은 검토를 제시한다. Black Litterman Model에 대한 검토는 전혀 포괄적이지 않으며 독자들은 참고 문헌에서 더 정교한 검토를 찾을 수 있다. 첫 번째 섹션에서는 Black & Litterman의 원래 제안에 대해 논의하고 두 번째 섹션에서는 Meucci가 제안한 변형에 대해 논의한다. 두 모델은 투자자가 자신의 견해를 통합하고자 하는 방식에 차이가 있다. 원래 Black Litterman Model에서 투자자는 자산의 선형 조합의 expected drift(또는 특정 포트폴리오의 drift)에 대한 견해를 지정한다. 그 후 Meucci는 Drift 대신 자산 수익률에 Prior 믿음과 투자자 견해가 직접 지정되는 모델의 사소한 수정을 제안했다. 실제로 이 두 가지 접근 방식은 성과 특성이 다른 매우 다른 포트폴리오를 산출한다.\n",
    "이 글에서는 기존의 Black and Litterman이 제안한 원래의 모델을 BL Model-I로, Meucci가 논의한 변형을 BL Model-II로 언급할 것이다. 이제 이 두 모델에 대한 검토를 제시할 것이다."
   ],
   "id": "d0cfdedac8c051f"
  },
  {
   "metadata": {
    "ExecuteTime": {
     "end_time": "2024-07-31T14:06:34.730084Z",
     "start_time": "2024-07-31T14:06:32.452093Z"
    }
   },
   "cell_type": "code",
   "source": [
    "import numpy as np\n",
    "import pandas as pd\n",
    "import matplotlib.pyplot as plt\n",
    "import seaborn as sns\n",
    "from pypfopt import risk_models, expected_returns, BlackLittermanModel, EfficientFrontier\n",
    "import yfinance as yf\n",
    "\n",
    "TICKERS = ['AAPL','GOOGL','XOM','WMT','V','NVDA','JPM','F']\n",
    "START_DATE = '2010-01-01'\n",
    "END_DATE = pd.to_datetime('today')\n",
    "\n",
    "data = yf.download(\n",
    "    TICKERS, \n",
    "    start = START_DATE, \n",
    "    end = END_DATE,\n",
    "    progress = False,\n",
    "    interval = '1d'\n",
    ")['Close']"
   ],
   "id": "fb7229d0e6fae76f",
   "outputs": [],
   "execution_count": 42
  },
  {
   "metadata": {},
   "cell_type": "markdown",
   "source": [
    "#### 1. Original Black Litterman Model\n",
    "\n",
    "BL Model-I에 대한 자세한 논의는 여기까지 진행하겠지만 BL Model-I의 가정과 그 기본 가정과 관련된 모델의 측면을 검토할 가치가 있다.\n",
    "\n",
    "**Assumption 1** : 관측 가능한 자산 수익률($\\vec{R}$)은 평균($\\vec{\\mu}R$)을 중심으로 하는 Gaussian Distribution을 따른다고 가정하고 수익률의 공분산은 $\\mathscr{C}_R$로 표시한다. 수학적으로,\n",
    "\n",
    "$$\\vec{R} \\sim \\mathcal{N} \\left( \\vec{\\mu}_R, \\mathscr{C}_R\\right), \\qquad \\vec{\\mu}_R \\in \\mathbb{R}^{N_a}, \\mathscr{C}_R \\in \\text{Sym}_{N_a}^{++}(\\mathbb{R})$$\n",
    "\n",
    "여기서 $\\vec{\\mu}$은 drift이고, $\\mathscr{C}$는 수익률의 공분산이고, $\\text{Sym}_{N_a}^{++}(\\mathbb{R})$는 모든 대칭적인 실수 $N × N$ 양의 정행렬의 집합이다. 자산 수익률의 Gaussian 가정이 실제 데이터에 의해 완전히 확증되는 것은 아니지만, 수학적 편의를 제공하며, 수리 금융 문헌에서 비교적 일반적인 가정이다. $\\vec{\\mu}_R$과 $\\mathscr{C}_R$은 관측되지 않는 양이므로 추정할 필요가 있다. 우리는 $\\vec{\\mu}_R$을 $\\widehat{\\vec{\\mu}}_R$로, $\\text{Cov}\\left( \\vec{R} \\vert \\widehat{\\vec{\\mu}}_R \\right)$를 $\\widehat{\\mathscr{C}}_R$로 각각 추정한다. 원래 BL 모형에서 $\\widehat{\\vec{\\mu}}_R$의 추정치는 불확실한 것으로 가정하고, 다음을 또 가정한다."
   ],
   "id": "eec4c8302b3698dd"
  },
  {
   "metadata": {},
   "cell_type": "markdown",
   "source": [
    "**Assumption 2** : drift $\\widehat{\\vec{\\mu}}_R$의 추정치는 공분산 $\\mathscr{C}_d$를 갖는 정규 분포로 가정한다.\n",
    "\n",
    "$$\\widehat{\\vec{\\mu}}_R = \\vec{\\mu}_d + \\vec{\\epsilon}_d \\qquad \\text{ where  } \\vec{\\epsilon}_d \\sim \\mathcal{N} \\left( \\vec{0}_{N_a}, \\mathscr{C}_d\\right)$$\n",
    "\n",
    "여기서 $\\vec{\\mu}_d \\in \\mathbb{R}^{N_a}$는 추정된 수익률 drift의 기대값이고, $\\mathscr{C}_d \\in \\text{Sym}_{N_a}^{++} \\left( \\mathbb{R} \\right)$는 추정된 수익률의 drift의 공분산이며, $\\vec{0}_{N_a}$는 0벡터 또는 $\\mathbb{R}^{N_a}$와 $\\vec{\\epsilon}_d$의 원점을 나타내며 추정의 불확실성으로 인한 불확실성을 모델링한다. 여기서 $\\mathscr{C}_R \\neq \\widehat{\\mathscr{C}}_R \\equiv \\text{Cov} \\left( \\vec{R} \\vert \\widehat{\\mu}_R \\right)$은 $\\widehat{\\vec{\\mu}}_R$의 불확실성이 $\\mathscr{C}_R$에 기여한다는 것을 주의하자. 실제로, $\\mathscr{C}_R = \\widehat{\\mathscr{C}}_R + \\mathscr{C}_d$이다.\n",
    "\n",
    "다음 예제는 통계적으로 $\\vec{\\mu}_d$와 $\\mathscr{C}_d$를 구하기 위한 간단한 접근법을 제공한다. 과거 표본 평균은 수익률의 drift$(\\widehat{\\vec{\\mu}}_R)$를 단순하게 추정한 것이다. 드리프트의 다른 추정치는 표본 데이터를 resampling하여 얻은 여러 Bootstrap된 표본의 평균으로 계산할 수 있다. 이 경우 $\\vec{\\mu}_d$는 Bootstrap aggregated mean이고 $\\mathscr{C}_d$는 drift의 공분산을 Bootstrap aggregation한 것이다. 그러나 이러한 과거 수익률을 이용한 drift 추정 방법은 투자자 견해를 통합할 수 없으며 견해가 없는 경우에도 drift 추정치로 사용하기에 불만족스러운 것으로 간주되는 경우가 많다. Black & Litterman은 투자자 특정 견해가 없는 경우(즉, 모든 투자자 견해가 동일함) drift $\\vec{\\mu}_d$를 추정하기 위한 논거를 제공한다. 이러한 논거는 다음 가정에서 논의될 것이다."
   ],
   "id": "ca61621bf56cbf2b"
  },
  {
   "metadata": {},
   "cell_type": "markdown",
   "source": [
    "**Assumption 3** : 모든 투자자가 동일한 견해를 가지고 있다면, 모든 투자자의 포지션은 시장(또는 관련 벤치마크 포트폴리오) 가중치 $\\vec{w}_{\\text{BM}}$과 일치한다. 모든 투자자가 평균 위험 회피 계수 $\\gamma_R$을 사용하여 가중치를 결정하면, 아래와 같이 Markowitz 최적화 조건을 반전시켜 기준 또는 벤치마크 가중치($\\vec{w}_{\\text{BM}}$)로부터 expected drift $\\vec{\\mu}_d$를 얻는다.\n",
    "\n",
    "$$\\vec{\\mu}_d = r_f \\vec{e} + \\gamma_R \\mathscr{C}_R \\vec{w}_{\\text{BM}} = r_f \\vec{e} + \\gamma_R \\left( \\widehat{\\mathscr{C}}_R + \\mathscr{C}_d\\right) \\vec{w}_{\\text{BM}}$$\n",
    "\n",
    "여기서 $r_f$는 risk free rate이다. 위 식은 모든 참가자가 동일한 정보를 가지고 자산배분에 동일한 방법론을 사용하는 완전 균형 상태에 있을 때 자산 수익률의 drift를 설명하기 때문에 \"균형\" 모형이라고 한다. 일반적으로 공분산 행렬 $\\widehat{\\mathscr{C}}_R$ 및 예상 drift $\\vec{\\mu}_d$의 다른 추정치는 평균 분산 기반 효용 함수와 다른 reverse optimization procedure를 통해 얻을 수 있다. $\\vec{\\mu}_R$의 공분산이 $\\vec{R}$의 조건부 공분산에 비례한다는 것으로 가정한다. 즉,\n",
    "\n",
    "$$\\mathscr{C}_d = \\tau \\widehat{\\mathscr{C}}_R$$\n",
    "\n",
    "여기서 $\\tau$는 수많은 투자가들의 견해들로부터 받은 임의의 scalar parameter이다. $\\vec{\\mu}_d$의 경우 $0 \\leq \\tau \\leq 1$은 $\\widehat{\\vec{\\mu}}_R$ 또는 $\\vec{\\mu}_R$의 합리적인 추정치라는 점에 유의할 필요가 있다. 왜냐하면 기대 수익률의 평균이 수익률의 평균보다 더 정확하게 추정될 수 있기 때문이다. 만약 길이 $T$의 관측치의 표본 평균을 이용하여 균형 모형의 drift를 계산한다면, 우리는 $\\tau = \\frac{1}{T}$ (독립성을 가정할 때)을 가질 것이다. 균형 모형의 불확실성과 표본 추정치를 비교하는 Calibration 절차에 기초하여 $\\tau$을 구한다면 $\\tau \\approx \\frac{1}{T}$를 설정하는 것이 타당할 것으로 보인다."
   ],
   "id": "b3ab3736b55bc7f1"
  },
  {
   "metadata": {},
   "cell_type": "markdown",
   "source": [
    "**Assumption 4** : 투자자와 전문가는 시장(또는 벤치마크)과 일치하지 않는 견해($v_d$)를 가질 수 있으며, 이를 자신의 배분 과정에 포함시키기를 원할 수 있다. 투자자는 $\\mathscr{C}_{v_d}$를 지정하여 불확실성 수준도 제공해야 한다는 점에 유의한다. 보다 일반적으로 투자자는 비정상일 수 있는 기대 수익의 분포를 지정하여 전망을 지정한다. 원래 Black Litterman Model(BL Model-Ⅰ)에서 전망에 대한 분포는 Gaussian Distribution으로 가정한다. 즉, 투자자는 자산의 기대 drift(기대 수익에 대한 기대)에 대한 전망을 지정한다.\n",
    "\n",
    "$$\\mathscr{P}.\\widehat{\\vec{\\mu}}_R = \\vec{\\nu}_{v_d} + \\vec{\\eta}_{v_d}, \\qquad \\text{where  } \\vec{\\eta}_{v_d} \\sim \\mathcal{N} \\left( \\vec{0}_{N_v}, \\mathscr{C}_{v_d}\\right)$$\n",
    "\n",
    "여기서 $\\mathscr{P} \\in \\mathbb{R}^{N_v \\times N_a}$는 특정 자산 또는 자산의 일부 조합에 대한 예상 수익률을 지정하는 view matrix이며, $\\vec{\\nu}_{v_d} \\in \\mathbb{R}^{N_v}, \\mathscr{C}_{v_d} \\in \\text{Sym}_{N_v}^{++}(\\mathbb{R})$과 $N_v$는 view의 개수이다. View Matrix $\\mathscr{P}$의 각 행($\\vec{\\mathscr{p}}_r$로 표시)은 포트폴리오 $\\Pi_r$의 가중치를 나타내며 이 포트폴리오의 기대 수익에 대한 기대값은 $\\nu_{v_d, r}$이다. 여기서 포트폴리오 $\\Pi_r$은 Long only Portfolio가 될 수 있고(심지어는 단일 자산에 대해서도 가능하다), Long-Short Portfolio가 될 수도 있다. 원칙적으로 $\\mathscr{P}$는 동일한 자산에 대해 여러 견해가 존재하기 때문에 악화될 수 있음을 유의하자. 만약 투자자의 견해들이 독립적이라면, view들과 연계된 공분산 행렬 $\\mathscr{C}_{v_d}$는 대각 행렬이다. 일반적으로, view matrix $\\mathscr{P}$ 및 view drift $\\vec{\\nu}_{v_d}$를 $\\mathscr{C}_v$ 대각(diagonal)으로 변환하는 것이 가능하다. 그러나 이 Note의 목적을 위해 $\\mathscr{C}_{v_d}$에 대해 어떠한 가정도 하지 않고 대칭 non-diagonal matrix가 되도록 할 것이다. 이미 view covariance matrix인 $\\mathscr{C}_{v_d}$를 나타내기 위해 suffix $v_d$를 사용하여 view가 drift에 지정되어 있음을 강조했다."
   ],
   "id": "8053c6ca87627247"
  },
  {
   "metadata": {
    "ExecuteTime": {
     "end_time": "2024-07-31T14:06:41.566702Z",
     "start_time": "2024-07-31T14:06:41.061304Z"
    }
   },
   "cell_type": "code",
   "source": [
    "spx = yf.download(\n",
    "    \"^GSPC\", \n",
    "    start = START_DATE, \n",
    "    end = END_DATE,\n",
    "    progress = False,\n",
    "    interval = '1d'\n",
    ")['Close']"
   ],
   "id": "4ade7182dcc4d697",
   "outputs": [],
   "execution_count": 43
  },
  {
   "metadata": {
    "ExecuteTime": {
     "end_time": "2024-07-31T14:06:43.228082Z",
     "start_time": "2024-07-31T14:06:41.568205Z"
    }
   },
   "cell_type": "code",
   "source": [
    "market_cap = pd.Series(index = data.columns)\n",
    "\n",
    "for asset in data.columns :\n",
    "    stock = yf.Ticker(asset)\n",
    "    mc = stock.info.get('marketCap')\n",
    "    market_cap.loc[asset] = mc"
   ],
   "id": "bd27349384048262",
   "outputs": [],
   "execution_count": 44
  },
  {
   "metadata": {
    "ExecuteTime": {
     "end_time": "2024-07-31T14:06:43.249231Z",
     "start_time": "2024-07-31T14:06:43.232180Z"
    }
   },
   "cell_type": "code",
   "source": [
    "market_weights = market_cap / market_cap.sum()\n",
    "mu_market = spx.pct_change().mean() * 252\n",
    "sigma_market = spx.pct_change().std() * np.sqrt(252)"
   ],
   "id": "9dff4f850cc76f27",
   "outputs": [],
   "execution_count": 45
  },
  {
   "metadata": {
    "ExecuteTime": {
     "end_time": "2024-07-31T14:06:43.255659Z",
     "start_time": "2024-07-31T14:06:43.250971Z"
    }
   },
   "cell_type": "code",
   "source": [
    "rf = 0.0525\n",
    "sharpe_ratio = (mu_market - rf) / sigma_market"
   ],
   "id": "e5387756b198e7f3",
   "outputs": [],
   "execution_count": 46
  },
  {
   "metadata": {
    "ExecuteTime": {
     "end_time": "2024-07-31T14:06:43.262916Z",
     "start_time": "2024-07-31T14:06:43.259443Z"
    }
   },
   "cell_type": "code",
   "source": [
    "delta = sharpe_ratio / sigma_market\n",
    "tau = 0.05"
   ],
   "id": "14f720a41cd6e372",
   "outputs": [],
   "execution_count": 47
  },
  {
   "metadata": {
    "ExecuteTime": {
     "end_time": "2024-07-31T14:06:43.269775Z",
     "start_time": "2024-07-31T14:06:43.265003Z"
    }
   },
   "cell_type": "code",
   "source": [
    "viewdict = {\n",
    "    'AAPL' : 0.2,\n",
    "    'GOOGL' : 0.1,\n",
    "    'JPM' : 0.1,\n",
    "    'NVDA' : 0.3\n",
    "}"
   ],
   "id": "3f13abfdae0c8db6",
   "outputs": [],
   "execution_count": 48
  },
  {
   "metadata": {
    "ExecuteTime": {
     "end_time": "2024-07-31T14:06:44.563021Z",
     "start_time": "2024-07-31T14:06:44.548042Z"
    }
   },
   "cell_type": "code",
   "source": [
    "model = BlackLittermanModel(\n",
    "    cov_matrix = data.pct_change().cov(), \n",
    "    pi = \"market\", \n",
    "    market_caps = market_cap,\n",
    "    absolute_views = viewdict,\n",
    "    delta = delta,\n",
    "    tau = tau\n",
    ")"
   ],
   "id": "c97deecd713aa437",
   "outputs": [],
   "execution_count": 49
  },
  {
   "metadata": {
    "ExecuteTime": {
     "end_time": "2024-07-31T14:06:44.823262Z",
     "start_time": "2024-07-31T14:06:44.817749Z"
    }
   },
   "cell_type": "code",
   "source": [
    "bl_returns = model.bl_returns()\n",
    "bl_cov = model.bl_cov()"
   ],
   "id": "87720c043a22e6e0",
   "outputs": [],
   "execution_count": 50
  },
  {
   "metadata": {
    "ExecuteTime": {
     "end_time": "2024-07-31T14:06:45.130220Z",
     "start_time": "2024-07-31T14:06:45.125457Z"
    }
   },
   "cell_type": "code",
   "source": [
    "ef = EfficientFrontier(bl_returns, bl_cov)\n",
    "ef.add_constraint(lambda w: w >= 0)"
   ],
   "id": "708d334dcfb937a8",
   "outputs": [],
   "execution_count": 51
  },
  {
   "metadata": {
    "ExecuteTime": {
     "end_time": "2024-07-31T14:06:45.529461Z",
     "start_time": "2024-07-31T14:06:45.512514Z"
    }
   },
   "cell_type": "code",
   "source": [
    "max_sharpe_weight = ef.max_sharpe()\n",
    "cleaned_weights = ef.clean_weights()"
   ],
   "id": "bee934a3f9166639",
   "outputs": [],
   "execution_count": 52
  },
  {
   "metadata": {
    "ExecuteTime": {
     "end_time": "2024-07-31T14:09:42.309950Z",
     "start_time": "2024-07-31T14:09:42.162197Z"
    }
   },
   "cell_type": "code",
   "source": [
    "fig, ax = plt.subplots(figsize = (8, 5))\n",
    "plt.bar(\n",
    "    cleaned_weights.keys(),\n",
    "    cleaned_weights.values()\n",
    ")\n",
    "for spine in ax.spines.values():\n",
    "    spine.set_visible(False)\n",
    "ax.grid(False)\n",
    "ax.yaxis.grid(True, ls = ':', alpha = 0.5) \n",
    "plt.title('Black Litterman Optimization')\n",
    "plt.show()"
   ],
   "id": "5273ea7b4e4e5dac",
   "outputs": [
    {
     "data": {
      "text/plain": [
       "<Figure size 800x500 with 1 Axes>"
      ],
      "image/png": "[encoded data removed]"
     },
     "metadata": {},
     "output_type": "display_data"
    }
   ],
   "execution_count": 57
  },
  {
   "metadata": {
    "ExecuteTime": {
     "end_time": "2024-07-31T14:10:48.715511Z",
     "start_time": "2024-07-31T14:10:48.698466Z"
    }
   },
   "cell_type": "code",
   "source": "ef.portfolio_performance(verbose=True)",
   "id": "1d009317ec1faa6d",
   "outputs": [
    {
     "name": "stdout",
     "output_type": "stream",
     "text": [
      "Expected annual return: 14.5%\n",
      "Annual volatility: 1.8%\n",
      "Sharpe Ratio: 6.79\n"
     ]
    },
    {
     "data": {
      "text/plain": [
       "(0.14457411977271972, 0.018334692020328797, 6.79444844967108)"
      ]
     },
     "execution_count": 58,
     "metadata": {},
     "output_type": "execute_result"
    }
   ],
   "execution_count": 58
  },
  {
   "metadata": {},
   "cell_type": "markdown",
   "source": [
    "#### 2. A Variant of the Black-Litterman Model\n",
    "\n",
    "Meucci(2008)에서는 전문가 견해를 기대수익률 대신에 원래의 자산 수익률에 직접적으로 표현할 수 있음을 제시하였다. Meucci는 BL Model-Ⅰ과 같이 추정된 drift에 대한 견해를 명시하는 것은 결과가 완전히 일치함에도 불구하고 제한적인 상황에서 종종 \"counterintuitive\"이라고 주장한다. 예를 들어, posterior distribution의 공분산은 견해가 완전히 맞는 경우뿐만 아니라 정보가 전혀 없는 경우에도 한계에서 사소한 $\\tau$ 의존성을 갖는다. 이러한 $\\tau$ 의존성은 추정된 drift가 불확실하다는 사실에서 비롯되며, 이는 모형 가정에 내재되어 있다.\n",
    "\n",
    "Meucci(2008)는 보다 직관적인 제한 행동을 갖는 견해를 통합하는 대안적인 방법을 제안하였다. 이 논문에서는 BL Model-I 및 BL Model-II와 유사한 기하학적 방법을 개발하여 기하학적 방법 중 하나가 \"직관적이지 않은\" 결과를 산출하는지 확인할 것이다. 따라서 이 두 접근법의 기본 가정의 차이를 이해하는 것이 필수적인 것으로 보인다."
   ],
   "id": "77f9a228a2d2534f"
  },
  {
   "metadata": {},
   "cell_type": "markdown",
   "source": [
    "**Assumption 1** : 원래 Black-Litterman 모형에서와 같이 관측 가능한 자산 수익률($\\vec{R}$)은 평균($\\vec{\\mu}_R$)을 중심으로 하는 Gaussian Distribution을 따른다고 가정하고 수익률의 공분산은 $\\mathscr{C}_R$로 표시한다. 수학적으로,\n",
    "\n",
    "$$\\vec{R} \\sim \\mathcal{N}\\left( \\vec{\\mu}_R, \\mathscr{C}_R\\right), \\qquad \\vec{\\mu}_R \\in \\mathbb{R}^{N_a}, \\mathscr{C}_R \\in \\text{Sym}_{N_a}^{++}(\\mathbb{R})$$\n",
    "\n",
    "이다. 기존의 Black Litterman Model과 달리 $\\vec{\\mu}_R = r_f \\vec{e} + \\gamma_R \\mathscr{C}_R \\vec{w}_{\\text{BM}}$으로 가정하여 Random Variable로 모델링할 필요가 없다."
   ],
   "id": "965871b620b8c307"
  },
  {
   "metadata": {},
   "cell_type": "markdown",
   "source": [
    "**Assumption 2** : 아래와 같이 예상수익률 대신 직접 자산수익률에 대해 전문가의 견해를 제시한다.\n",
    "\n",
    "$$\\mathscr{P}. \\vec{R} = \\vec{\\nu}_v + \\vec{\\eta}_{v_R}, \\qquad \\text{ where  } \\vec{\\eta}_v \\sim \\mathcal{N} \\left( \\vec{0}_{N_v}, \\mathscr{C}_{v_R}\\right)$$\n",
    "\n",
    "View covariance matirx를 나타내기 위해 suffix $\\mathcal{V}_R$을 사용하여 View가 자산 수익률에 직접 지정되어 있음을 강조했다. 이 변형된 Black Litterman 모형에서는 아래와 같이 수익률의 분포가 갱신된다.\n",
    "\n",
    "$$\\mathbb{P} \\left( \\vec{R} \\vert \\mathcal{V}_R\\right) = \\phi \\left( \\vec{\\mu}_{\\text{BL}^\\prime}^{(\\vec{R})}, \\mathscr{C}_{\\text{BL}^\\prime}^{(\\vec{R})}\\right)$$\n",
    "\n",
    "여기서\n",
    "\n",
    "$$\\vec{\\mu}_{\\text{BL}^\\prime}^{(\\vec{R})} = \\left( \n",
    "\\widehat{\\mathscr{C}}_{R}^{-1} + \\mathscr{P}^T \\mathscr{C}_{v_R}^{-1} \\mathscr{P}\n",
    "\\right)^{-1} \\left( \n",
    "\\widehat{\\mathscr{C}}_{R}^{-1} \\widehat{\\vec{\\mu}}_R + \\mathscr{P}^T \\mathscr{C}_{v_R}^{-1} \\vec{\\nu}_v\n",
    "\\right)$$\n",
    "\n",
    "$$\n",
    "\\mathscr{C}_{\\text{BL}^\\prime}^{(\\vec{R})} = \\left( \n",
    "\\widehat{\\mathscr{C}}_R^{-1} + \\mathscr{P}^T \\mathscr{C}_{v_R}^{-1} \\mathscr{P}\n",
    "\\right)^{-1}\n",
    "$$\n",
    "\n",
    "여기서 $\\widehat{\\mathscr{C}}_R$은 수익률($\\mathscr{C}_R$)의 공분산에 대한 추정치이고 $\\vec{\\vec{\\mu}}_R$은 어떤 견해를 통합하기 전에 자산의 기대수익률에 대한 추정치이다. 위의 결과는 업데이트가 Black-Litterman 모형에서 도출되는 것과 동일한 방식으로 얻을 수 있다. 이 모형에서는 모수 $\\tau$가 나타나지 않는다는 점에 유의한다. 이 도출에 대한 자세한 내용은 Meucci(2008)에서 확인할 수 있다."
   ],
   "id": "176295d5a0bd6cee"
  },
  {
   "metadata": {},
   "cell_type": "code",
   "outputs": [],
   "execution_count": null,
   "source": "",
   "id": "b626a18d9d4ec0a5"
  },
  {
   "metadata": {},
   "cell_type": "markdown",
   "source": [
    "#### 3. A Simple Gedanken experiment\n",
    "\n",
    "전체 투자 가능한 투자 유니버스에 단 하나의 자산 $N_a = 1$이 있다고 가정하자. 또한 투자자가 이 자산에 대한 견해를 가지고 있다고 가정하자($N_v = 1$), 이는 자산의 기대 수익률(BL Model-I에서와 같이) 또는 직접적인 자산 수익률(BL Model-II에서와 같이)에 대한 견해일 수 있다.\n",
    "\n",
    "먼저 BL Model-I에 대한 분석을 제시할 것이다. 자산수익률($R$)의 분산 추정치를 $\\hat{\\sigma}_R^2$로, 자산의 기대수익률($\\hat{\\mu}_R$)의 분산 추정치를 $\\sigma_d^2$로 나타낼 것이다. 우리가 가지고 있는 BL I model의 표기법에는 $\\widehat{\\mathscr{C}}_R = \\widehat{\\sigma}_R^2 = \\text{Var}(R | \\hat{\\mu}_R)$ 및 $\\mathscr{C}_d = \\sigma_d^2 = \\tau \\hat{\\sigma}_R^2$가 있다. Drift에 대한 투자자의 견해는 $\\nu_v$로 표시하고 이에 대응하는 분산은 $\\sigma_v^2$로 표시한다. BL Model-I를 사용하여 투자자의 견해를 통합한 후 업데이트된 자산의 기대수익률은 다음과 같다.\n",
    "\n",
    "$$\\mu_{\\text{BL}} = \\left( \\frac{\\sigma_{v_d}^2 \\hat{\\mu}_R + \\sigma_d^2 \\nu_{v_d}}{\\sigma_{v_d}^2 + \\sigma_d^2}\\right) \\equiv \\left( \\frac{\\hat{\\sigma}_R^2 \\sigma_{v_d}^2}{\\tau \\hat{\\sigma}_R^2 + \\sigma_{v_d}^2}\\right)$$\n",
    "\n",
    "위의 결과는 단일 자산과 단일 뷰에 대한 식 $\\mathbb{P} \\left( \\vec{R} \\vert \\mathcal{V}_d\\right) = \\phi \\left( \\vec{\\mu}_{\\text{BL}}, \\widehat{\\mathscr{C}}_{\\vec{R} | v_d}\\right)$를 직접 적용한 것이다. 식 $\\mu_{\\text{BL}} = \\left( \\frac{\\sigma_{v_d}^2 \\hat{\\mu}_R + \\sigma_d^2 \\nu_{v_d}}{\\sigma_{v_d}^2 + \\sigma_d^2}\\right) \\equiv \\left( \\frac{\\hat{\\sigma}_R^2 \\sigma_{v_d}^2}{\\tau \\hat{\\sigma}_R^2 + \\sigma_{v_d}^2}\\right)$의 결과는 이 gedanken experiment에 충분하지만, 아래의 업데이트된 수익률 분산도 (완전성을 위해) 또한 제시하기로 한다.\n",
    "\n",
    "$$\\hat{\\sigma}_{\\vec{R} | v_d}^2 = \\hat{\\sigma}_R^2 + \\sigma_{\\text{BL}}^2, \\qquad \\text{ where  } \\sigma_{\\text{BL}}^2 = \\tau \\left( \\frac{\\hat{\\sigma}_R^2 \\sigma_{v_d}^2}{\\tau \\hat{\\sigma}_R^2 + \\sigma_{v_d}^2}\\right)$$\n",
    "\n",
    "$\\mathcal{N} \\left( \\mu_{\\text{ML}}, \\sigma_{\\text{BL}}^2\\right)$은 기대 자산 수익률(drift)의 업데이트된 분포이고, $\\mathcal{N} \\left( \\mu_{\\text{ML}}, \\sigma_{\\vec{R}|v_d}^2\\right)$은 자산 수익률의 업데이트된 분포임을 기억하자. 이제 우리는 이 gedanken experiment의 주요 결과를 제시할 것이다.\n",
    "\n",
    "투자자가 자신의 견해에 대해 완전히 확신한다면, 사후 분포가 투자자의 견해 분포와 일치할 것이라는 직관적인 기대가 된다. 그러나 식 $\\mu_{\\text{BL}} = \\left( \\frac{\\sigma_{v_d}^2 \\hat{\\mu}_R + \\sigma_d^2 \\nu_{v_d}}{\\sigma_{v_d}^2 + \\sigma_d^2}\\right) \\equiv \\left( \\frac{\\hat{\\sigma}_R^2 \\sigma_{v_d}^2}{\\tau \\hat{\\sigma}_R^2 + \\sigma_{v_d}^2}\\right)$와 식 $\\hat{\\sigma}_{\\vec{R} | v_d}^2 = \\hat{\\sigma}_R^2 + \\sigma_{\\text{BL}}^2$을 보면 BL Model-I는 $\\tau \\in [0,1]$ 이후로 어떤 $\\tau$ 값에 대해서도 투자자의 전망에 대한 분포를 업데이트된 분포로 생성할 수 없음이 분명하다. 인위적으로 높은 $\\tau$ 값을 선택하여($\\tau \\rightarrow \\infty$) 업데이트된 분포를 견해 분포와 일치시키는 것은 $\\sigma_d^2 \\gg \\hat{\\sigma}_R^2$를 의미하므로 비논리적이다. 따라서 $\\tau$를 조정하여 사후적인 견해 분포를 얻을 수 없으므로 $\\tau$는 투자자의 개인적 신뢰를 지정하는 parameter가 아니다. 사실상 기대 수익률의 추정치에 대한 \"error - bars\"를 지정하는 parameter이다. 투자자가 불확실성 수준으로 예상 이동에 대한 견해를 제공하기 때문에 $\\sigma_{v_d}^2$도 조정할 수 없다. 일부 연구 논문에서 $\\tau$ 종속 요인 또는 $\\tau$에 의한 $\\sigma_{v_d}^2$는 균형 모형의 관측점 수에 대한 견해 생성에 사용되는 관측점 수의 비율로 정의할 수 있다. 이 경우 $\\tau \\rightarrow \\infty$를 사용하면 견해 분포가 Direc Delta로 변환된다. 요약하면, $\\tau$는 \"균형\" 분포와 견해 분포 사이를 보간하는 데 사용될 수 없다.\n",
    "\n",
    "BL Model-II의 경우 위 식들을 보면 조정 가능한 모수가 존재하지 않음이 명확하다. 따라서 BL Model-II에서도 View Covariance Matrix을 준설하는 자료 없이 투자자의 View 분포를 사후로 구할 수 없다.\n",
    "이 간단한 gedanken experiment의 도움으로, 우리는 BL Model-I과 BL Model-II 모두 모수나 데이터 왜곡에 대한 비논리적인 선택을 하지 않고 투자자의 관점 분포를 사후 분포로 재현할 수 없음을 입증했다. 우리는 기하학적 접근법이 투자자에게 신뢰 수준을 조정할 수 있는 유연성을 제공하여 기하학적 사후 분포가 투자자의 관점 분포와 일치함을 보여줄 것이다.\n"
   ],
   "id": "ffa05d5189489860"
  },
  {
   "metadata": {},
   "cell_type": "code",
   "outputs": [],
   "execution_count": null,
   "source": "",
   "id": "dede28430f45daa4"
  }
 ],
 "metadata": {
  "kernelspec": {
   "display_name": "Python 3",
   "language": "python",
   "name": "python3"
  },
  "language_info": {
   "codemirror_mode": {
    "name": "ipython",
    "version": 2
   },
   "file_extension": ".py",
   "mimetype": "text/x-python",
   "name": "python",
   "nbconvert_exporter": "python",
   "pygments_lexer": "ipython2",
   "version": "2.7.6"
  }
 },
 "nbformat": 4,
 "nbformat_minor": 5
}
