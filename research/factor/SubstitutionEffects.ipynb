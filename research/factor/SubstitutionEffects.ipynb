{
 "cells": [
  {
   "cell_type": "markdown",
   "id": "aa86b6cf7f61cc83",
   "metadata": {},
   "source": [
    "## Substitution Effect\n",
    "\n",
    "The **substitution effect** occurs when two features share predictive information. This effect can bias the results of feature importance methods. In the case of **MDI** (Mean Decrease in Impurity), the importance of the two identical features may be halved because they are randomly selected with the same probability. In the case of **MDA** (Mean Decrease in Accuracy), the effect of shuffling one feature may be compensated for by the effect of another feature, leading to the possibility that two equally important features are considered **unimportant**."
   ]
  },
  {
   "cell_type": "code",
   "execution_count": 1,
   "id": "695f9203e7ad8b58",
   "metadata": {
    "ExecuteTime": {
     "end_time": "2024-05-26T11:57:22.006954Z",
     "start_time": "2024-05-26T11:57:22.002453Z"
    }
   },
   "outputs": [],
   "source": [
    "import pandas as pd\n",
    "import numpy as np\n",
    "\n",
    "def get_test_data(\n",
    "        n_features : int = 40,\n",
    "        n_informative : int = 10,\n",
    "        n_redundant : int = 10,\n",
    "        n_samples : int = 10000,\n",
    "        random_state : int = 42,\n",
    "        sigma_std : float = 0.0\n",
    ") : \n",
    "    from sklearn.datasets import make_classification\n",
    "    \n",
    "    np.random.seed(random_state)\n",
    "    \n",
    "    trnsX, cont = make_classification(\n",
    "        n_samples = n_samples,\n",
    "        n_features = n_features,\n",
    "        n_informative = n_informative,\n",
    "        n_redundant = n_redundant,\n",
    "        random_state = random_state,\n",
    "        shuffle = False\n",
    "    )\n",
    "    \n",
    "    df0_index = pd.date_range(start = pd.to_datetime('today') - pd.to_timedelta(n_samples, unit = 'd'), \n",
    "                              periods = n_samples, freq = 'B')\n",
    "\n",
    "    trnsX, cont = pd.DataFrame(trnsX, index = df0_index), pd.Series(cont, index=df0_index).to_frame('bin')\n",
    "\n",
    "    df0 = ['I_' + str(i) for i in range(n_informative)] + ['R_' + str(i) for i in range(n_redundant)]\n",
    "    df0 += ['N_' + str(i) for i in range(n_features - len(df0))]\n",
    "    \n",
    "    trnsX.columns = df0\n",
    "    cont['w'] = 1. / cont.shape[0]\n",
    "    cont['t1'] = pd.Series(cont.index, index = cont.index)\n",
    "    \n",
    "    return trnsX, cont"
   ]
  },
  {
   "cell_type": "code",
   "execution_count": 2,
   "id": "210fab1450c2c6f8",
   "metadata": {
    "ExecuteTime": {
     "end_time": "2024-05-26T11:57:23.323479Z",
     "start_time": "2024-05-26T11:57:22.008712Z"
    }
   },
   "outputs": [],
   "source": [
    "trnsX, cont = get_test_data(\n",
    "    n_features = 20, \n",
    "    n_informative = 5, \n",
    "    n_redundant = 5, \n",
    "    n_samples = 1000\n",
    ")"
   ]
  },
  {
   "cell_type": "markdown",
   "id": "4453c205c5176a72",
   "metadata": {},
   "source": [
    "### Clustered Feature Importance\n",
    "### **Clustered Feature Importance**  \n",
    "\n",
    "Clustered Feature Importance is an alternative approach to analyzing feature importance that eliminates the need for **baseline shifts**. This method involves **clustering similar features** and applying feature importance analysis at the **cluster level**, thereby mitigating the **substitution effect** (i.e., when two features provide overlapping information and reduce each other’s importance). This approach often leads to **more intuitive results** since it focuses on feature groupings rather than individual features.\n",
    "\n",
    "---\n",
    "\n",
    "### **Steps of the Clustered Feature Importance Algorithm**\n",
    "\n",
    "1. **Identify the Number and Composition of Feature Clusters**  \n",
    "   - Use clustering algorithms such as **K-means, hierarchical clustering**, or **spectral clustering** to group similar features based on statistical similarity or correlation.  \n",
    "   - The goal is to form **non-overlapping clusters**, ensuring that each cluster contains features with related information.\n",
    "\n",
    "2. **Apply Feature Importance Analysis to Clusters Instead of Individual Features**  \n",
    "   - Once the clusters are formed, the model computes **feature importance scores** at the **cluster level** rather than for each individual feature.  \n",
    "   - This aggregation reduces redundancy among features within clusters, making the results easier to interpret.  \n",
    "\n",
    "---\n",
    "\n",
    "### **Benefits of Clustered Feature Importance**  \n",
    "\n",
    "- **Reduces Redundancy:** By analyzing importance at the group level, the method alleviates the substitution effect, which can occur when features provide overlapping information.\n",
    "- **Intuitive Interpretation:** Since the analysis focuses on groups of similar features, the results are often more aligned with domain intuition and easier to communicate.\n",
    "- **No Baseline Shift Required:** Unlike Shapley values, which involve computing contributions against a baseline, Clustered Feature Importance works directly on feature partitions, simplifying the analysis.\n",
    "\n",
    "---\n",
    "\n",
    "### **Example Workflow**\n",
    "\n",
    "1. **Cluster Identification**  \n",
    "   Use hierarchical clustering to group features based on correlations:\n",
    "\n",
    "   ```python\n",
    "   from sklearn.cluster import AgglomerativeClustering\n",
    "   from scipy.spatial.distance import pdist, squareform\n",
    "   import numpy as np\n",
    "\n",
    "   # Compute the correlation matrix and distance matrix\n",
    "   corr_matrix = np.corrcoef(X.T)\n",
    "   dist_matrix = squareform(1 - corr_matrix)\n",
    "\n",
    "   # Perform clustering\n",
    "   clustering = AgglomerativeClustering(n_clusters=3, affinity='precomputed', linkage='average')\n",
    "   clusters = clustering.fit_predict(dist_matrix)\n",
    "   ```\n",
    "\n",
    "2. **Cluster-Level Feature Importance**  \n",
    "   Aggregate the features within each cluster and compute their collective importance:\n",
    "\n",
    "   ```python\n",
    "   import shap\n",
    "\n",
    "   # Train a model\n",
    "   model = xgb.XGBRegressor().fit(X, y)\n",
    "\n",
    "   # Create SHAP explainer and compute cluster-level importance\n",
    "   explainer = shap.Explainer(model, X)\n",
    "\n",
    "   for cluster_id in np.unique(clusters):\n",
    "       cluster_features = X[:, clusters == cluster_id]\n",
    "       shap_values = explainer(cluster_features)\n",
    "       shap.summary_plot(shap_values, cluster_features, feature_names=X.columns[clusters == cluster_id])\n",
    "   ```\n",
    "\n",
    "---\n",
    "\n",
    "### **Conclusion**  \n",
    "\n",
    "Clustered Feature Importance provides a **more robust and interpretable** way to analyze feature importance by working at the cluster level. This method ensures that overlapping features do not mask each other's importance and delivers **intuitive insights** without the complexity of baseline shifts. It is particularly useful for datasets with many correlated features."
   ]
  },
  {
   "cell_type": "markdown",
   "id": "872ef74de352be75",
   "metadata": {},
   "source": [
    "#### Clustered Mean Decrease Importance"
   ]
  },
  {
   "cell_type": "code",
   "execution_count": 6,
   "id": "initial_id",
   "metadata": {
    "ExecuteTime": {
     "end_time": "2024-05-26T11:57:31.167337Z",
     "start_time": "2024-05-26T11:57:23.324773Z"
    },
    "collapsed": true
   },
   "outputs": [],
   "source": [
    "from sklearn.ensemble import RandomForestClassifier\n",
    "from sklearn.metrics import accuracy_score\n",
    "from quant_free.finml.feature_importance import *\n",
    "\n",
    "forest = RandomForestClassifier(\n",
    "    criterion = 'entropy',\n",
    "    class_weight = 'balanced_subsample',\n",
    "    min_weight_fraction_leaf = 0.0,\n",
    "    random_state = 42,\n",
    "    n_estimators = 1000,\n",
    "    max_features = 1,\n",
    "    oob_score = True,\n",
    "    n_jobs = 1\n",
    ")\n",
    "\n",
    "fit = forest.fit(X = trnsX, y = cont['bin'])\n",
    "oob_score = fit.oob_score_"
   ]
  },
  {
   "cell_type": "markdown",
   "id": "ab46cb4a3d3dc511",
   "metadata": {},
   "source": [
    "#### Clustered Mean Decrease Accuracy"
   ]
  },
  {
   "cell_type": "code",
   "execution_count": 7,
   "id": "9705ee80ef47c119",
   "metadata": {
    "ExecuteTime": {
     "end_time": "2024-05-26T11:57:31.174817Z",
     "start_time": "2024-05-26T11:57:31.169289Z"
    }
   },
   "outputs": [],
   "source": [
    "def group_mean_std(df0, clstrs) -> pd.DataFrame :\n",
    "    out = pd.DataFrame(columns = ['mean','std'])\n",
    "    for i, j in clstrs.items() :\n",
    "        df1 = df0[j].sum(axis = 1)\n",
    "        out.loc['C_' + str(i), 'mean'] = df1.mean()\n",
    "        out.loc['C_' + str(i), 'std'] = df1.std() * df1.shape[0] ** (-0.5)\n",
    "    return out\n",
    "\n",
    "def clustered_mean_decrease_importance(fit, feature_names, clstrs) -> pd.DataFrame :\n",
    "    df0 = {\n",
    "        i : tree.feature_importances_ for i, tree in enumerate(fit.estimators_)\n",
    "    }\n",
    "    df0 = pd.DataFrame.from_dict(df0, orient = 'index')\n",
    "    df0.columns = feature_names\n",
    "    df0 = df0.replace(0, np.nan)\n",
    "    imp = group_mean_std(df0, clstrs)\n",
    "    imp /= imp['mean'].sum()\n",
    "    return imp"
   ]
  },
  {
   "cell_type": "code",
   "execution_count": 8,
   "id": "46681742f2dda40d",
   "metadata": {
    "ExecuteTime": {
     "end_time": "2024-05-26T11:57:51.720514Z",
     "start_time": "2024-05-26T11:57:31.176011Z"
    }
   },
   "outputs": [],
   "source": [
    "from quant_free.finml.machine_learning.clustering import clusterKMeansBase\n",
    "corr0, clusters, silh = clusterKMeansBase(trnsX.corr(), maxNumClusters = 10, n_init = 10)"
   ]
  },
  {
   "cell_type": "code",
   "execution_count": 9,
   "id": "36d90810f2d2d49f",
   "metadata": {
    "ExecuteTime": {
     "end_time": "2024-05-26T11:57:52.266970Z",
     "start_time": "2024-05-26T11:57:51.722808Z"
    }
   },
   "outputs": [
    {
     "data": {
      "image/png": "[encoded data removed]",
      "text/plain": [
       "<Figure size 640x480 with 2 Axes>"
      ]
     },
     "metadata": {},
     "output_type": "display_data"
    }
   ],
   "source": [
    "import seaborn as sns\n",
    "import matplotlib.pyplot as plt\n",
    "sns.heatmap(corr0, cmap = 'viridis')\n",
    "plt.show()"
   ]
  },
  {
   "cell_type": "code",
   "execution_count": 10,
   "id": "4ec9079ad31899f7",
   "metadata": {
    "ExecuteTime": {
     "end_time": "2024-05-26T11:57:52.310766Z",
     "start_time": "2024-05-26T11:57:52.268016Z"
    }
   },
   "outputs": [],
   "source": [
    "c_mdi = clustered_mean_decrease_importance(fit, trnsX.columns, clstrs = clusters)"
   ]
  },
  {
   "cell_type": "code",
   "execution_count": 11,
   "id": "cd0dd7ca8640bf29",
   "metadata": {
    "ExecuteTime": {
     "end_time": "2024-05-26T11:57:52.321751Z",
     "start_time": "2024-05-26T11:57:52.314316Z"
    }
   },
   "outputs": [
    {
     "data": {
      "text/html": [
       "<div>\n",
       "<style scoped>\n",
       "    .dataframe tbody tr th:only-of-type {\n",
       "        vertical-align: middle;\n",
       "    }\n",
       "\n",
       "    .dataframe tbody tr th {\n",
       "        vertical-align: top;\n",
       "    }\n",
       "\n",
       "    .dataframe thead th {\n",
       "        text-align: right;\n",
       "    }\n",
       "</style>\n",
       "<table border=\"1\" class=\"dataframe\">\n",
       "  <thead>\n",
       "    <tr style=\"text-align: right;\">\n",
       "      <th></th>\n",
       "      <th>mean</th>\n",
       "      <th>std</th>\n",
       "    </tr>\n",
       "  </thead>\n",
       "  <tbody>\n",
       "    <tr>\n",
       "      <th>C_0</th>\n",
       "      <td>0.351261</td>\n",
       "      <td>0.003162</td>\n",
       "    </tr>\n",
       "    <tr>\n",
       "      <th>C_1</th>\n",
       "      <td>0.648739</td>\n",
       "      <td>0.003162</td>\n",
       "    </tr>\n",
       "  </tbody>\n",
       "</table>\n",
       "</div>"
      ],
      "text/plain": [
       "         mean       std\n",
       "C_0  0.351261  0.003162\n",
       "C_1  0.648739  0.003162"
      ]
     },
     "execution_count": 11,
     "metadata": {},
     "output_type": "execute_result"
    }
   ],
   "source": [
    "c_mdi"
   ]
  }
 ],
 "metadata": {
  "kernelspec": {
   "display_name": "openbb",
   "language": "python",
   "name": "python3"
  },
  "language_info": {
   "codemirror_mode": {
    "name": "ipython",
    "version": 3
   },
   "file_extension": ".py",
   "mimetype": "text/x-python",
   "name": "python",
   "nbconvert_exporter": "python",
   "pygments_lexer": "ipython3",
   "version": "3.9.5"
  }
 },
 "nbformat": 4,
 "nbformat_minor": 5
}
